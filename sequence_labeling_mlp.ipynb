{
  "cells": [
    {
      "cell_type": "markdown",
      "metadata": {
        "colab_type": "text",
        "id": "view-in-github"
      },
      "source": [
        "<a href=\"https://colab.research.google.com/github/TurkuNLP/intro-to-nlp/blob/master/sequence_labeling_mlp.ipynb\" target=\"_parent\"><img src=\"https://colab.research.google.com/assets/colab-badge.svg\" alt=\"Open In Colab\"/></a>"
      ]
    },
    {
      "cell_type": "markdown",
      "metadata": {
        "id": "arPRayYSpzJs"
      },
      "source": [
        "# Sequence labeling (POS tagging) with MLP\n",
        "\n",
        "This notebook builds upon the [classification with MLP notebook](https://github.com/TurkuNLP/intro-to-nlp/blob/master/mlp_imdb_hf_dset_and_trainer.ipynb) and shows how to implement a basic sequence labeling method."
      ]
    },
    {
      "cell_type": "markdown",
      "metadata": {
        "id": "LDZZUKzfPRWT"
      },
      "source": [
        "---\n",
        "\n",
        "# Setup\n",
        "\n",
        "Install the required Python packages using [pip](https://en.wikipedia.org/wiki/Pip):\n",
        "\n",
        "* [`transformers`](https://huggingface.co/docs/transformers/index) is a popular deep learning package primarily on top of torch\n",
        "* [`datasets`](https://huggingface.co/docs/datasets/) provides support for loading, creating, and manipulating datasets\n",
        "* [`evaluate`](https://huggingface.co/docs/evaluate/index) is a library of performance metrics (like accuracy etc)"
      ]
    },
    {
      "cell_type": "code",
      "execution_count": 1,
      "metadata": {
        "colab": {
          "base_uri": "https://localhost:8080/"
        },
        "id": "fKPHBYptQDsK",
        "outputId": "90f84b29-9c0f-41d7-b526-b89002921f3d"
      },
      "outputs": [],
      "source": [
        "# !pip install --quiet transformers[torch] datasets evaluate"
      ]
    },
    {
      "cell_type": "markdown",
      "metadata": {
        "id": "_fCdfQfNNzwt"
      },
      "source": [
        "---\n",
        "\n",
        "# Get and prepare data\n",
        "\n",
        "*   Let us work with the venerable, if somewhat dated [CoNLL'03 shared task](https://aclanthology.org/W03-0419.pdf) English data\n",
        "*   These are English news articles, and have annotation for POS, syntactic chunks, and named entities (in the IOB format)\n",
        "\n",
        "The data as originally distributed for the 2003 shared task has the following format:\n",
        "\n",
        "```\n",
        "Only RB B-NP O\n",
        "France NNP I-NP B-LOC\n",
        "and CC I-NP O\n",
        "Britain NNP I-NP B-LOC\n",
        "backed VBD B-VP O\n",
        "Fischler NNP B-NP B-PER\n",
        "'s POS I-NP O\n",
        "proposal NN I-NP O\n",
        ". . O O\n",
        "```\n",
        "\n",
        "Here, the four space-separated columns are token text, POS tag, chunk tag, and NER tag. The goal of the original task is to predict the NER tags using the other information as features, but the dataset can be used to study predicting the other columns too.\n",
        "\n",
        "The dataset happens to be in the HF datasets collection, so we can grab it from there\n"
      ]
    },
    {
      "cell_type": "code",
      "execution_count": 2,
      "metadata": {
        "colab": {
          "base_uri": "https://localhost:8080/",
          "height": 576,
          "referenced_widgets": [
            "3b7e4bb9a3334cf3b0d7a09629c5d703",
            "d641e90a212744199f7d98af7791e79e",
            "fed0221314094363a37114517e917dcf",
            "18e0eb340f5d4a8da8fad50c21f8161e",
            "198f8ea06b2a4fae89fc5449c1fc61a6",
            "21a3f45ce81f4430bfa0dfda3969d9d0",
            "8db7b271b6024c5dbf9c17ec222dd93a",
            "5bb9cded71ae4cc5901e27fe1f9b7566",
            "622e5f4f4ed9471fa78a6652eb1b9812",
            "874542c532694e1fa4cc46b91f9edb48",
            "19fc9de7cfb9483b85b20f11b8871f31",
            "fd65ed9d7f8e43c083334c70096ab97f",
            "69c38d47a26d45cfb977e77f963d571e",
            "7ec7d73c10ea4605b756cdc888987a8d",
            "654e236e93cd467a98e28a2aca9f2feb",
            "60690be8d9ee41769a5cbdb7d6950c92",
            "28e4758925884be698ee23806cdda147",
            "291dc23cd40f4f6094c25854f8851bbd",
            "bb3c99c42fd14e339e7c07b9b1a88e25",
            "f1f90b6362c54e9f835c40ff50c54fef",
            "9d1d0c33523945d69667e45dbb67d536",
            "6c202e42e2414cd4a5f871466cb1391d",
            "773d0c2f62c74a3296538a664e507b3b",
            "43882e01df1c41469fed318c2b525ada",
            "e6013f778a6e4851ae56acffbd4e0d74",
            "ca7893865fff415f96b042c6cbd5904c",
            "e85560080b6c47d7a6169dfd76389ecf",
            "436144cba76d4eb69d2f97d8cd9d49c1",
            "a58c9522f7584b3ca1c9b053596a1646",
            "5558da787ca240d4a90cc924f15b9f8b",
            "a8530e4977094ee2b8ba29de3778e6ce",
            "181e26da59174240a9999520ee035a5c",
            "16acb247a1ff4fd0b362cfd08b0f23ec",
            "10d247583d8b45188a8cf1c8554a4e33",
            "123fe0647fd84174ae030017d4dcbf6c",
            "6aa220e9a81d4d1296de9f91926246b4",
            "27d6857a0f5b4301a9c4fec5325960d2",
            "da99f48993ee4c168b2076ae7a22861f",
            "9e351ef8fd2b4710ad73ba9aa2fbc4a2",
            "e07368c90ef548aa8e54e3106b9df600",
            "c5c91ac98d244093a4a7c20ae82d2759",
            "ca1e23759298416b939ebb8b3e1d5538",
            "16ce1d1f13ce4dfa9b3279cfb9e4623a",
            "51d00181226b4b949519f76583c1dd78",
            "d94f7c6b4c874299854dfa90495ad550",
            "b43511af23c2499bb841866a5a68f1ef",
            "6f559852c65246d095e3e215c5a9822f",
            "15559040fe784a788f7b22318db88c7f",
            "4bd9daf59897421dbc159f10f7bf5443",
            "d28a065b2ea349ff9f7ea8424aa1f262",
            "81b1a02bf7844ca5a6c113b608be69f1",
            "218cb93226544b42ab5b30559d7b94f5",
            "d3efa9f02b9d4225a7f7e1c3a007e536",
            "47054244877848089ba0e7a3941cdd2b",
            "9d17a82715934d49b38451400545f5b4",
            "5c53618db6d14cb1b6bb8cb2942d12c7",
            "4f70fa88519840ab950adc0dd1001c4c",
            "6f4b6c928c1b4efc968c381e2a66debd",
            "4688f548bad14c89a66754abbceb46ef",
            "4acad9ad458041db9496c1e4e485ae6d",
            "1623a7a53e5749788522778f9702f231",
            "b954a5a576004a9c99f8806676048c58",
            "d683c8909f394c1c963cb30f12abae4b",
            "0c42261b35624129a92a2ea4cf96c31e",
            "43c4ed260c37423aa7791ea95bb444de",
            "66551a4c938344699adb3484bf7e91bd"
          ]
        },
        "id": "QxmgHoKDTN2_",
        "outputId": "8b01909a-2df0-4ffb-c205-db99b812c93f"
      },
      "outputs": [
        {
          "name": "stderr",
          "output_type": "stream",
          "text": [
            "c:\\Python310\\lib\\site-packages\\tqdm\\auto.py:21: TqdmWarning: IProgress not found. Please update jupyter and ipywidgets. See https://ipywidgets.readthedocs.io/en/stable/user_install.html\n",
            "  from .autonotebook import tqdm as notebook_tqdm\n"
          ]
        },
        {
          "name": "stdout",
          "output_type": "stream",
          "text": [
            "DatasetDict({\n",
            "    train: Dataset({\n",
            "        features: ['id', 'tokens', 'pos_tags', 'chunk_tags', 'ner_tags'],\n",
            "        num_rows: 14041\n",
            "    })\n",
            "    validation: Dataset({\n",
            "        features: ['id', 'tokens', 'pos_tags', 'chunk_tags', 'ner_tags'],\n",
            "        num_rows: 3250\n",
            "    })\n",
            "    test: Dataset({\n",
            "        features: ['id', 'tokens', 'pos_tags', 'chunk_tags', 'ner_tags'],\n",
            "        num_rows: 3453\n",
            "    })\n",
            "})\n"
          ]
        }
      ],
      "source": [
        "import torch\n",
        "import transformers\n",
        "import datasets\n",
        "\n",
        "from pprint import pprint    # pretty-print\n",
        "\n",
        "dataset = datasets.load_dataset(\"conll2003\")\n",
        "\n",
        "print(dataset)"
      ]
    },
    {
      "cell_type": "code",
      "execution_count": 3,
      "metadata": {
        "colab": {
          "base_uri": "https://localhost:8080/"
        },
        "id": "OEtbYIyLg3r7",
        "outputId": "266c123b-cfc5-41aa-e281-9acf994dd1cc"
      },
      "outputs": [
        {
          "name": "stdout",
          "output_type": "stream",
          "text": [
            "{'chunk_tags': [11, 12, 12, 12, 21, 11, 11, 12, 0],\n",
            " 'id': '12',\n",
            " 'ner_tags': [0, 5, 0, 5, 0, 1, 0, 0, 0],\n",
            " 'pos_tags': [30, 22, 10, 22, 38, 22, 27, 21, 7],\n",
            " 'tokens': ['Only',\n",
            "            'France',\n",
            "            'and',\n",
            "            'Britain',\n",
            "            'backed',\n",
            "            'Fischler',\n",
            "            \"'s\",\n",
            "            'proposal',\n",
            "            '.']}\n"
          ]
        }
      ],
      "source": [
        "pprint(dataset[\"train\"][12])"
      ]
    },
    {
      "cell_type": "markdown",
      "metadata": {
        "id": "v9TMq-d3qFEJ"
      },
      "source": [
        "As you can see above, the various labels (POS, NER and chunk tags) are converted into IDs in this dataset. We can access the textual labels of these tags through the dataset `features`:"
      ]
    },
    {
      "cell_type": "code",
      "execution_count": 4,
      "metadata": {
        "id": "u0kflH3RpHKY"
      },
      "outputs": [],
      "source": [
        "POS_TAG_NAMES = dataset['train'].features['pos_tags'].feature.names\n",
        "NER_TAG_NAMES = dataset['train'].features['ner_tags'].feature.names\n",
        "CHUNK_TAG_NAMES = dataset['train'].features['chunk_tags'].feature.names"
      ]
    },
    {
      "cell_type": "markdown",
      "metadata": {
        "id": "O3-QCWMvrazc"
      },
      "source": [
        "We can then create mappings from names to IDs and back as Python dictionaries:"
      ]
    },
    {
      "cell_type": "code",
      "execution_count": 5,
      "metadata": {
        "id": "tqi_FN2yq7MN"
      },
      "outputs": [],
      "source": [
        "POS2ID = { n: i for i, n in enumerate(POS_TAG_NAMES) }\n",
        "ID2POS = { i: n for i, n in enumerate(POS_TAG_NAMES) }\n",
        "\n",
        "NER2ID = { n: i for i, n in enumerate(NER_TAG_NAMES) }\n",
        "ID2NER = { i: n for i, n in enumerate(NER_TAG_NAMES) }\n",
        "\n",
        "CHUNK2ID = { n: i for i, n in enumerate(CHUNK_TAG_NAMES) }\n",
        "ID2CHUNK = { i: n for i, n in enumerate(CHUNK_TAG_NAMES) }"
      ]
    },
    {
      "cell_type": "markdown",
      "metadata": {
        "id": "sUI-FiAssDLL"
      },
      "source": [
        "This is what these mappings look like:"
      ]
    },
    {
      "cell_type": "code",
      "execution_count": 6,
      "metadata": {
        "colab": {
          "base_uri": "https://localhost:8080/"
        },
        "id": "XAYSIMWjsFiY",
        "outputId": "2d72bdcc-6a50-45f7-d5a9-7d52e9fc2292"
      },
      "outputs": [
        {
          "name": "stdout",
          "output_type": "stream",
          "text": [
            "{'O': 0, 'B-PER': 1, 'I-PER': 2, 'B-ORG': 3, 'I-ORG': 4, 'B-LOC': 5, 'I-LOC': 6, 'B-MISC': 7, 'I-MISC': 8}\n"
          ]
        }
      ],
      "source": [
        "print(NER2ID)"
      ]
    },
    {
      "cell_type": "code",
      "execution_count": 7,
      "metadata": {
        "colab": {
          "base_uri": "https://localhost:8080/"
        },
        "id": "NO4xI0yasHdM",
        "outputId": "689b01fe-87fd-4537-cbef-344d82be07c7"
      },
      "outputs": [
        {
          "name": "stdout",
          "output_type": "stream",
          "text": [
            "{0: 'O', 1: 'B-PER', 2: 'I-PER', 3: 'B-ORG', 4: 'I-ORG', 5: 'B-LOC', 6: 'I-LOC', 7: 'B-MISC', 8: 'I-MISC'}\n"
          ]
        }
      ],
      "source": [
        "print(ID2NER)"
      ]
    },
    {
      "cell_type": "code",
      "execution_count": 8,
      "metadata": {},
      "outputs": [
        {
          "name": "stdout",
          "output_type": "stream",
          "text": [
            "{'\"': 0, \"''\": 1, '#': 2, '$': 3, '(': 4, ')': 5, ',': 6, '.': 7, ':': 8, '``': 9, 'CC': 10, 'CD': 11, 'DT': 12, 'EX': 13, 'FW': 14, 'IN': 15, 'JJ': 16, 'JJR': 17, 'JJS': 18, 'LS': 19, 'MD': 20, 'NN': 21, 'NNP': 22, 'NNPS': 23, 'NNS': 24, 'NN|SYM': 25, 'PDT': 26, 'POS': 27, 'PRP': 28, 'PRP$': 29, 'RB': 30, 'RBR': 31, 'RBS': 32, 'RP': 33, 'SYM': 34, 'TO': 35, 'UH': 36, 'VB': 37, 'VBD': 38, 'VBG': 39, 'VBN': 40, 'VBP': 41, 'VBZ': 42, 'WDT': 43, 'WP': 44, 'WP$': 45, 'WRB': 46}\n"
          ]
        }
      ],
      "source": [
        "print(POS2ID)"
      ]
    },
    {
      "cell_type": "code",
      "execution_count": 42,
      "metadata": {},
      "outputs": [
        {
          "name": "stdout",
          "output_type": "stream",
          "text": [
            "['O', 'B-PER', 'I-PER', 'B-ORG', 'I-ORG', 'B-LOC', 'I-LOC', 'B-MISC', 'I-MISC']\n"
          ]
        }
      ],
      "source": [
        "print(NER_TAG_NAMES)"
      ]
    },
    {
      "cell_type": "markdown",
      "metadata": {
        "id": "jUqKBvtpvt3G"
      },
      "source": [
        "Let's also add in explanations from Penn Treebank for the POS tags:"
      ]
    },
    {
      "cell_type": "code",
      "execution_count": 9,
      "metadata": {
        "id": "EDIG9IkNf_ji"
      },
      "outputs": [],
      "source": [
        "# From the documentation page and from here https://www.ling.upenn.edu/courses/Fall_2003/ling001/penn_treebank_pos.html\n",
        "\n",
        "POS2DESCRIPTION = {\n",
        "    \"CC\": \"Coordinating conjunction\",\n",
        "    \"CD\": \"Cardinal number\",\n",
        "    \"DT\": \"Determiner\",\n",
        "    \"EX\": \"Existential there\",\n",
        "    \"FW\": \"Foreign word\",\n",
        "    \"IN\": \"Preposition or subordinating conjunction\",\n",
        "    \"JJ\": \"Adjective\",\n",
        "    \"JJR\": \"Adjective, comparative\",\n",
        "    \"JJS\": \"Adjective, superlative\",\n",
        "    \"LS\": \"List item marker\",\n",
        "    \"MD\": \"Modal\",\n",
        "    \"NN\": \"Noun, singular or mass\",\n",
        "    \"NNS\": \"Noun, plural\",\n",
        "    \"NNP\": \"Proper noun, singular\",\n",
        "    \"NNPS\": \"Proper noun, plural\",\n",
        "    \"PDT\": \"Predeterminer\",\n",
        "    \"POS\": \"Possessive ending\",\n",
        "    \"PRP\": \"Personal pronoun\",\n",
        "    \"PRP$\": \"Possessive pronoun\",\n",
        "    \"RB\": \"Adverb\",\n",
        "    \"RBR\": \"Adverb, comparative\",\n",
        "    \"RBS\": \"Adverb, superlative\",\n",
        "    \"RP\": \"Particle\",\n",
        "    \"SYM\": \"Symbol\",\n",
        "    \"TO\": \"to\",\n",
        "    \"UH\": \"Interjection\",\n",
        "    \"VB\": \"Verb, base form\",\n",
        "    \"VBD\": \"Verb, past tense\",\n",
        "    \"VBG\": \"Verb, gerund or present participle\",\n",
        "    \"VBN\": \"Verb, past participle\",\n",
        "    \"VBP\": \"Verb, non-3rd person singular present\",\n",
        "    \"VBZ\": \"Verb, 3rd person singular present\",\n",
        "    \"WDT\": \"Wh-determiner\",\n",
        "    \"WP\": \"Wh-pronoun\",\n",
        "    \"WP$\": \"Possessive wh-pronoun\",\n",
        "    \"WRB\": \"Wh-adverb\"\n",
        "}"
      ]
    },
    {
      "cell_type": "markdown",
      "metadata": {
        "id": "HRcNtMskyTxq"
      },
      "source": [
        "We can now try to make sense of the tags:"
      ]
    },
    {
      "cell_type": "code",
      "execution_count": 10,
      "metadata": {
        "colab": {
          "base_uri": "https://localhost:8080/"
        },
        "id": "JzQXQI0YiD0_",
        "outputId": "b8b23c5e-52e2-465d-d5f7-747c3fc9fb90"
      },
      "outputs": [
        {
          "name": "stdout",
          "output_type": "stream",
          "text": [
            "Token     NER    Chunk    POS    POS definition\n",
            "--------  -----  -------  -----  ------------------------\n",
            "Only      O      B-NP     RB     Adverb\n",
            "France    B-LOC  I-NP     NNP    Proper noun, singular\n",
            "and       O      I-NP     CC     Coordinating conjunction\n",
            "Britain   B-LOC  I-NP     NNP    Proper noun, singular\n",
            "backed    O      B-VP     VBD    Verb, past tense\n",
            "Fischler  B-PER  B-NP     NNP    Proper noun, singular\n",
            "'s        O      B-NP     POS    Possessive ending\n",
            "proposal  O      I-NP     NN     Noun, singular or mass\n",
            ".         O      O        .      .\n"
          ]
        }
      ],
      "source": [
        "import tabulate\n",
        "\n",
        "e = dataset[\"train\"][12]    # work on the same example\n",
        "\n",
        "table = []\n",
        "for token, pos_id, chunk_id, ner_id in zip(e[\"tokens\"], e[\"pos_tags\"], e[\"chunk_tags\"], e[\"ner_tags\"]):\n",
        "    ner_tag = ID2NER[ner_id]\n",
        "    chunk_tag = ID2CHUNK[chunk_id]\n",
        "    pos_tag = ID2POS[pos_id]\n",
        "    pos_def = POS2DESCRIPTION.get(pos_tag,pos_tag)\n",
        "    table.append([token, ner_tag, chunk_tag, pos_tag, pos_def])\n",
        "\n",
        "print(tabulate.tabulate(table,headers=[\"Token\", \"NER\", \"Chunk\", \"POS\", \"POS definition\"]))"
      ]
    },
    {
      "cell_type": "markdown",
      "metadata": {
        "id": "VXm-E32AdVpo"
      },
      "source": [
        "Note that the data is organized into sentences."
      ]
    },
    {
      "cell_type": "markdown",
      "metadata": {
        "id": "d9WvQiwluhBO"
      },
      "source": [
        "---\n",
        "\n",
        "# Create features\n",
        "\n",
        "We'll define a simple function that takes a token sequence, the index of the focus token, and a window size and generates a few basic explicit features relevant to the task.\n",
        "\n",
        "(Note that as we'll be predicting the POS tag, we won't look at the chunk or NER tags, which would typically only be predicted _after_ predicting POS in a \"traditional\" NLP pipeline)"
      ]
    },
    {
      "cell_type": "code",
      "execution_count": 11,
      "metadata": {
        "id": "6NjCVYHWe32j"
      },
      "outputs": [],
      "source": [
        "def token_features(tokens, pos_tags, index, window_size):\n",
        "    # Generate features for token in position `index` in given list of tokens\n",
        "    features = []\n",
        "\n",
        "    # Context window start and end\n",
        "    window_start = max(0, index-window_size)\n",
        "    window_end = min(index+window_size+1, len(tokens))    # note +1 for range\n",
        "\n",
        "    for i in range(window_start, window_end):\n",
        "          offset = i - index    # relative position\n",
        "          features.append(f\"token[{offset}]={tokens[i]}\")\n",
        "          features.append(f\"pos_tag_of_token[{offset}]={pos_tags[i]}\")\n",
        "\n",
        "    # Example custom feature: does focus token start with an upper-case letter?\n",
        "    if tokens[index][0].isupper():\n",
        "        features.append(\"first-letter-capitalized\")\n",
        "\n",
        "    return features"
      ]
    },
    {
      "cell_type": "markdown",
      "metadata": {
        "id": "k1aEFA2Yg8xO"
      },
      "source": [
        "We can call this function for all tokens in a sentence like so:"
      ]
    },
    {
      "cell_type": "code",
      "execution_count": 12,
      "metadata": {
        "id": "tgTZ5h4hhGFd"
      },
      "outputs": [],
      "source": [
        "def add_features_to_sentence(sentence):\n",
        "    # Collect lists of features for all tokens here\n",
        "    all_features = []\n",
        "\n",
        "    tokens = sentence[\"tokens\"]\n",
        "    pos_tags = sentence[\"pos_tags\"]\n",
        "    for index in range(len(tokens)):\n",
        "        all_features.append(token_features(tokens, pos_tags, index, window_size=3))\n",
        "\n",
        "    return { \"features\": all_features }"
      ]
    },
    {
      "cell_type": "code",
      "execution_count": 13,
      "metadata": {
        "colab": {
          "base_uri": "https://localhost:8080/"
        },
        "id": "VMoD24fQhnRK",
        "outputId": "b449b9ab-8c8c-4ce9-afa0-4e5f4732f36c"
      },
      "outputs": [
        {
          "name": "stdout",
          "output_type": "stream",
          "text": [
            "['token[0]=Only', 'pos_tag_of_token[0]=30', 'token[1]=France', 'pos_tag_of_token[1]=22', 'token[2]=and', 'pos_tag_of_token[2]=10', 'token[3]=Britain', 'pos_tag_of_token[3]=22', 'first-letter-capitalized']\n",
            "['token[-1]=Only', 'pos_tag_of_token[-1]=30', 'token[0]=France', 'pos_tag_of_token[0]=22', 'token[1]=and', 'pos_tag_of_token[1]=10', 'token[2]=Britain', 'pos_tag_of_token[2]=22', 'token[3]=backed', 'pos_tag_of_token[3]=38', 'first-letter-capitalized']\n",
            "['token[-2]=Only', 'pos_tag_of_token[-2]=30', 'token[-1]=France', 'pos_tag_of_token[-1]=22', 'token[0]=and', 'pos_tag_of_token[0]=10', 'token[1]=Britain', 'pos_tag_of_token[1]=22', 'token[2]=backed', 'pos_tag_of_token[2]=38', 'token[3]=Fischler', 'pos_tag_of_token[3]=22']\n",
            "['token[-3]=Only', 'pos_tag_of_token[-3]=30', 'token[-2]=France', 'pos_tag_of_token[-2]=22', 'token[-1]=and', 'pos_tag_of_token[-1]=10', 'token[0]=Britain', 'pos_tag_of_token[0]=22', 'token[1]=backed', 'pos_tag_of_token[1]=38', 'token[2]=Fischler', 'pos_tag_of_token[2]=22', \"token[3]='s\", 'pos_tag_of_token[3]=27', 'first-letter-capitalized']\n",
            "['token[-3]=France', 'pos_tag_of_token[-3]=22', 'token[-2]=and', 'pos_tag_of_token[-2]=10', 'token[-1]=Britain', 'pos_tag_of_token[-1]=22', 'token[0]=backed', 'pos_tag_of_token[0]=38', 'token[1]=Fischler', 'pos_tag_of_token[1]=22', \"token[2]='s\", 'pos_tag_of_token[2]=27', 'token[3]=proposal', 'pos_tag_of_token[3]=21']\n",
            "['token[-3]=and', 'pos_tag_of_token[-3]=10', 'token[-2]=Britain', 'pos_tag_of_token[-2]=22', 'token[-1]=backed', 'pos_tag_of_token[-1]=38', 'token[0]=Fischler', 'pos_tag_of_token[0]=22', \"token[1]='s\", 'pos_tag_of_token[1]=27', 'token[2]=proposal', 'pos_tag_of_token[2]=21', 'token[3]=.', 'pos_tag_of_token[3]=7', 'first-letter-capitalized']\n",
            "['token[-3]=Britain', 'pos_tag_of_token[-3]=22', 'token[-2]=backed', 'pos_tag_of_token[-2]=38', 'token[-1]=Fischler', 'pos_tag_of_token[-1]=22', \"token[0]='s\", 'pos_tag_of_token[0]=27', 'token[1]=proposal', 'pos_tag_of_token[1]=21', 'token[2]=.', 'pos_tag_of_token[2]=7']\n",
            "['token[-3]=backed', 'pos_tag_of_token[-3]=38', 'token[-2]=Fischler', 'pos_tag_of_token[-2]=22', \"token[-1]='s\", 'pos_tag_of_token[-1]=27', 'token[0]=proposal', 'pos_tag_of_token[0]=21', 'token[1]=.', 'pos_tag_of_token[1]=7']\n",
            "['token[-3]=Fischler', 'pos_tag_of_token[-3]=22', \"token[-2]='s\", 'pos_tag_of_token[-2]=27', 'token[-1]=proposal', 'pos_tag_of_token[-1]=21', 'token[0]=.', 'pos_tag_of_token[0]=7']\n"
          ]
        }
      ],
      "source": [
        "for feats in add_features_to_sentence(dataset[\"train\"][12])[\"features\"]:\n",
        "    print(feats)"
      ]
    },
    {
      "cell_type": "markdown",
      "metadata": {
        "id": "c3SlJhk7i8aV"
      },
      "source": [
        "The dataset is organized into sentences, so we can use the above function to add features to the entire dataset as follows.\n",
        "\n",
        "**Note**: unlike e.g. the Python`map` function, [`Dataset.map`](https://huggingface.co/docs/datasets/package_reference/main_classes.html#datasets.Dataset.map) function _updates_ its argument dataset, keeping existing values."
      ]
    },
    {
      "cell_type": "code",
      "execution_count": 14,
      "metadata": {
        "colab": {
          "base_uri": "https://localhost:8080/",
          "height": 113,
          "referenced_widgets": [
            "b6f39c8687e24d4d845407c4b4bb5741",
            "5aac0c3f90bd4eaaab336d32e95841d4",
            "8d9ba153d89f4106afae86a34caeb74c",
            "98962f8f6e274658a8d219d198187a8c",
            "dde04c787f4a4e8cb0d8094614a42377",
            "b36eafd84041471ea8869f881376e4c6",
            "4b688835e91e457ba0c6cb8438c37a5a",
            "00b273c3807a4d8587a37204b4e32cf4",
            "3cbfaf2bf058480ba5ec0d3a5e6b847b",
            "18096f71ee544877a392b0f64ab21311",
            "7b7b1d6c5ef04e82aae7beae6e77ab47",
            "d50e2835a3d34fb699f6a317d42d7318",
            "fe56ab6b6b4e49a69dbd4567f84770fb",
            "7d0753fd498746059025f0ac57ae1b5e",
            "17e7a48d8391420a919011b056f1b213",
            "4f4547c92bfb44f9ae48057f06850640",
            "3379e0e31d8b4910a59f088055aac1fd",
            "37919e0b5832450b8691c01dff07237d",
            "50d9b1286de04449945c8975ce4deb1a",
            "fa09cfcce89e44f2abde7df1fb70c593",
            "fafddeaf3c594e01866277b2a590f53e",
            "77fac2ea13df43eba50f330d60024730",
            "22aac2f873b84627b39cbed6198cc0ac",
            "859fb6032db1426b9f58c9cca015e95b",
            "ca23d35031f34f5fb867df55a0f61a08",
            "05d83b29204e47d6a3ef66917cf0e076",
            "8aa36e1cb75f49cba335620465e56a5c",
            "f5a98279218c40ee92c0b084a81c43ae",
            "3d67d18fe74349ceac9b09aaee132792",
            "2102b4f2da6143d4b39bc5d82796b9c8",
            "8e16a9f33bd7417e85ae46b676a61d8d",
            "cfa7139aa2694dd4b45329d21a16de50",
            "c54417dbd6ea4aff9ce083092a8e59c3"
          ]
        },
        "id": "R9dekapGjNcb",
        "outputId": "57a08c4e-0ab2-4873-bf8e-8f0341dc3f3c"
      },
      "outputs": [
        {
          "name": "stderr",
          "output_type": "stream",
          "text": [
            "Map: 100%|██████████| 14041/14041 [00:03<00:00, 3857.11 examples/s]\n",
            "Map: 100%|██████████| 3250/3250 [00:00<00:00, 3625.27 examples/s]\n",
            "Map: 100%|██████████| 3453/3453 [00:00<00:00, 4013.28 examples/s]\n"
          ]
        }
      ],
      "source": [
        "dataset = dataset.map(add_features_to_sentence)"
      ]
    },
    {
      "cell_type": "markdown",
      "metadata": {
        "id": "Ke-vVsAulwMb"
      },
      "source": [
        "Let's check that one more time:"
      ]
    },
    {
      "cell_type": "code",
      "execution_count": 15,
      "metadata": {
        "colab": {
          "base_uri": "https://localhost:8080/"
        },
        "id": "7zfUEZbDlyeZ",
        "outputId": "b132cf83-57be-442d-d440-82312603f0d8"
      },
      "outputs": [
        {
          "name": "stdout",
          "output_type": "stream",
          "text": [
            "{'chunk_tags': [11, 12, 12, 12, 21, 11, 11, 12, 0],\n",
            " 'features': [['token[0]=Only',\n",
            "               'pos_tag_of_token[0]=30',\n",
            "               'token[1]=France',\n",
            "               'pos_tag_of_token[1]=22',\n",
            "               'token[2]=and',\n",
            "               'pos_tag_of_token[2]=10',\n",
            "               'token[3]=Britain',\n",
            "               'pos_tag_of_token[3]=22',\n",
            "               'first-letter-capitalized'],\n",
            "              ['token[-1]=Only',\n",
            "               'pos_tag_of_token[-1]=30',\n",
            "               'token[0]=France',\n",
            "               'pos_tag_of_token[0]=22',\n",
            "               'token[1]=and',\n",
            "               'pos_tag_of_token[1]=10',\n",
            "               'token[2]=Britain',\n",
            "               'pos_tag_of_token[2]=22',\n",
            "               'token[3]=backed',\n",
            "               'pos_tag_of_token[3]=38',\n",
            "               'first-letter-capitalized'],\n",
            "              ['token[-2]=Only',\n",
            "               'pos_tag_of_token[-2]=30',\n",
            "               'token[-1]=France',\n",
            "               'pos_tag_of_token[-1]=22',\n",
            "               'token[0]=and',\n",
            "               'pos_tag_of_token[0]=10',\n",
            "               'token[1]=Britain',\n",
            "               'pos_tag_of_token[1]=22',\n",
            "               'token[2]=backed',\n",
            "               'pos_tag_of_token[2]=38',\n",
            "               'token[3]=Fischler',\n",
            "               'pos_tag_of_token[3]=22'],\n",
            "              ['token[-3]=Only',\n",
            "               'pos_tag_of_token[-3]=30',\n",
            "               'token[-2]=France',\n",
            "               'pos_tag_of_token[-2]=22',\n",
            "               'token[-1]=and',\n",
            "               'pos_tag_of_token[-1]=10',\n",
            "               'token[0]=Britain',\n",
            "               'pos_tag_of_token[0]=22',\n",
            "               'token[1]=backed',\n",
            "               'pos_tag_of_token[1]=38',\n",
            "               'token[2]=Fischler',\n",
            "               'pos_tag_of_token[2]=22',\n",
            "               \"token[3]='s\",\n",
            "               'pos_tag_of_token[3]=27',\n",
            "               'first-letter-capitalized'],\n",
            "              ['token[-3]=France',\n",
            "               'pos_tag_of_token[-3]=22',\n",
            "               'token[-2]=and',\n",
            "               'pos_tag_of_token[-2]=10',\n",
            "               'token[-1]=Britain',\n",
            "               'pos_tag_of_token[-1]=22',\n",
            "               'token[0]=backed',\n",
            "               'pos_tag_of_token[0]=38',\n",
            "               'token[1]=Fischler',\n",
            "               'pos_tag_of_token[1]=22',\n",
            "               \"token[2]='s\",\n",
            "               'pos_tag_of_token[2]=27',\n",
            "               'token[3]=proposal',\n",
            "               'pos_tag_of_token[3]=21'],\n",
            "              ['token[-3]=and',\n",
            "               'pos_tag_of_token[-3]=10',\n",
            "               'token[-2]=Britain',\n",
            "               'pos_tag_of_token[-2]=22',\n",
            "               'token[-1]=backed',\n",
            "               'pos_tag_of_token[-1]=38',\n",
            "               'token[0]=Fischler',\n",
            "               'pos_tag_of_token[0]=22',\n",
            "               \"token[1]='s\",\n",
            "               'pos_tag_of_token[1]=27',\n",
            "               'token[2]=proposal',\n",
            "               'pos_tag_of_token[2]=21',\n",
            "               'token[3]=.',\n",
            "               'pos_tag_of_token[3]=7',\n",
            "               'first-letter-capitalized'],\n",
            "              ['token[-3]=Britain',\n",
            "               'pos_tag_of_token[-3]=22',\n",
            "               'token[-2]=backed',\n",
            "               'pos_tag_of_token[-2]=38',\n",
            "               'token[-1]=Fischler',\n",
            "               'pos_tag_of_token[-1]=22',\n",
            "               \"token[0]='s\",\n",
            "               'pos_tag_of_token[0]=27',\n",
            "               'token[1]=proposal',\n",
            "               'pos_tag_of_token[1]=21',\n",
            "               'token[2]=.',\n",
            "               'pos_tag_of_token[2]=7'],\n",
            "              ['token[-3]=backed',\n",
            "               'pos_tag_of_token[-3]=38',\n",
            "               'token[-2]=Fischler',\n",
            "               'pos_tag_of_token[-2]=22',\n",
            "               \"token[-1]='s\",\n",
            "               'pos_tag_of_token[-1]=27',\n",
            "               'token[0]=proposal',\n",
            "               'pos_tag_of_token[0]=21',\n",
            "               'token[1]=.',\n",
            "               'pos_tag_of_token[1]=7'],\n",
            "              ['token[-3]=Fischler',\n",
            "               'pos_tag_of_token[-3]=22',\n",
            "               \"token[-2]='s\",\n",
            "               'pos_tag_of_token[-2]=27',\n",
            "               'token[-1]=proposal',\n",
            "               'pos_tag_of_token[-1]=21',\n",
            "               'token[0]=.',\n",
            "               'pos_tag_of_token[0]=7']],\n",
            " 'id': '12',\n",
            " 'ner_tags': [0, 5, 0, 5, 0, 1, 0, 0, 0],\n",
            " 'pos_tags': [30, 22, 10, 22, 38, 22, 27, 21, 7],\n",
            " 'tokens': ['Only',\n",
            "            'France',\n",
            "            'and',\n",
            "            'Britain',\n",
            "            'backed',\n",
            "            'Fischler',\n",
            "            \"'s\",\n",
            "            'proposal',\n",
            "            '.']}\n"
          ]
        }
      ],
      "source": [
        "pprint(dataset[\"train\"][12])"
      ]
    },
    {
      "cell_type": "markdown",
      "metadata": {
        "id": "N8sZzkiOl9aZ"
      },
      "source": [
        "---\n",
        "\n",
        "# Flatten dataset\n",
        "\n",
        "The MLP code that we introduced previously expects each of the `train`, `validation` and `test` subsets of the data to consist of simple sequences of examples.\n",
        "\n",
        "Now that we have run the feature generation, we no longer need the sentence structure and can \"flatten\" the data into such sequences."
      ]
    },
    {
      "cell_type": "code",
      "execution_count": 16,
      "metadata": {
        "id": "Y4COBECNjPNb"
      },
      "outputs": [],
      "source": [
        "def flatten(subset):\n",
        "    # Keys for values to flatten\n",
        "    keys = [\"tokens\", \"pos_tags\", \"chunk_tags\", \"ner_tags\", \"features\"]\n",
        "\n",
        "    # Initialize to empty lists of tokens etc.\n",
        "    flattened = { k: [] for k in keys }\n",
        "\n",
        "    # Concatenate per-sentence lists of tokens etc.\n",
        "    for sentence in subset:\n",
        "        for key in keys:\n",
        "            flattened[key].extend(sentence[key])\n",
        "\n",
        "    # Return as Dataset object\n",
        "    return datasets.Dataset.from_dict(flattened)"
      ]
    },
    {
      "cell_type": "markdown",
      "metadata": {
        "id": "wUuPc9uwltTn"
      },
      "source": [
        "Call `flatten` for each of the subsets and make a new `DatasetDict` containing the flattened subsets:"
      ]
    },
    {
      "cell_type": "code",
      "execution_count": 17,
      "metadata": {
        "id": "jcQSwn2Ll6Z0"
      },
      "outputs": [],
      "source": [
        "flattened_dict = {\n",
        "    \"train\": flatten(dataset[\"train\"]),\n",
        "    \"validation\": flatten(dataset[\"validation\"]),\n",
        "    \"test\": flatten(dataset[\"test\"]),\n",
        "}\n",
        "\n",
        "flat_dataset = datasets.DatasetDict(flattened_dict)"
      ]
    },
    {
      "cell_type": "markdown",
      "metadata": {
        "id": "QR4PZp8AmWZ_"
      },
      "source": [
        "Check that the new dataset looks OK:"
      ]
    },
    {
      "cell_type": "code",
      "execution_count": 18,
      "metadata": {
        "colab": {
          "base_uri": "https://localhost:8080/"
        },
        "id": "H9xBRcJKkB7Q",
        "outputId": "cce8013f-fbf5-42ca-c9af-70e5c398dff7"
      },
      "outputs": [
        {
          "data": {
            "text/plain": [
              "DatasetDict({\n",
              "    train: Dataset({\n",
              "        features: ['tokens', 'pos_tags', 'chunk_tags', 'ner_tags', 'features'],\n",
              "        num_rows: 203621\n",
              "    })\n",
              "    validation: Dataset({\n",
              "        features: ['tokens', 'pos_tags', 'chunk_tags', 'ner_tags', 'features'],\n",
              "        num_rows: 51362\n",
              "    })\n",
              "    test: Dataset({\n",
              "        features: ['tokens', 'pos_tags', 'chunk_tags', 'ner_tags', 'features'],\n",
              "        num_rows: 46435\n",
              "    })\n",
              "})"
            ]
          },
          "execution_count": 18,
          "metadata": {},
          "output_type": "execute_result"
        }
      ],
      "source": [
        "flat_dataset"
      ]
    },
    {
      "cell_type": "code",
      "execution_count": 19,
      "metadata": {
        "colab": {
          "base_uri": "https://localhost:8080/"
        },
        "id": "vs55SS3bmrqz",
        "outputId": "022818aa-f848-44c3-f4d5-79d427a6f642"
      },
      "outputs": [
        {
          "name": "stdout",
          "output_type": "stream",
          "text": [
            "EU\tNNP\tProper noun, singular\t['token[0]=EU', 'pos_tag_of_token[0]=22', 'token[1]=rejects', 'pos_tag_of_token[1]=42', 'token[2]=German', 'pos_tag_of_token[2]=16', 'token[3]=call', 'pos_tag_of_token[3]=21', 'first-letter-capitalized']\n",
            "rejects\tVBZ\tVerb, 3rd person singular present\t['token[-1]=EU', 'pos_tag_of_token[-1]=22', 'token[0]=rejects', 'pos_tag_of_token[0]=42', 'token[1]=German', 'pos_tag_of_token[1]=16', 'token[2]=call', 'pos_tag_of_token[2]=21', 'token[3]=to', 'pos_tag_of_token[3]=35']\n",
            "German\tJJ\tAdjective\t['token[-2]=EU', 'pos_tag_of_token[-2]=22', 'token[-1]=rejects', 'pos_tag_of_token[-1]=42', 'token[0]=German', 'pos_tag_of_token[0]=16', 'token[1]=call', 'pos_tag_of_token[1]=21', 'token[2]=to', 'pos_tag_of_token[2]=35', 'token[3]=boycott', 'pos_tag_of_token[3]=37', 'first-letter-capitalized']\n",
            "call\tNN\tNoun, singular or mass\t['token[-3]=EU', 'pos_tag_of_token[-3]=22', 'token[-2]=rejects', 'pos_tag_of_token[-2]=42', 'token[-1]=German', 'pos_tag_of_token[-1]=16', 'token[0]=call', 'pos_tag_of_token[0]=21', 'token[1]=to', 'pos_tag_of_token[1]=35', 'token[2]=boycott', 'pos_tag_of_token[2]=37', 'token[3]=British', 'pos_tag_of_token[3]=16']\n",
            "to\tTO\tto\t['token[-3]=rejects', 'pos_tag_of_token[-3]=42', 'token[-2]=German', 'pos_tag_of_token[-2]=16', 'token[-1]=call', 'pos_tag_of_token[-1]=21', 'token[0]=to', 'pos_tag_of_token[0]=35', 'token[1]=boycott', 'pos_tag_of_token[1]=37', 'token[2]=British', 'pos_tag_of_token[2]=16', 'token[3]=lamb', 'pos_tag_of_token[3]=21']\n",
            "boycott\tVB\tVerb, base form\t['token[-3]=German', 'pos_tag_of_token[-3]=16', 'token[-2]=call', 'pos_tag_of_token[-2]=21', 'token[-1]=to', 'pos_tag_of_token[-1]=35', 'token[0]=boycott', 'pos_tag_of_token[0]=37', 'token[1]=British', 'pos_tag_of_token[1]=16', 'token[2]=lamb', 'pos_tag_of_token[2]=21', 'token[3]=.', 'pos_tag_of_token[3]=7']\n",
            "British\tJJ\tAdjective\t['token[-3]=call', 'pos_tag_of_token[-3]=21', 'token[-2]=to', 'pos_tag_of_token[-2]=35', 'token[-1]=boycott', 'pos_tag_of_token[-1]=37', 'token[0]=British', 'pos_tag_of_token[0]=16', 'token[1]=lamb', 'pos_tag_of_token[1]=21', 'token[2]=.', 'pos_tag_of_token[2]=7', 'first-letter-capitalized']\n",
            "lamb\tNN\tNoun, singular or mass\t['token[-3]=to', 'pos_tag_of_token[-3]=35', 'token[-2]=boycott', 'pos_tag_of_token[-2]=37', 'token[-1]=British', 'pos_tag_of_token[-1]=16', 'token[0]=lamb', 'pos_tag_of_token[0]=21', 'token[1]=.', 'pos_tag_of_token[1]=7']\n",
            ".\t.\t.\t['token[-3]=boycott', 'pos_tag_of_token[-3]=37', 'token[-2]=British', 'pos_tag_of_token[-2]=16', 'token[-1]=lamb', 'pos_tag_of_token[-1]=21', 'token[0]=.', 'pos_tag_of_token[0]=7']\n",
            "Peter\tNNP\tProper noun, singular\t['token[0]=Peter', 'pos_tag_of_token[0]=22', 'token[1]=Blackburn', 'pos_tag_of_token[1]=22', 'first-letter-capitalized']\n"
          ]
        }
      ],
      "source": [
        "for i in range(10):\n",
        "    token = flat_dataset[\"train\"][\"tokens\"][i]\n",
        "    pos_tag = ID2POS[flat_dataset[\"train\"][\"pos_tags\"][i]]\n",
        "    description = POS2DESCRIPTION.get(pos_tag, pos_tag)\n",
        "    features = flat_dataset[\"train\"][\"features\"][i]\n",
        "    print(f\"{token}\\t{pos_tag}\\t{description}\\t{features}\")"
      ]
    },
    {
      "cell_type": "markdown",
      "metadata": {
        "id": "lI0nCoZhnode"
      },
      "source": [
        "Note that this is now a single long sequence of tokens without sentence boundaries."
      ]
    },
    {
      "cell_type": "markdown",
      "metadata": {
        "id": "KMnqQ78cMpk2"
      },
      "source": [
        "---\n",
        "\n",
        "## Vectorize data\n",
        "\n",
        "We'll next follow the steps that you should already be familiar with from the [text classification notebook](https://github.com/TurkuNLP/intro-to-nlp/blob/master/mlp_imdb_hf_dset_and_trainer.ipynb), with a few changes:\n",
        "\n",
        "* Since the data is already tokenized, we only need to **vectorize** it, i.e. get the non-zero elements of the feature vector\n",
        "* Unlike in the text classification notebook, here we are **vectorizing token features**\n",
        "* We'll again use sklearn's feature extraction package, in particular `CountVectorizer`\n",
        "* Since our features are now lists of strings, we can skip tokenization and use these as-is"
      ]
    },
    {
      "cell_type": "code",
      "execution_count": 20,
      "metadata": {
        "colab": {
          "base_uri": "https://localhost:8080/",
          "height": 109
        },
        "id": "MYOtKJu7Mohd",
        "outputId": "f1ef0788-c80e-497b-9520-c6551c45723a"
      },
      "outputs": [
        {
          "name": "stderr",
          "output_type": "stream",
          "text": [
            "c:\\Python310\\lib\\site-packages\\sklearn\\feature_extraction\\text.py:525: UserWarning: The parameter 'token_pattern' will not be used since 'tokenizer' is not None'\n",
            "  warnings.warn(\n"
          ]
        },
        {
          "data": {
            "text/html": [
              "<style>#sk-container-id-1 {color: black;}#sk-container-id-1 pre{padding: 0;}#sk-container-id-1 div.sk-toggleable {background-color: white;}#sk-container-id-1 label.sk-toggleable__label {cursor: pointer;display: block;width: 100%;margin-bottom: 0;padding: 0.3em;box-sizing: border-box;text-align: center;}#sk-container-id-1 label.sk-toggleable__label-arrow:before {content: \"▸\";float: left;margin-right: 0.25em;color: #696969;}#sk-container-id-1 label.sk-toggleable__label-arrow:hover:before {color: black;}#sk-container-id-1 div.sk-estimator:hover label.sk-toggleable__label-arrow:before {color: black;}#sk-container-id-1 div.sk-toggleable__content {max-height: 0;max-width: 0;overflow: hidden;text-align: left;background-color: #f0f8ff;}#sk-container-id-1 div.sk-toggleable__content pre {margin: 0.2em;color: black;border-radius: 0.25em;background-color: #f0f8ff;}#sk-container-id-1 input.sk-toggleable__control:checked~div.sk-toggleable__content {max-height: 200px;max-width: 100%;overflow: auto;}#sk-container-id-1 input.sk-toggleable__control:checked~label.sk-toggleable__label-arrow:before {content: \"▾\";}#sk-container-id-1 div.sk-estimator input.sk-toggleable__control:checked~label.sk-toggleable__label {background-color: #d4ebff;}#sk-container-id-1 div.sk-label input.sk-toggleable__control:checked~label.sk-toggleable__label {background-color: #d4ebff;}#sk-container-id-1 input.sk-hidden--visually {border: 0;clip: rect(1px 1px 1px 1px);clip: rect(1px, 1px, 1px, 1px);height: 1px;margin: -1px;overflow: hidden;padding: 0;position: absolute;width: 1px;}#sk-container-id-1 div.sk-estimator {font-family: monospace;background-color: #f0f8ff;border: 1px dotted black;border-radius: 0.25em;box-sizing: border-box;margin-bottom: 0.5em;}#sk-container-id-1 div.sk-estimator:hover {background-color: #d4ebff;}#sk-container-id-1 div.sk-parallel-item::after {content: \"\";width: 100%;border-bottom: 1px solid gray;flex-grow: 1;}#sk-container-id-1 div.sk-label:hover label.sk-toggleable__label {background-color: #d4ebff;}#sk-container-id-1 div.sk-serial::before {content: \"\";position: absolute;border-left: 1px solid gray;box-sizing: border-box;top: 0;bottom: 0;left: 50%;z-index: 0;}#sk-container-id-1 div.sk-serial {display: flex;flex-direction: column;align-items: center;background-color: white;padding-right: 0.2em;padding-left: 0.2em;position: relative;}#sk-container-id-1 div.sk-item {position: relative;z-index: 1;}#sk-container-id-1 div.sk-parallel {display: flex;align-items: stretch;justify-content: center;background-color: white;position: relative;}#sk-container-id-1 div.sk-item::before, #sk-container-id-1 div.sk-parallel-item::before {content: \"\";position: absolute;border-left: 1px solid gray;box-sizing: border-box;top: 0;bottom: 0;left: 50%;z-index: -1;}#sk-container-id-1 div.sk-parallel-item {display: flex;flex-direction: column;z-index: 1;position: relative;background-color: white;}#sk-container-id-1 div.sk-parallel-item:first-child::after {align-self: flex-end;width: 50%;}#sk-container-id-1 div.sk-parallel-item:last-child::after {align-self: flex-start;width: 50%;}#sk-container-id-1 div.sk-parallel-item:only-child::after {width: 0;}#sk-container-id-1 div.sk-dashed-wrapped {border: 1px dashed gray;margin: 0 0.4em 0.5em 0.4em;box-sizing: border-box;padding-bottom: 0.4em;background-color: white;}#sk-container-id-1 div.sk-label label {font-family: monospace;font-weight: bold;display: inline-block;line-height: 1.2em;}#sk-container-id-1 div.sk-label-container {text-align: center;}#sk-container-id-1 div.sk-container {/* jupyter's `normalize.less` sets `[hidden] { display: none; }` but bootstrap.min.css set `[hidden] { display: none !important; }` so we also need the `!important` here to be able to override the default hidden behavior on the sphinx rendered scikit-learn.org. See: https://github.com/scikit-learn/scikit-learn/issues/21755 */display: inline-block !important;position: relative;}#sk-container-id-1 div.sk-text-repr-fallback {display: none;}</style><div id=\"sk-container-id-1\" class=\"sk-top-container\"><div class=\"sk-text-repr-fallback\"><pre>CountVectorizer(binary=True, max_features=30000,\n",
              "                preprocessor=&lt;function do_nothing at 0x0000024D961F76D0&gt;,\n",
              "                tokenizer=&lt;function do_nothing at 0x0000024D961F76D0&gt;)</pre><b>In a Jupyter environment, please rerun this cell to show the HTML representation or trust the notebook. <br />On GitHub, the HTML representation is unable to render, please try loading this page with nbviewer.org.</b></div><div class=\"sk-container\" hidden><div class=\"sk-item\"><div class=\"sk-estimator sk-toggleable\"><input class=\"sk-toggleable__control sk-hidden--visually\" id=\"sk-estimator-id-1\" type=\"checkbox\" checked><label for=\"sk-estimator-id-1\" class=\"sk-toggleable__label sk-toggleable__label-arrow\">CountVectorizer</label><div class=\"sk-toggleable__content\"><pre>CountVectorizer(binary=True, max_features=30000,\n",
              "                preprocessor=&lt;function do_nothing at 0x0000024D961F76D0&gt;,\n",
              "                tokenizer=&lt;function do_nothing at 0x0000024D961F76D0&gt;)</pre></div></div></div></div></div>"
            ],
            "text/plain": [
              "CountVectorizer(binary=True, max_features=30000,\n",
              "                preprocessor=<function do_nothing at 0x0000024D961F76D0>,\n",
              "                tokenizer=<function do_nothing at 0x0000024D961F76D0>)"
            ]
          },
          "execution_count": 20,
          "metadata": {},
          "output_type": "execute_result"
        }
      ],
      "source": [
        "import sklearn.feature_extraction\n",
        "\n",
        "\n",
        "# Dummy function for tokenization and preprocessing\n",
        "def do_nothing(features):\n",
        "    return features\n",
        "\n",
        "vectorizer = sklearn.feature_extraction.text.CountVectorizer(\n",
        "    binary=True,\n",
        "    max_features=30000,\n",
        "    tokenizer=do_nothing,\n",
        "    preprocessor=do_nothing,\n",
        ")\n",
        "\n",
        "# Get a list of all feature strings from the training data\n",
        "features = [e[\"features\"] for e in flat_dataset[\"train\"]]\n",
        "\n",
        "# \"Train\" the vectorizer, i.e. build its vocabulary\n",
        "vectorizer.fit(features)"
      ]
    },
    {
      "cell_type": "markdown",
      "metadata": {
        "id": "UDNy3w8reO6C"
      },
      "source": [
        "As in the text classification notebook, we then invoke the vectorizer and get non-zero elements as a sparse matrix:"
      ]
    },
    {
      "cell_type": "code",
      "execution_count": 21,
      "metadata": {
        "id": "5H9AQOc2rGIO"
      },
      "outputs": [],
      "source": [
        "def vectorize_example(e):\n",
        "    vectorized = vectorizer.transform([e[\"features\"]])\n",
        "\n",
        "    # nonzero() gives a pair of (rows,columns), we want the columns\n",
        "    non_zero_features = vectorized.nonzero()[1]\n",
        "\n",
        "    # Feature index 0 will have a special meaning, so let us not produce\n",
        "    # it by adding +1 to everything\n",
        "    non_zero_features += 1\n",
        "\n",
        "    return {\n",
        "        \"input_ids\": non_zero_features,\n",
        "        \"label\": e[\"ner_tags\"]\n",
        "    }"
      ]
    },
    {
      "cell_type": "markdown",
      "metadata": {
        "id": "kqKjaSmBqWjm"
      },
      "source": [
        "Check one example:"
      ]
    },
    {
      "cell_type": "code",
      "execution_count": 22,
      "metadata": {
        "colab": {
          "base_uri": "https://localhost:8080/"
        },
        "id": "EOTjsFCBqOjX",
        "outputId": "a39914ee-475b-4969-8dd6-678d27c26c55"
      },
      "outputs": [
        {
          "name": "stdout",
          "output_type": "stream",
          "text": [
            "{'tokens': 'Blackburn', 'pos_tags': 22, 'chunk_tags': 12, 'ner_tags': 2, 'features': ['token[-1]=Peter', 'pos_tag_of_token[-1]=22', 'token[0]=Blackburn', 'pos_tag_of_token[0]=22', 'first-letter-capitalized']}\n",
            "{'input_ids': array([    1,    16,   145,  1872, 14094]), 'label': 2}\n"
          ]
        }
      ],
      "source": [
        "vectorized = vectorize_example(flat_dataset[\"train\"][10])\n",
        "\n",
        "print(flat_dataset[\"train\"][10])\n",
        "print(vectorized)"
      ]
    },
    {
      "cell_type": "markdown",
      "metadata": {
        "id": "WiScO867qrjK"
      },
      "source": [
        "Map `input_ids` back to the original feature names to confirm that everything works:"
      ]
    },
    {
      "cell_type": "code",
      "execution_count": 23,
      "metadata": {
        "colab": {
          "base_uri": "https://localhost:8080/"
        },
        "id": "yvgd3IrWfCai",
        "outputId": "68d2c5e9-d073-4c2f-e972-d4ead8250683"
      },
      "outputs": [
        {
          "name": "stdout",
          "output_type": "stream",
          "text": [
            "('first-letter-capitalized, pos_tag_of_token[-1]=22, pos_tag_of_token[0]=22, '\n",
            " 'token[-1]=Peter, token[0]=Blackburn')\n"
          ]
        }
      ],
      "source": [
        "# Invert the feature dictionary\n",
        "idx2feat = { i: w for w, i in vectorizer.vocabulary_.items() }\n",
        "\n",
        "feats = []\n",
        "for idx in vectorized[\"input_ids\"]:\n",
        "    feats.append(idx2feat[idx-1])    # It is easy to forget we moved all by +1\n",
        "\n",
        "# This is now the bag of features representation of the token in context\n",
        "pprint(\", \".join(feats))"
      ]
    },
    {
      "cell_type": "markdown",
      "metadata": {
        "id": "i33KIMgkiIn7"
      },
      "source": [
        "---\n",
        "\n",
        "# Vectorizing the whole dataset\n",
        "\n",
        "We'll again use [`Dataset.map`](https://huggingface.co/docs/datasets/package_reference/main_classes.html#datasets.Dataset.map) to process the whole dataset:"
      ]
    },
    {
      "cell_type": "code",
      "execution_count": 24,
      "metadata": {
        "colab": {
          "base_uri": "https://localhost:8080/",
          "height": 304,
          "referenced_widgets": [
            "cb40f1c8480a460b82f0c729bfa62636",
            "3ab66a9356694b7082e78786e22c08a2",
            "2e4153caa0ba49a78ca8df81133f836c",
            "e4b09023851949398dc8e92088150a54",
            "101858b70a1846b0a7bc86f2cdf3a369",
            "1b69dad583564551b309d64ef33683f8",
            "a513f1d3e2e84cb099ff05510602bee2",
            "59293fd255644a98a58d2212c182adfe",
            "7c9fbbb4f2c344db9b632016e9ca970d",
            "b257eadf7fe748908231ae49fd18f084",
            "cfe6f0ed2466414fbc0cff5241e86a3d",
            "e0cb0280423445fea1451c1ad172563a",
            "e7ddc30ab7144cea86703de76a657c44",
            "772a296129b744f1a900c1c131ec66f1",
            "489a4337053342d09e1925547d0999f7",
            "089c3e6b5ef043fc991627fb0c5ec04f",
            "77bd75f759f248059864f8654a55f596",
            "ca00217cdbeb46f1b284bdfa4b50d6e1",
            "4d0483edcedf4537bbfb5078b4b9874d",
            "701d1e8442064658b697aeec55d52166",
            "d693f0ba11944e7f8c5bc1a7159c85f9",
            "b1bf140bbccc4efda24eee5659e7a4fc",
            "15481fcdf5f24cc8ac3b26807d0698bb",
            "a2b596e1262c4af2aa50a3024e5ec655",
            "24edbfa9a8d74524b0998639701e0a1c",
            "7300ea5c95714230983f15d8fded772f",
            "1fce174e4e9a4e2b83ef47a69767f8de",
            "c59914edc17f49d58ad34f0697c3fcbc",
            "0655459d09d34526b0c5941491b88750",
            "254ce66b63be426e8c92d84d13410cc7",
            "5668ba42ebc74334912851ad1e81c652",
            "3285423ab5e8494ea8255de1ed974c5d",
            "4e0856c7f0384a3fa9de3b17bafc761f"
          ]
        },
        "id": "33xMYRd0q2B9",
        "outputId": "397cab16-b1df-4283-e32c-7c435377b4d0"
      },
      "outputs": [
        {
          "name": "stderr",
          "output_type": "stream",
          "text": [
            "Map: 100%|██████████| 203621/203621 [01:03<00:00, 3224.01 examples/s]\n",
            "Map: 100%|██████████| 51362/51362 [00:15<00:00, 3352.51 examples/s]\n",
            "Map: 100%|██████████| 46435/46435 [00:13<00:00, 3346.48 examples/s]"
          ]
        },
        {
          "name": "stdout",
          "output_type": "stream",
          "text": [
            "{'chunk_tags': 11,\n",
            " 'features': ['token[0]=EU',\n",
            "              'pos_tag_of_token[0]=22',\n",
            "              'token[1]=rejects',\n",
            "              'pos_tag_of_token[1]=42',\n",
            "              'token[2]=German',\n",
            "              'pos_tag_of_token[2]=16',\n",
            "              'token[3]=call',\n",
            "              'pos_tag_of_token[3]=21',\n",
            "              'first-letter-capitalized'],\n",
            " 'input_ids': [1, 145, 210, 227, 276, 14347, 23219, 27857],\n",
            " 'label': 3,\n",
            " 'ner_tags': 3,\n",
            " 'pos_tags': 22,\n",
            " 'tokens': 'EU'}\n"
          ]
        },
        {
          "name": "stderr",
          "output_type": "stream",
          "text": [
            "\n"
          ]
        }
      ],
      "source": [
        "vectorized_dataset = flat_dataset.map(vectorize_example)\n",
        "\n",
        "pprint(vectorized_dataset[\"train\"][0])"
      ]
    },
    {
      "cell_type": "markdown",
      "metadata": {
        "id": "XTtyHQpIIJWw"
      },
      "source": [
        "* Our `input_ids` are an array containing the indices of the features\n",
        "* This corresponds to the indices into the row of the embedding matrix in the model\n"
      ]
    },
    {
      "cell_type": "markdown",
      "metadata": {
        "id": "JvaP1DpHjI3f"
      },
      "source": [
        "---\n",
        "\n",
        "# Batching and padding\n",
        "\n",
        "As detailed in the [text classification notebook](https://github.com/TurkuNLP/intro-to-nlp/blob/master/mlp_imdb_hf_dset_and_trainer.ipynb), we typically train neural networks on _batches_ of multiple examples rather than a single example at a time (efficiency and regularization).\n",
        "\n",
        "As examples in a batch need to have identical length, we _pad_ shorter examples to the maximum example length in each batch with the \"dummy\" feature with index 0.\n",
        "\n",
        "(This code is basically unchanged from the previous notebook.)"
      ]
    },
    {
      "cell_type": "code",
      "execution_count": 25,
      "metadata": {
        "id": "zXXDxNo6kwfA"
      },
      "outputs": [],
      "source": [
        "def collator(list_of_examples):\n",
        "    # Labels are simply converted into a tensor\n",
        "    batch={\n",
        "        \"labels\": torch.tensor([e[\"label\"] for e in list_of_examples])\n",
        "    }\n",
        "\n",
        "    # Examples need to be padded\n",
        "    tensors = []\n",
        "\n",
        "    # Find length of longest example\n",
        "    max_len = max(len(e[\"input_ids\"]) for e in list_of_examples)\n",
        "    max_len = max(1,max_len)\n",
        "\n",
        "    # Pad everything with zeros to length of longest example\n",
        "    for example in list_of_examples:\n",
        "        ids = torch.LongTensor(example[\"input_ids\"])\n",
        "        # pad(what,(from_left, from_right)) <- this is how we call the stock pad function\n",
        "         #pad by max - current length, pads with zero by default\n",
        "        padded = torch.nn.functional.pad(ids, (0, max_len-ids.shape[0]))\n",
        "        tensors.append(padded)\n",
        "\n",
        "    # Now that all examples are of the same length, vstack() can be used\n",
        "    # to vertically stack these into a tensor\n",
        "    batch[\"input_ids\"]=torch.vstack(tensors)\n",
        "\n",
        "    return batch"
      ]
    },
    {
      "cell_type": "markdown",
      "metadata": {
        "id": "e7Mre52QCTtI"
      },
      "source": [
        "Test that out with a minimal batch of two examples, one requiring padding:"
      ]
    },
    {
      "cell_type": "code",
      "execution_count": 26,
      "metadata": {
        "colab": {
          "base_uri": "https://localhost:8080/"
        },
        "id": "JJnW4gwqBpF6",
        "outputId": "c462448d-6ee7-45d6-f638-a90531c3f18d"
      },
      "outputs": [
        {
          "name": "stdout",
          "output_type": "stream",
          "text": [
            "Shape of labels: torch.Size([2])\n",
            "Shape of input_ids: torch.Size([2, 11])\n",
            "labels: tensor([7, 0])\n",
            "input_ids: tensor([[    1,    37,    60,   139,   188,   246,   292,  5659, 14459, 20267,\n",
            "         26083],\n",
            "        [   10,    75,   115,   144,   217,   872,  7164, 13380, 18173,     0,\n",
            "             0]])\n"
          ]
        }
      ],
      "source": [
        "batch=collator([vectorized_dataset[\"train\"][2], vectorized_dataset[\"train\"][7]])\n",
        "\n",
        "print(\"Shape of labels:\",batch[\"labels\"].shape)\n",
        "print(\"Shape of input_ids:\",batch[\"input_ids\"].shape)\n",
        "print(\"labels:\",batch[\"labels\"])\n",
        "print(\"input_ids:\",batch[\"input_ids\"])"
      ]
    },
    {
      "cell_type": "markdown",
      "metadata": {
        "id": "AOYYF5I1OWG9"
      },
      "source": [
        "---\n",
        "\n",
        "# MLP model\n",
        "\n",
        "With the data now ready, we'll build the MLP model. Note that this is _identical_ to the MLP model we used for text classification: the only difference between the two applications is in the data.\n",
        "\n",
        "The model class in its simplest form has `__init__()` which instantiates the layers and `forward()` which implements the actual computation. For more information on these, please see the [PyTorch turorial](https://pytorch.org/tutorials/beginner/introyt/modelsyt_tutorial.html)."
      ]
    },
    {
      "cell_type": "code",
      "execution_count": 27,
      "metadata": {
        "id": "vP4FtrMwCpGi"
      },
      "outputs": [],
      "source": [
        "# A model wants a config, I can simply inherit from the base\n",
        "# class for pretrained configs\n",
        "class MLPConfig(transformers.PretrainedConfig):\n",
        "    pass\n",
        "\n",
        "# This is the model\n",
        "class MLP(transformers.PreTrainedModel):\n",
        "\n",
        "    config_class=MLPConfig\n",
        "\n",
        "    # In the initialization method, one instantiates the layers\n",
        "    # these will be, for the most part the trained parameters of the model\n",
        "    def __init__(self, config):\n",
        "        super().__init__(config)\n",
        "\n",
        "        self.vocab_size=config.vocab_size    # embedding matrix row count\n",
        "\n",
        "        # Build and initialize embedding of vocab size +1 x hidden size\n",
        "        # (+1 because of the padding index 0!)\n",
        "        self.embedding = torch.nn.Embedding(\n",
        "            num_embeddings=self.vocab_size+1,\n",
        "            embedding_dim=config.hidden_size,\n",
        "            padding_idx=0\n",
        "        )\n",
        "\n",
        "        # Initialize the embeddings with small random values\n",
        "        torch.nn.init.uniform_(self.embedding.weight.data, -0.001, 0.001)\n",
        "        # Enforce zero values for padding\n",
        "        torch.nn.init.zeros_(self.embedding.weight.data[0,:])\n",
        "\n",
        "        # Output layer: hidden size x output size\n",
        "        self.output=torch.nn.Linear(\n",
        "            in_features=config.hidden_size,\n",
        "            out_features=config.nlabels\n",
        "        )\n",
        "\n",
        "    # The computation of the model is put into the forward() function\n",
        "    # it receives a batch of data and optionally the correct `labels`:\n",
        "    # - if given `labels`, returns (loss, output)\n",
        "    # - if not, only returns (output,)\n",
        "    def forward(self, input_ids, labels=None):\n",
        "        # 1) Look up embeddings of features, sum them up\n",
        "        embedded = self.embedding(input_ids)    # (batch, ids) -> (batch, ids, embedding_dim)\n",
        "        embedded_summed = torch.sum(embedded, dim=1)    # (batch, ids, embedding_dim) -> (batch, embedding_dim)\n",
        "\n",
        "        # NOTE: we're explicitly *not* applying a nonlinearity here to keep\n",
        "        # things linear for later analysis\n",
        "\n",
        "        # 2) Apply output layer\n",
        "        # (batch, embedding_dim) -> (batch, num_classes)\n",
        "        logits = self.output(embedded_summed)\n",
        "\n",
        "        if labels is not None:\n",
        "            # We have labels, so we ought to calculate the loss\n",
        "            loss_fn = torch.nn.CrossEntropyLoss()    # Classification loss function\n",
        "            loss = loss_fn(logits, labels)\n",
        "            return (loss, logits)\n",
        "        else:\n",
        "            # No labels, so just return the logits\n",
        "            return (logits,)"
      ]
    },
    {
      "cell_type": "markdown",
      "metadata": {
        "id": "Ix6-Z0XqFGfl"
      },
      "source": [
        "Configure the model"
      ]
    },
    {
      "cell_type": "code",
      "execution_count": 28,
      "metadata": {
        "id": "I2Lwe8eoFFtw"
      },
      "outputs": [],
      "source": [
        "num_labels = len(NER2ID)\n",
        "\n",
        "mlp_config = MLPConfig(\n",
        "    vocab_size=len(vectorizer.vocabulary_),\n",
        "    hidden_size=20,\n",
        "    nlabels=num_labels\n",
        ")"
      ]
    },
    {
      "cell_type": "markdown",
      "metadata": {
        "id": "tdlcMObzQGGP"
      },
      "source": [
        "---\n",
        "\n",
        "# Train the model\n",
        "\n",
        "We will use the Hugging Face [Trainer](https://huggingface.co/docs/transformers/main_classes/trainer) class for training\n",
        "\n",
        "* Loads of arguments that control the training\n",
        "* Configurable metrics to evaluate performance\n",
        "* Data collator builds the batches\n",
        "* Early stopping callback stops when eval loss no longer improves\n",
        "* Model load/save\n",
        "* Good foundation for later deep learning course\n",
        "  "
      ]
    },
    {
      "cell_type": "markdown",
      "metadata": {
        "id": "aZgcNi4B76SX"
      },
      "source": [
        "First, let's create a [`TrainingArguments`](https://huggingface.co/docs/transformers/v4.17.0/en/main_classes/trainer#transformers.TrainingArguments) object to specify hyperparameters and various other settings for training.\n",
        "\n",
        "Printing this simple dataclass object will show not only the values we set, but also the defaults for all other arguments. Don't worry if you don't understand what all of these do! Many are not relevant to us here, and you can find the details in [`Trainer` documentation](https://huggingface.co/docs/transformers/main_classes/trainer) if you are interested."
      ]
    },
    {
      "cell_type": "code",
      "execution_count": 29,
      "metadata": {
        "colab": {
          "base_uri": "https://localhost:8080/"
        },
        "id": "IhfdW62z8cCn",
        "outputId": "fef21b2f-795d-44e1-925d-6919045b7f86"
      },
      "outputs": [
        {
          "name": "stdout",
          "output_type": "stream",
          "text": [
            "TrainingArguments(\n",
            "_n_gpu=0,\n",
            "accelerator_config={'split_batches': False, 'dispatch_batches': None, 'even_batches': True, 'use_seedable_sampler': True},\n",
            "adafactor=False,\n",
            "adam_beta1=0.9,\n",
            "adam_beta2=0.999,\n",
            "adam_epsilon=1e-08,\n",
            "auto_find_batch_size=False,\n",
            "bf16=False,\n",
            "bf16_full_eval=False,\n",
            "data_seed=None,\n",
            "dataloader_drop_last=False,\n",
            "dataloader_num_workers=0,\n",
            "dataloader_persistent_workers=False,\n",
            "dataloader_pin_memory=True,\n",
            "dataloader_prefetch_factor=None,\n",
            "ddp_backend=None,\n",
            "ddp_broadcast_buffers=None,\n",
            "ddp_bucket_cap_mb=None,\n",
            "ddp_find_unused_parameters=None,\n",
            "ddp_timeout=1800,\n",
            "debug=[],\n",
            "deepspeed=None,\n",
            "disable_tqdm=False,\n",
            "dispatch_batches=None,\n",
            "do_eval=True,\n",
            "do_predict=False,\n",
            "do_train=False,\n",
            "eval_accumulation_steps=None,\n",
            "eval_delay=0,\n",
            "eval_steps=500,\n",
            "evaluation_strategy=steps,\n",
            "fp16=False,\n",
            "fp16_backend=auto,\n",
            "fp16_full_eval=False,\n",
            "fp16_opt_level=O1,\n",
            "fsdp=[],\n",
            "fsdp_config={'min_num_params': 0, 'xla': False, 'xla_fsdp_v2': False, 'xla_fsdp_grad_ckpt': False},\n",
            "fsdp_min_num_params=0,\n",
            "fsdp_transformer_layer_cls_to_wrap=None,\n",
            "full_determinism=False,\n",
            "gradient_accumulation_steps=1,\n",
            "gradient_checkpointing=False,\n",
            "gradient_checkpointing_kwargs=None,\n",
            "greater_is_better=False,\n",
            "group_by_length=False,\n",
            "half_precision_backend=auto,\n",
            "hub_always_push=False,\n",
            "hub_model_id=None,\n",
            "hub_private_repo=False,\n",
            "hub_strategy=every_save,\n",
            "hub_token=<HUB_TOKEN>,\n",
            "ignore_data_skip=False,\n",
            "include_inputs_for_metrics=False,\n",
            "include_num_input_tokens_seen=False,\n",
            "include_tokens_per_second=False,\n",
            "jit_mode_eval=False,\n",
            "label_names=None,\n",
            "label_smoothing_factor=0.0,\n",
            "learning_rate=0.0001,\n",
            "length_column_name=length,\n",
            "load_best_model_at_end=True,\n",
            "local_rank=0,\n",
            "log_level=passive,\n",
            "log_level_replica=warning,\n",
            "log_on_each_node=True,\n",
            "logging_dir=mlp_checkpoints\\runs\\Apr03_15-17-35_DESKTOP-Q5LDG25,\n",
            "logging_first_step=False,\n",
            "logging_nan_inf_filter=True,\n",
            "logging_steps=500,\n",
            "logging_strategy=steps,\n",
            "lr_scheduler_kwargs={},\n",
            "lr_scheduler_type=linear,\n",
            "max_grad_norm=1.0,\n",
            "max_steps=20000,\n",
            "metric_for_best_model=loss,\n",
            "mp_parameters=,\n",
            "neftune_noise_alpha=None,\n",
            "no_cuda=False,\n",
            "num_train_epochs=3.0,\n",
            "optim=adamw_torch,\n",
            "optim_args=None,\n",
            "optim_target_modules=None,\n",
            "output_dir=mlp_checkpoints,\n",
            "overwrite_output_dir=False,\n",
            "past_index=-1,\n",
            "per_device_eval_batch_size=8,\n",
            "per_device_train_batch_size=128,\n",
            "prediction_loss_only=False,\n",
            "push_to_hub=False,\n",
            "push_to_hub_model_id=None,\n",
            "push_to_hub_organization=None,\n",
            "push_to_hub_token=<PUSH_TO_HUB_TOKEN>,\n",
            "ray_scope=last,\n",
            "remove_unused_columns=True,\n",
            "report_to=[],\n",
            "resume_from_checkpoint=None,\n",
            "run_name=mlp_checkpoints,\n",
            "save_on_each_node=False,\n",
            "save_only_model=False,\n",
            "save_safetensors=True,\n",
            "save_steps=500,\n",
            "save_strategy=steps,\n",
            "save_total_limit=None,\n",
            "seed=42,\n",
            "skip_memory_metrics=True,\n",
            "split_batches=None,\n",
            "tf32=None,\n",
            "torch_compile=False,\n",
            "torch_compile_backend=None,\n",
            "torch_compile_mode=None,\n",
            "torchdynamo=None,\n",
            "tpu_metrics_debug=False,\n",
            "tpu_num_cores=None,\n",
            "use_cpu=False,\n",
            "use_ipex=False,\n",
            "use_legacy_prediction_loop=False,\n",
            "use_mps_device=False,\n",
            "warmup_ratio=0.0,\n",
            "warmup_steps=0,\n",
            "weight_decay=0.0,\n",
            ")\n"
          ]
        }
      ],
      "source": [
        "trainer_args = transformers.TrainingArguments(\n",
        "    \"mlp_checkpoints\", #save checkpoints here\n",
        "    evaluation_strategy=\"steps\",\n",
        "    logging_strategy=\"steps\",\n",
        "    eval_steps=500,\n",
        "    logging_steps=500,\n",
        "    learning_rate=1e-4, #learning rate of the gradient descent\n",
        "    max_steps=20000,\n",
        "    load_best_model_at_end=True,\n",
        "    per_device_train_batch_size=128\n",
        ")\n",
        "\n",
        "pprint(trainer_args)"
      ]
    },
    {
      "cell_type": "markdown",
      "metadata": {
        "id": "4sJwNXPU-dQX"
      },
      "source": [
        "Next, let's create a metric for evaluating performance during and after training. We can use the convenience function [`load_metric`](https://huggingface.co/docs/datasets/about_metrics) to load one of many pre-made metrics and wrap this for use by the trainer.\n",
        "\n",
        "We can use the basic `accuracy` metric, defined as the proportion of correctly predicted labels out of all labels. This time, though, the data is not evenly split."
      ]
    },
    {
      "cell_type": "code",
      "execution_count": 30,
      "metadata": {
        "colab": {
          "base_uri": "https://localhost:8080/",
          "height": 49,
          "referenced_widgets": [
            "c573453f74eb408999aed626e6a34e7e",
            "ae9c1133006546579a92210597eb8a60",
            "dbccc8a6cef746e08bde588a4ca26ad9",
            "970ee40e037a4611a8415c09ba143379",
            "277b1871c444496d8f98c595e70bd439",
            "0f33be08f6084dc7bc2fa3fcdde5e0cb",
            "59b65bf171054beebfea59c63587a005",
            "8104fefb54a44c6b8f43a3ad07eab6b1",
            "ae4f5b7dba2e448fab44fb5ddd5462dc",
            "d049c7a037d549fe8fbedccd46873129",
            "96bbece15f4b4b64b5ce2b7fdba8ac50"
          ]
        },
        "id": "u3jxIItb0BL9",
        "outputId": "b0170fa2-4949-4d00-9ffa-1831ab42efb0"
      },
      "outputs": [],
      "source": [
        "import numpy as np\n",
        "import evaluate\n",
        "\n",
        "accuracy = evaluate.load(\"accuracy\")\n",
        "\n",
        "def compute_accuracy(outputs_and_labels):\n",
        "    outputs, labels = outputs_and_labels\n",
        "    predictions = np.argmax(outputs, axis=-1) #pick the index of the \"winning\" label\n",
        "    return accuracy.compute(predictions=predictions, references=labels)"
      ]
    },
    {
      "cell_type": "markdown",
      "metadata": {
        "id": "S7kbz8uU-zpQ"
      },
      "source": [
        "We can then create the `Trainer` and train the model by invoking the [`Trainer.train`](https://huggingface.co/docs/transformers/main_classes/trainer#transformers.Trainer.train) function.\n",
        "\n",
        "In addition to the model, the settings passed in through the `TrainingArguments` object created above (`trainer_args`), the data, and the metric defined above, we create and pass the following to the `Trainer`:\n",
        "\n",
        "* [data collator](https://huggingface.co/docs/transformers/main_classes/data_collator): groups input into batches\n",
        "* [`EarlyStoppingCallback`](https://huggingface.co/docs/transformers/main_classes/callback#transformers.EarlyStoppingCallback): stops training when performance stops improving"
      ]
    },
    {
      "cell_type": "code",
      "execution_count": 31,
      "metadata": {
        "colab": {
          "base_uri": "https://localhost:8080/",
          "height": 1000
        },
        "id": "AoEoWsj4P_zN",
        "outputId": "02ed0bf3-742e-4a6d-cdbd-316205ecc54a"
      },
      "outputs": [
        {
          "name": "stderr",
          "output_type": "stream",
          "text": [
            "c:\\Python310\\lib\\site-packages\\accelerate\\accelerator.py:432: FutureWarning: Passing the following arguments to `Accelerator` is deprecated and will be removed in version 1.0 of Accelerate: dict_keys(['dispatch_batches', 'split_batches', 'even_batches', 'use_seedable_sampler']). Please pass an `accelerate.DataLoaderConfiguration` instead: \n",
            "dataloader_config = DataLoaderConfiguration(dispatch_batches=None, split_batches=False, even_batches=True, use_seedable_sampler=True)\n",
            "  warnings.warn(\n",
            "  2%|▎         | 500/20000 [00:06<04:08, 78.43it/s]"
          ]
        },
        {
          "name": "stdout",
          "output_type": "stream",
          "text": [
            "{'loss': 1.6058, 'grad_norm': 0.8244581818580627, 'learning_rate': 9.75e-05, 'epoch': 0.31}\n"
          ]
        },
        {
          "name": "stderr",
          "output_type": "stream",
          "text": [
            "                                                   \n",
            "  3%|▎         | 510/20000 [00:16<1:24:38,  3.84it/s]"
          ]
        },
        {
          "name": "stdout",
          "output_type": "stream",
          "text": [
            "{'eval_loss': 0.9984506964683533, 'eval_accuracy': 0.832444219461859, 'eval_runtime': 9.7664, 'eval_samples_per_second': 5259.058, 'eval_steps_per_second': 657.459, 'epoch': 0.31}\n"
          ]
        },
        {
          "name": "stderr",
          "output_type": "stream",
          "text": [
            "  5%|▌         | 1000/20000 [00:22<03:54, 81.01it/s] "
          ]
        },
        {
          "name": "stdout",
          "output_type": "stream",
          "text": [
            "{'loss': 0.7508, 'grad_norm': 0.29746729135513306, 'learning_rate': 9.5e-05, 'epoch': 0.63}\n"
          ]
        },
        {
          "name": "stderr",
          "output_type": "stream",
          "text": [
            "                                                    \n",
            "  5%|▌         | 1008/20000 [00:32<1:51:09,  2.85it/s]"
          ]
        },
        {
          "name": "stdout",
          "output_type": "stream",
          "text": [
            "{'eval_loss': 0.626826286315918, 'eval_accuracy': 0.8325999766364238, 'eval_runtime': 10.1231, 'eval_samples_per_second': 5073.728, 'eval_steps_per_second': 634.29, 'epoch': 0.63}\n"
          ]
        },
        {
          "name": "stderr",
          "output_type": "stream",
          "text": [
            "  8%|▊         | 1500/20000 [00:39<03:56, 78.29it/s]  "
          ]
        },
        {
          "name": "stdout",
          "output_type": "stream",
          "text": [
            "{'loss': 0.5676, 'grad_norm': 0.20013108849525452, 'learning_rate': 9.250000000000001e-05, 'epoch': 0.94}\n"
          ]
        },
        {
          "name": "stderr",
          "output_type": "stream",
          "text": [
            "                                                    \n",
            "  8%|▊         | 1513/20000 [00:48<1:11:39,  4.30it/s]"
          ]
        },
        {
          "name": "stdout",
          "output_type": "stream",
          "text": [
            "{'eval_loss': 0.5344957113265991, 'eval_accuracy': 0.8522837895720572, 'eval_runtime': 8.9011, 'eval_samples_per_second': 5770.32, 'eval_steps_per_second': 721.374, 'epoch': 0.94}\n"
          ]
        },
        {
          "name": "stderr",
          "output_type": "stream",
          "text": [
            " 10%|█         | 2000/20000 [00:54<03:35, 83.64it/s]  "
          ]
        },
        {
          "name": "stdout",
          "output_type": "stream",
          "text": [
            "{'loss': 0.4942, 'grad_norm': 0.18634437024593353, 'learning_rate': 9e-05, 'epoch': 1.26}\n"
          ]
        },
        {
          "name": "stderr",
          "output_type": "stream",
          "text": [
            "                                                    \n",
            " 10%|█         | 2011/20000 [01:03<1:09:09,  4.33it/s]"
          ]
        },
        {
          "name": "stdout",
          "output_type": "stream",
          "text": [
            "{'eval_loss': 0.4802820682525635, 'eval_accuracy': 0.8617265682800515, 'eval_runtime': 9.3497, 'eval_samples_per_second': 5493.415, 'eval_steps_per_second': 686.757, 'epoch': 1.26}\n"
          ]
        },
        {
          "name": "stderr",
          "output_type": "stream",
          "text": [
            " 12%|█▎        | 2500/20000 [01:10<03:45, 77.46it/s]  "
          ]
        },
        {
          "name": "stdout",
          "output_type": "stream",
          "text": [
            "{'loss': 0.4467, 'grad_norm': 0.17014947533607483, 'learning_rate': 8.75e-05, 'epoch': 1.57}\n"
          ]
        },
        {
          "name": "stderr",
          "output_type": "stream",
          "text": [
            "                                                    \n",
            " 13%|█▎        | 2506/20000 [01:20<1:43:00,  2.83it/s]"
          ]
        },
        {
          "name": "stdout",
          "output_type": "stream",
          "text": [
            "{'eval_loss': 0.43987753987312317, 'eval_accuracy': 0.8683073089054164, 'eval_runtime': 9.5485, 'eval_samples_per_second': 5379.055, 'eval_steps_per_second': 672.46, 'epoch': 1.57}\n"
          ]
        },
        {
          "name": "stderr",
          "output_type": "stream",
          "text": [
            " 15%|█▌        | 3000/20000 [01:26<03:27, 82.08it/s]  "
          ]
        },
        {
          "name": "stdout",
          "output_type": "stream",
          "text": [
            "{'loss': 0.4088, 'grad_norm': 0.1574796736240387, 'learning_rate': 8.5e-05, 'epoch': 1.89}\n"
          ]
        },
        {
          "name": "stderr",
          "output_type": "stream",
          "text": [
            "                                                    \n",
            " 15%|█▌        | 3016/20000 [01:35<1:05:32,  4.32it/s]"
          ]
        },
        {
          "name": "stdout",
          "output_type": "stream",
          "text": [
            "{'eval_loss': 0.40738043189048767, 'eval_accuracy': 0.877789026907052, 'eval_runtime': 9.3877, 'eval_samples_per_second': 5471.205, 'eval_steps_per_second': 683.981, 'epoch': 1.89}\n"
          ]
        },
        {
          "name": "stderr",
          "output_type": "stream",
          "text": [
            " 18%|█▊        | 3500/20000 [01:41<03:24, 80.64it/s]  "
          ]
        },
        {
          "name": "stdout",
          "output_type": "stream",
          "text": [
            "{'loss': 0.3879, 'grad_norm': 0.1427707076072693, 'learning_rate': 8.25e-05, 'epoch': 2.2}\n"
          ]
        },
        {
          "name": "stderr",
          "output_type": "stream",
          "text": [
            "                                                    \n",
            " 18%|█▊        | 3514/20000 [01:51<1:02:51,  4.37it/s]"
          ]
        },
        {
          "name": "stdout",
          "output_type": "stream",
          "text": [
            "{'eval_loss': 0.3807116150856018, 'eval_accuracy': 0.8879911218410498, 'eval_runtime': 9.2228, 'eval_samples_per_second': 5569.023, 'eval_steps_per_second': 696.209, 'epoch': 2.2}\n"
          ]
        },
        {
          "name": "stderr",
          "output_type": "stream",
          "text": [
            " 20%|██        | 4000/20000 [01:57<03:19, 80.26it/s]  "
          ]
        },
        {
          "name": "stdout",
          "output_type": "stream",
          "text": [
            "{'loss': 0.3508, 'grad_norm': 0.13871832191944122, 'learning_rate': 8e-05, 'epoch': 2.51}\n"
          ]
        },
        {
          "name": "stderr",
          "output_type": "stream",
          "text": [
            "                                                    \n",
            " 20%|██        | 4011/20000 [02:07<1:03:16,  4.21it/s]"
          ]
        },
        {
          "name": "stdout",
          "output_type": "stream",
          "text": [
            "{'eval_loss': 0.3581397831439972, 'eval_accuracy': 0.8959931466843192, 'eval_runtime': 9.3897, 'eval_samples_per_second': 5470.047, 'eval_steps_per_second': 683.836, 'epoch': 2.51}\n"
          ]
        },
        {
          "name": "stderr",
          "output_type": "stream",
          "text": [
            " 22%|██▎       | 4500/20000 [02:13<03:27, 74.75it/s]  "
          ]
        },
        {
          "name": "stdout",
          "output_type": "stream",
          "text": [
            "{'loss': 0.3337, 'grad_norm': 0.187480628490448, 'learning_rate': 7.75e-05, 'epoch': 2.83}\n"
          ]
        },
        {
          "name": "stderr",
          "output_type": "stream",
          "text": [
            "                                                    \n",
            " 23%|██▎       | 4512/20000 [02:22<1:06:48,  3.86it/s]"
          ]
        },
        {
          "name": "stdout",
          "output_type": "stream",
          "text": [
            "{'eval_loss': 0.33958542346954346, 'eval_accuracy': 0.9029827498929169, 'eval_runtime': 9.3878, 'eval_samples_per_second': 5471.159, 'eval_steps_per_second': 683.975, 'epoch': 2.83}\n"
          ]
        },
        {
          "name": "stderr",
          "output_type": "stream",
          "text": [
            " 25%|██▌       | 5000/20000 [02:29<03:18, 75.56it/s]  "
          ]
        },
        {
          "name": "stdout",
          "output_type": "stream",
          "text": [
            "{'loss': 0.3161, 'grad_norm': 0.15909534692764282, 'learning_rate': 7.500000000000001e-05, 'epoch': 3.14}\n"
          ]
        },
        {
          "name": "stderr",
          "output_type": "stream",
          "text": [
            "                                                    \n",
            " 25%|██▌       | 5008/20000 [02:38<1:28:07,  2.84it/s]"
          ]
        },
        {
          "name": "stdout",
          "output_type": "stream",
          "text": [
            "{'eval_loss': 0.3233102560043335, 'eval_accuracy': 0.9083953117090456, 'eval_runtime': 9.2988, 'eval_samples_per_second': 5523.537, 'eval_steps_per_second': 690.523, 'epoch': 3.14}\n"
          ]
        },
        {
          "name": "stderr",
          "output_type": "stream",
          "text": [
            " 28%|██▊       | 5500/20000 [02:44<02:59, 80.84it/s]  "
          ]
        },
        {
          "name": "stdout",
          "output_type": "stream",
          "text": [
            "{'loss': 0.297, 'grad_norm': 0.16669060289859772, 'learning_rate': 7.25e-05, 'epoch': 3.46}\n"
          ]
        },
        {
          "name": "stderr",
          "output_type": "stream",
          "text": [
            "                                                    \n",
            " 28%|██▊       | 5511/20000 [02:54<54:54,  4.40it/s]  "
          ]
        },
        {
          "name": "stdout",
          "output_type": "stream",
          "text": [
            "{'eval_loss': 0.3089526295661926, 'eval_accuracy': 0.9127954518905027, 'eval_runtime': 9.2067, 'eval_samples_per_second': 5578.759, 'eval_steps_per_second': 697.426, 'epoch': 3.46}\n"
          ]
        },
        {
          "name": "stderr",
          "output_type": "stream",
          "text": [
            " 30%|███       | 6000/20000 [03:00<02:53, 80.54it/s]"
          ]
        },
        {
          "name": "stdout",
          "output_type": "stream",
          "text": [
            "{'loss': 0.2829, 'grad_norm': 0.14174656569957733, 'learning_rate': 7e-05, 'epoch': 3.77}\n"
          ]
        },
        {
          "name": "stderr",
          "output_type": "stream",
          "text": [
            "                                                    \n",
            " 30%|███       | 6007/20000 [03:09<1:13:33,  3.17it/s]"
          ]
        },
        {
          "name": "stdout",
          "output_type": "stream",
          "text": [
            "{'eval_loss': 0.29627758264541626, 'eval_accuracy': 0.9159884739690822, 'eval_runtime': 9.0748, 'eval_samples_per_second': 5659.827, 'eval_steps_per_second': 707.561, 'epoch': 3.77}\n"
          ]
        },
        {
          "name": "stderr",
          "output_type": "stream",
          "text": [
            " 32%|███▎      | 6500/20000 [03:15<02:49, 79.51it/s]  "
          ]
        },
        {
          "name": "stdout",
          "output_type": "stream",
          "text": [
            "{'loss': 0.2683, 'grad_norm': 0.18344546854496002, 'learning_rate': 6.750000000000001e-05, 'epoch': 4.09}\n"
          ]
        },
        {
          "name": "stderr",
          "output_type": "stream",
          "text": [
            "                                                    \n",
            " 33%|███▎      | 6514/20000 [03:25<52:45,  4.26it/s]  "
          ]
        },
        {
          "name": "stdout",
          "output_type": "stream",
          "text": [
            "{'eval_loss': 0.28461042046546936, 'eval_accuracy': 0.9195514193372533, 'eval_runtime': 9.2238, 'eval_samples_per_second': 5568.403, 'eval_steps_per_second': 696.132, 'epoch': 4.09}\n"
          ]
        },
        {
          "name": "stderr",
          "output_type": "stream",
          "text": [
            " 35%|███▌      | 7000/20000 [03:31<02:37, 82.44it/s]"
          ]
        },
        {
          "name": "stdout",
          "output_type": "stream",
          "text": [
            "{'loss': 0.2605, 'grad_norm': 0.17911693453788757, 'learning_rate': 6.500000000000001e-05, 'epoch': 4.4}\n"
          ]
        },
        {
          "name": "stderr",
          "output_type": "stream",
          "text": [
            "                                                    \n",
            " 35%|███▌      | 7013/20000 [03:40<49:27,  4.38it/s]  "
          ]
        },
        {
          "name": "stdout",
          "output_type": "stream",
          "text": [
            "{'eval_loss': 0.27430418133735657, 'eval_accuracy': 0.9225497449476266, 'eval_runtime': 9.2518, 'eval_samples_per_second': 5551.564, 'eval_steps_per_second': 694.027, 'epoch': 4.4}\n"
          ]
        },
        {
          "name": "stderr",
          "output_type": "stream",
          "text": [
            " 38%|███▊      | 7500/20000 [03:46<02:32, 81.88it/s]"
          ]
        },
        {
          "name": "stdout",
          "output_type": "stream",
          "text": [
            "{'loss': 0.2449, 'grad_norm': 0.18445806205272675, 'learning_rate': 6.25e-05, 'epoch': 4.71}\n"
          ]
        },
        {
          "name": "stderr",
          "output_type": "stream",
          "text": [
            "                                                    \n",
            " 38%|███▊      | 7513/20000 [03:55<48:19,  4.31it/s]  "
          ]
        },
        {
          "name": "stdout",
          "output_type": "stream",
          "text": [
            "{'eval_loss': 0.2651596665382385, 'eval_accuracy': 0.925002920447023, 'eval_runtime': 9.0749, 'eval_samples_per_second': 5659.77, 'eval_steps_per_second': 707.554, 'epoch': 4.71}\n"
          ]
        },
        {
          "name": "stderr",
          "output_type": "stream",
          "text": [
            " 40%|████      | 8000/20000 [04:02<02:34, 77.50it/s]"
          ]
        },
        {
          "name": "stdout",
          "output_type": "stream",
          "text": [
            "{'loss': 0.2366, 'grad_norm': 0.1476937085390091, 'learning_rate': 6e-05, 'epoch': 5.03}\n"
          ]
        },
        {
          "name": "stderr",
          "output_type": "stream",
          "text": [
            "                                                    \n",
            " 40%|████      | 8011/20000 [04:11<47:00,  4.25it/s]  "
          ]
        },
        {
          "name": "stdout",
          "output_type": "stream",
          "text": [
            "{'eval_loss': 0.2566370964050293, 'eval_accuracy': 0.9271056423036486, 'eval_runtime': 9.2468, 'eval_samples_per_second': 5554.574, 'eval_steps_per_second': 694.403, 'epoch': 5.03}\n"
          ]
        },
        {
          "name": "stderr",
          "output_type": "stream",
          "text": [
            " 42%|████▎     | 8500/20000 [04:17<02:25, 78.83it/s]"
          ]
        },
        {
          "name": "stdout",
          "output_type": "stream",
          "text": [
            "{'loss': 0.2237, 'grad_norm': 0.160065159201622, 'learning_rate': 5.7499999999999995e-05, 'epoch': 5.34}\n"
          ]
        },
        {
          "name": "stderr",
          "output_type": "stream",
          "text": [
            "                                                    \n",
            " 43%|████▎     | 8506/20000 [04:27<1:04:13,  2.98it/s]"
          ]
        },
        {
          "name": "stdout",
          "output_type": "stream",
          "text": [
            "{'eval_loss': 0.2493765503168106, 'eval_accuracy': 0.9282348818192439, 'eval_runtime': 9.2653, 'eval_samples_per_second': 5543.471, 'eval_steps_per_second': 693.015, 'epoch': 5.34}\n"
          ]
        },
        {
          "name": "stderr",
          "output_type": "stream",
          "text": [
            " 45%|████▌     | 9000/20000 [04:33<02:18, 79.43it/s]  "
          ]
        },
        {
          "name": "stdout",
          "output_type": "stream",
          "text": [
            "{'loss': 0.2233, 'grad_norm': 0.17599479854106903, 'learning_rate': 5.500000000000001e-05, 'epoch': 5.66}\n"
          ]
        },
        {
          "name": "stderr",
          "output_type": "stream",
          "text": [
            "                                                    \n",
            " 45%|████▌     | 9007/20000 [04:42<1:03:07,  2.90it/s]"
          ]
        },
        {
          "name": "stdout",
          "output_type": "stream",
          "text": [
            "{'eval_loss': 0.243071049451828, 'eval_accuracy': 0.929461469568942, 'eval_runtime': 9.3057, 'eval_samples_per_second': 5519.384, 'eval_steps_per_second': 690.004, 'epoch': 5.66}\n"
          ]
        },
        {
          "name": "stderr",
          "output_type": "stream",
          "text": [
            " 48%|████▊     | 9500/20000 [04:48<02:12, 79.47it/s]  "
          ]
        },
        {
          "name": "stdout",
          "output_type": "stream",
          "text": [
            "{'loss': 0.2162, 'grad_norm': 0.11292988806962967, 'learning_rate': 5.25e-05, 'epoch': 5.97}\n"
          ]
        },
        {
          "name": "stderr",
          "output_type": "stream",
          "text": [
            "                                                    \n",
            " 48%|████▊     | 9510/20000 [04:58<42:14,  4.14it/s]"
          ]
        },
        {
          "name": "stdout",
          "output_type": "stream",
          "text": [
            "{'eval_loss': 0.23687264323234558, 'eval_accuracy': 0.9312526770764379, 'eval_runtime': 9.4406, 'eval_samples_per_second': 5440.519, 'eval_steps_per_second': 680.144, 'epoch': 5.97}\n"
          ]
        },
        {
          "name": "stderr",
          "output_type": "stream",
          "text": [
            " 50%|█████     | 10000/20000 [05:04<01:58, 84.05it/s]"
          ]
        },
        {
          "name": "stdout",
          "output_type": "stream",
          "text": [
            "{'loss': 0.2066, 'grad_norm': 0.16909322142601013, 'learning_rate': 5e-05, 'epoch': 6.29}\n"
          ]
        },
        {
          "name": "stderr",
          "output_type": "stream",
          "text": [
            "                                                     \n",
            " 50%|█████     | 10012/20000 [05:14<39:23,  4.23it/s]"
          ]
        },
        {
          "name": "stdout",
          "output_type": "stream",
          "text": [
            "{'eval_loss': 0.23196715116500854, 'eval_accuracy': 0.9322456290642888, 'eval_runtime': 9.3687, 'eval_samples_per_second': 5482.298, 'eval_steps_per_second': 685.367, 'epoch': 6.29}\n"
          ]
        },
        {
          "name": "stderr",
          "output_type": "stream",
          "text": [
            " 52%|█████▎    | 10500/20000 [05:20<01:56, 81.40it/s]"
          ]
        },
        {
          "name": "stdout",
          "output_type": "stream",
          "text": [
            "{'loss': 0.2014, 'grad_norm': 0.20081928372383118, 'learning_rate': 4.75e-05, 'epoch': 6.6}\n"
          ]
        },
        {
          "name": "stderr",
          "output_type": "stream",
          "text": [
            "                                                     \n",
            " 53%|█████▎    | 10509/20000 [05:29<50:41,  3.12it/s]"
          ]
        },
        {
          "name": "stdout",
          "output_type": "stream",
          "text": [
            "{'eval_loss': 0.22695891559123993, 'eval_accuracy': 0.9331996417584985, 'eval_runtime': 9.3267, 'eval_samples_per_second': 5506.967, 'eval_steps_per_second': 688.451, 'epoch': 6.6}\n"
          ]
        },
        {
          "name": "stderr",
          "output_type": "stream",
          "text": [
            " 55%|█████▌    | 11000/20000 [05:35<01:52, 80.27it/s]"
          ]
        },
        {
          "name": "stdout",
          "output_type": "stream",
          "text": [
            "{'loss': 0.2003, 'grad_norm': 0.16003520786762238, 'learning_rate': 4.5e-05, 'epoch': 6.91}\n"
          ]
        },
        {
          "name": "stderr",
          "output_type": "stream",
          "text": [
            "                                                     \n",
            " 55%|█████▌    | 11011/20000 [05:45<35:29,  4.22it/s]"
          ]
        },
        {
          "name": "stdout",
          "output_type": "stream",
          "text": [
            "{'eval_loss': 0.22229568660259247, 'eval_accuracy': 0.9343288812740936, 'eval_runtime': 9.1657, 'eval_samples_per_second': 5603.705, 'eval_steps_per_second': 700.545, 'epoch': 6.91}\n"
          ]
        },
        {
          "name": "stderr",
          "output_type": "stream",
          "text": [
            " 57%|█████▊    | 11500/20000 [05:51<01:41, 83.97it/s]"
          ]
        },
        {
          "name": "stdout",
          "output_type": "stream",
          "text": [
            "{'loss': 0.1894, 'grad_norm': 0.19198378920555115, 'learning_rate': 4.25e-05, 'epoch': 7.23}\n"
          ]
        },
        {
          "name": "stderr",
          "output_type": "stream",
          "text": [
            "                                                     \n",
            " 58%|█████▊    | 11506/20000 [06:00<45:36,  3.10it/s]"
          ]
        },
        {
          "name": "stdout",
          "output_type": "stream",
          "text": [
            "{'eval_loss': 0.2185603678226471, 'eval_accuracy': 0.9354775904365095, 'eval_runtime': 9.2758, 'eval_samples_per_second': 5537.221, 'eval_steps_per_second': 692.233, 'epoch': 7.23}\n"
          ]
        },
        {
          "name": "stderr",
          "output_type": "stream",
          "text": [
            " 60%|██████    | 12000/20000 [06:06<01:35, 83.71it/s]"
          ]
        },
        {
          "name": "stdout",
          "output_type": "stream",
          "text": [
            "{'loss': 0.1929, 'grad_norm': 0.15697139501571655, 'learning_rate': 4e-05, 'epoch': 7.54}\n"
          ]
        },
        {
          "name": "stderr",
          "output_type": "stream",
          "text": [
            "                                                     \n",
            " 60%|██████    | 12006/20000 [06:16<41:54,  3.18it/s]"
          ]
        },
        {
          "name": "stdout",
          "output_type": "stream",
          "text": [
            "{'eval_loss': 0.2148643583059311, 'eval_accuracy': 0.9366652388925665, 'eval_runtime': 9.2508, 'eval_samples_per_second': 5552.173, 'eval_steps_per_second': 694.103, 'epoch': 7.54}\n"
          ]
        },
        {
          "name": "stderr",
          "output_type": "stream",
          "text": [
            " 62%|██████▎   | 12500/20000 [06:22<01:36, 77.97it/s]"
          ]
        },
        {
          "name": "stdout",
          "output_type": "stream",
          "text": [
            "{'loss': 0.1868, 'grad_norm': 0.1652078479528427, 'learning_rate': 3.7500000000000003e-05, 'epoch': 7.86}\n"
          ]
        },
        {
          "name": "stderr",
          "output_type": "stream",
          "text": [
            "                                                     \n",
            " 63%|██████▎   | 12512/20000 [06:31<30:55,  4.04it/s]"
          ]
        },
        {
          "name": "stdout",
          "output_type": "stream",
          "text": [
            "{'eval_loss': 0.21180714666843414, 'eval_accuracy': 0.9378334177018028, 'eval_runtime': 9.1729, 'eval_samples_per_second': 5599.35, 'eval_steps_per_second': 700.001, 'epoch': 7.86}\n"
          ]
        },
        {
          "name": "stderr",
          "output_type": "stream",
          "text": [
            " 65%|██████▌   | 13000/20000 [06:37<01:26, 80.70it/s]"
          ]
        },
        {
          "name": "stdout",
          "output_type": "stream",
          "text": [
            "{'loss': 0.1794, 'grad_norm': 0.1509096920490265, 'learning_rate': 3.5e-05, 'epoch': 8.17}\n"
          ]
        },
        {
          "name": "stderr",
          "output_type": "stream",
          "text": [
            "                                                     \n",
            " 65%|██████▌   | 13009/20000 [06:47<27:57,  4.17it/s]"
          ]
        },
        {
          "name": "stdout",
          "output_type": "stream",
          "text": [
            "{'eval_loss': 0.20885561406612396, 'eval_accuracy': 0.9384564464000623, 'eval_runtime': 9.2848, 'eval_samples_per_second': 5531.858, 'eval_steps_per_second': 691.563, 'epoch': 8.17}\n"
          ]
        },
        {
          "name": "stderr",
          "output_type": "stream",
          "text": [
            " 68%|██████▊   | 13500/20000 [06:53<01:21, 80.15it/s]"
          ]
        },
        {
          "name": "stdout",
          "output_type": "stream",
          "text": [
            "{'loss': 0.1778, 'grad_norm': 0.2160128802061081, 'learning_rate': 3.2500000000000004e-05, 'epoch': 8.49}\n"
          ]
        },
        {
          "name": "stderr",
          "output_type": "stream",
          "text": [
            "                                                     \n",
            " 68%|██████▊   | 13509/20000 [07:02<35:00,  3.09it/s]"
          ]
        },
        {
          "name": "stdout",
          "output_type": "stream",
          "text": [
            "{'eval_loss': 0.2063482701778412, 'eval_accuracy': 0.9394883376815545, 'eval_runtime': 9.2998, 'eval_samples_per_second': 5522.933, 'eval_steps_per_second': 690.447, 'epoch': 8.49}\n"
          ]
        },
        {
          "name": "stderr",
          "output_type": "stream",
          "text": [
            " 70%|███████   | 14000/20000 [07:09<01:20, 74.36it/s]"
          ]
        },
        {
          "name": "stdout",
          "output_type": "stream",
          "text": [
            "{'loss': 0.1782, 'grad_norm': 0.1755862683057785, 'learning_rate': 3e-05, 'epoch': 8.8}\n"
          ]
        },
        {
          "name": "stderr",
          "output_type": "stream",
          "text": [
            "                                                     \n",
            " 70%|███████   | 14012/20000 [07:18<25:10,  3.96it/s]"
          ]
        },
        {
          "name": "stdout",
          "output_type": "stream",
          "text": [
            "{'eval_loss': 0.20409664511680603, 'eval_accuracy': 0.940150305673455, 'eval_runtime': 9.2928, 'eval_samples_per_second': 5527.1, 'eval_steps_per_second': 690.968, 'epoch': 8.8}\n"
          ]
        },
        {
          "name": "stderr",
          "output_type": "stream",
          "text": [
            " 72%|███████▎  | 14500/20000 [07:24<01:09, 79.08it/s]"
          ]
        },
        {
          "name": "stdout",
          "output_type": "stream",
          "text": [
            "{'loss': 0.17, 'grad_norm': 0.1540101170539856, 'learning_rate': 2.7500000000000004e-05, 'epoch': 9.11}\n"
          ]
        },
        {
          "name": "stderr",
          "output_type": "stream",
          "text": [
            "                                                     \n",
            " 73%|███████▎  | 14513/20000 [07:34<22:42,  4.03it/s]"
          ]
        },
        {
          "name": "stdout",
          "output_type": "stream",
          "text": [
            "{'eval_loss': 0.20193910598754883, 'eval_accuracy': 0.9408122736653557, 'eval_runtime': 9.2388, 'eval_samples_per_second': 5559.379, 'eval_steps_per_second': 695.004, 'epoch': 9.11}\n"
          ]
        },
        {
          "name": "stderr",
          "output_type": "stream",
          "text": [
            " 75%|███████▌  | 15000/20000 [07:40<01:03, 79.30it/s]"
          ]
        },
        {
          "name": "stdout",
          "output_type": "stream",
          "text": [
            "{'loss': 0.1734, 'grad_norm': 0.18108461797237396, 'learning_rate': 2.5e-05, 'epoch': 9.43}\n"
          ]
        },
        {
          "name": "stderr",
          "output_type": "stream",
          "text": [
            "                                                     \n",
            " 75%|███████▌  | 15014/20000 [07:49<19:30,  4.26it/s]"
          ]
        },
        {
          "name": "stdout",
          "output_type": "stream",
          "text": [
            "{'eval_loss': 0.2001609057188034, 'eval_accuracy': 0.9412016666017679, 'eval_runtime': 9.3018, 'eval_samples_per_second': 5521.745, 'eval_steps_per_second': 690.299, 'epoch': 9.43}\n"
          ]
        },
        {
          "name": "stderr",
          "output_type": "stream",
          "text": [
            " 78%|███████▊  | 15500/20000 [07:55<00:56, 79.77it/s]"
          ]
        },
        {
          "name": "stdout",
          "output_type": "stream",
          "text": [
            "{'loss': 0.1709, 'grad_norm': 0.15790991485118866, 'learning_rate': 2.25e-05, 'epoch': 9.74}\n"
          ]
        },
        {
          "name": "stderr",
          "output_type": "stream",
          "text": [
            "                                                     \n",
            " 78%|███████▊  | 15513/20000 [08:05<17:54,  4.18it/s]"
          ]
        },
        {
          "name": "stdout",
          "output_type": "stream",
          "text": [
            "{'eval_loss': 0.19833721220493317, 'eval_accuracy': 0.9417273470659242, 'eval_runtime': 9.043, 'eval_samples_per_second': 5679.775, 'eval_steps_per_second': 710.055, 'epoch': 9.74}\n"
          ]
        },
        {
          "name": "stderr",
          "output_type": "stream",
          "text": [
            " 80%|████████  | 16000/20000 [08:11<00:50, 78.67it/s]"
          ]
        },
        {
          "name": "stdout",
          "output_type": "stream",
          "text": [
            "{'loss': 0.1655, 'grad_norm': 0.18245558440685272, 'learning_rate': 2e-05, 'epoch': 10.06}\n"
          ]
        },
        {
          "name": "stderr",
          "output_type": "stream",
          "text": [
            "                                                     \n",
            " 80%|████████  | 16009/20000 [08:20<16:38,  4.00it/s]"
          ]
        },
        {
          "name": "stdout",
          "output_type": "stream",
          "text": [
            "{'eval_loss': 0.19692155718803406, 'eval_accuracy': 0.9420972703555157, 'eval_runtime': 9.3198, 'eval_samples_per_second': 5511.082, 'eval_steps_per_second': 688.966, 'epoch': 10.06}\n"
          ]
        },
        {
          "name": "stderr",
          "output_type": "stream",
          "text": [
            " 82%|████████▎ | 16500/20000 [08:27<00:43, 80.97it/s]"
          ]
        },
        {
          "name": "stdout",
          "output_type": "stream",
          "text": [
            "{'loss': 0.1655, 'grad_norm': 0.18488885462284088, 'learning_rate': 1.75e-05, 'epoch': 10.37}\n"
          ]
        },
        {
          "name": "stderr",
          "output_type": "stream",
          "text": [
            "                                                     \n",
            " 83%|████████▎ | 16513/20000 [08:36<13:28,  4.32it/s]"
          ]
        },
        {
          "name": "stdout",
          "output_type": "stream",
          "text": [
            "{'eval_loss': 0.1956760287284851, 'eval_accuracy': 0.9425645418792103, 'eval_runtime': 9.3757, 'eval_samples_per_second': 5478.207, 'eval_steps_per_second': 684.856, 'epoch': 10.37}\n"
          ]
        },
        {
          "name": "stderr",
          "output_type": "stream",
          "text": [
            " 85%|████████▌ | 17000/20000 [08:42<00:35, 85.10it/s]"
          ]
        },
        {
          "name": "stdout",
          "output_type": "stream",
          "text": [
            "{'loss': 0.1643, 'grad_norm': 0.15298046171665192, 'learning_rate': 1.5e-05, 'epoch': 10.69}\n"
          ]
        },
        {
          "name": "stderr",
          "output_type": "stream",
          "text": [
            "                                                     \n",
            " 85%|████████▌ | 17008/20000 [08:51<15:18,  3.26it/s]"
          ]
        },
        {
          "name": "stdout",
          "output_type": "stream",
          "text": [
            "{'eval_loss': 0.19460168480873108, 'eval_accuracy': 0.94287605622834, 'eval_runtime': 9.029, 'eval_samples_per_second': 5688.581, 'eval_steps_per_second': 711.156, 'epoch': 10.69}\n"
          ]
        },
        {
          "name": "stderr",
          "output_type": "stream",
          "text": [
            " 88%|████████▊ | 17500/20000 [08:58<00:32, 77.62it/s]"
          ]
        },
        {
          "name": "stdout",
          "output_type": "stream",
          "text": [
            "{'loss': 0.1647, 'grad_norm': 0.2053229808807373, 'learning_rate': 1.25e-05, 'epoch': 11.0}\n"
          ]
        },
        {
          "name": "stderr",
          "output_type": "stream",
          "text": [
            "                                                     \n",
            " 88%|████████▊ | 17505/20000 [09:07<14:21,  2.90it/s]"
          ]
        },
        {
          "name": "stdout",
          "output_type": "stream",
          "text": [
            "{'eval_loss': 0.1937597244977951, 'eval_accuracy': 0.9431486312838285, 'eval_runtime': 9.2298, 'eval_samples_per_second': 5564.792, 'eval_steps_per_second': 695.68, 'epoch': 11.0}\n"
          ]
        },
        {
          "name": "stderr",
          "output_type": "stream",
          "text": [
            " 90%|█████████ | 18000/20000 [09:13<00:24, 82.48it/s]"
          ]
        },
        {
          "name": "stdout",
          "output_type": "stream",
          "text": [
            "{'loss': 0.1625, 'grad_norm': 0.16734929382801056, 'learning_rate': 1e-05, 'epoch': 11.31}\n"
          ]
        },
        {
          "name": "stderr",
          "output_type": "stream",
          "text": [
            "                                                     \n",
            " 90%|█████████ | 18012/20000 [09:23<07:33,  4.39it/s]"
          ]
        },
        {
          "name": "stdout",
          "output_type": "stream",
          "text": [
            "{'eval_loss': 0.19307014346122742, 'eval_accuracy': 0.9433043884583934, 'eval_runtime': 9.2071, 'eval_samples_per_second': 5578.509, 'eval_steps_per_second': 697.395, 'epoch': 11.31}\n"
          ]
        },
        {
          "name": "stderr",
          "output_type": "stream",
          "text": [
            " 92%|█████████▎| 18500/20000 [09:29<00:20, 74.72it/s]"
          ]
        },
        {
          "name": "stdout",
          "output_type": "stream",
          "text": [
            "{'loss': 0.1621, 'grad_norm': 0.1451369971036911, 'learning_rate': 7.5e-06, 'epoch': 11.63}\n"
          ]
        },
        {
          "name": "stderr",
          "output_type": "stream",
          "text": [
            "                                                     \n",
            " 93%|█████████▎| 18507/20000 [09:38<08:46,  2.83it/s]"
          ]
        },
        {
          "name": "stdout",
          "output_type": "stream",
          "text": [
            "{'eval_loss': 0.19248662889003754, 'eval_accuracy': 0.9434990849265994, 'eval_runtime': 9.2958, 'eval_samples_per_second': 5525.318, 'eval_steps_per_second': 690.745, 'epoch': 11.63}\n"
          ]
        },
        {
          "name": "stderr",
          "output_type": "stream",
          "text": [
            " 95%|█████████▌| 19000/20000 [09:44<00:11, 83.73it/s]"
          ]
        },
        {
          "name": "stdout",
          "output_type": "stream",
          "text": [
            "{'loss': 0.1605, 'grad_norm': 0.12593694031238556, 'learning_rate': 5e-06, 'epoch': 11.94}\n"
          ]
        },
        {
          "name": "stderr",
          "output_type": "stream",
          "text": [
            "                                                     \n",
            " 95%|█████████▌| 19012/20000 [09:54<03:53,  4.23it/s]"
          ]
        },
        {
          "name": "stdout",
          "output_type": "stream",
          "text": [
            "{'eval_loss': 0.19206297397613525, 'eval_accuracy': 0.94351855457342, 'eval_runtime': 9.2828, 'eval_samples_per_second': 5533.047, 'eval_steps_per_second': 691.712, 'epoch': 11.94}\n"
          ]
        },
        {
          "name": "stderr",
          "output_type": "stream",
          "text": [
            " 98%|█████████▊| 19500/20000 [10:00<00:06, 80.56it/s]"
          ]
        },
        {
          "name": "stdout",
          "output_type": "stream",
          "text": [
            "{'loss': 0.1606, 'grad_norm': 0.17351014912128448, 'learning_rate': 2.5e-06, 'epoch': 12.26}\n"
          ]
        },
        {
          "name": "stderr",
          "output_type": "stream",
          "text": [
            "                                                     \n",
            " 98%|█████████▊| 19508/20000 [10:09<02:36,  3.14it/s]"
          ]
        },
        {
          "name": "stdout",
          "output_type": "stream",
          "text": [
            "{'eval_loss': 0.1918441504240036, 'eval_accuracy': 0.9435964331607025, 'eval_runtime': 9.0749, 'eval_samples_per_second': 5659.769, 'eval_steps_per_second': 707.554, 'epoch': 12.26}\n"
          ]
        },
        {
          "name": "stderr",
          "output_type": "stream",
          "text": [
            "100%|██████████| 20000/20000 [10:15<00:00, 80.64it/s]"
          ]
        },
        {
          "name": "stdout",
          "output_type": "stream",
          "text": [
            "{'loss': 0.16, 'grad_norm': 0.14675122499465942, 'learning_rate': 0.0, 'epoch': 12.57}\n"
          ]
        },
        {
          "name": "stderr",
          "output_type": "stream",
          "text": [
            "                                                     \n",
            "100%|██████████| 20000/20000 [10:25<00:00, 31.99it/s]"
          ]
        },
        {
          "name": "stdout",
          "output_type": "stream",
          "text": [
            "{'eval_loss': 0.19175395369529724, 'eval_accuracy': 0.9435964331607025, 'eval_runtime': 9.2568, 'eval_samples_per_second': 5548.588, 'eval_steps_per_second': 693.654, 'epoch': 12.57}\n",
            "{'train_runtime': 625.177, 'train_samples_per_second': 4094.84, 'train_steps_per_second': 31.991, 'train_loss': 0.2902182357788086, 'epoch': 12.57}\n"
          ]
        },
        {
          "name": "stderr",
          "output_type": "stream",
          "text": [
            "\n"
          ]
        },
        {
          "data": {
            "text/plain": [
              "TrainOutput(global_step=20000, training_loss=0.2902182357788086, metrics={'train_runtime': 625.177, 'train_samples_per_second': 4094.84, 'train_steps_per_second': 31.991, 'train_loss': 0.2902182357788086, 'epoch': 12.57})"
            ]
          },
          "execution_count": 31,
          "metadata": {},
          "output_type": "execute_result"
        }
      ],
      "source": [
        "# Make a new model\n",
        "mlp = MLP(mlp_config)\n",
        "\n",
        "\n",
        "# Argument gives the number of steps of patience before early stopping\n",
        "# i.e. training is stopped when the evaluation loss fails to improve\n",
        "# certain number of times\n",
        "early_stopping = transformers.EarlyStoppingCallback(5)\n",
        "\n",
        "trainer = transformers.Trainer(\n",
        "    model=mlp,\n",
        "    args=trainer_args,\n",
        "    train_dataset=vectorized_dataset[\"train\"],\n",
        "    eval_dataset=vectorized_dataset[\"validation\"],\n",
        "    compute_metrics=compute_accuracy,\n",
        "    data_collator=collator,\n",
        "    callbacks=[early_stopping]\n",
        ")\n",
        "\n",
        "trainer.train()"
      ]
    },
    {
      "cell_type": "markdown",
      "metadata": {
        "id": "Td03fcIa-6Hj"
      },
      "source": [
        "We can then evaluate the trained model on a given dataset (here our test subset) by calling [`Trainer.evaluate`](https://huggingface.co/docs/transformers/main_classes/trainer#transformers.Trainer.evaluate):"
      ]
    },
    {
      "cell_type": "code",
      "execution_count": 32,
      "metadata": {
        "colab": {
          "base_uri": "https://localhost:8080/",
          "height": 54
        },
        "id": "9nlEwpnF2Vow",
        "outputId": "934b273c-ca51-4589-b407-b5fdfc29f237"
      },
      "outputs": [
        {
          "name": "stderr",
          "output_type": "stream",
          "text": [
            "100%|██████████| 5805/5805 [00:08<00:00, 716.69it/s]"
          ]
        },
        {
          "name": "stdout",
          "output_type": "stream",
          "text": [
            "Accuracy: 0.9308711101539787\n"
          ]
        },
        {
          "name": "stderr",
          "output_type": "stream",
          "text": [
            "\n"
          ]
        }
      ],
      "source": [
        "eval_results = trainer.evaluate(vectorized_dataset[\"test\"])\n",
        "\n",
        "print(\"Accuracy:\", eval_results[\"eval_accuracy\"])"
      ]
    },
    {
      "cell_type": "markdown",
      "metadata": {
        "id": "pEbNfGDhfdXK"
      },
      "source": [
        "That's pretty poor performance for a task as simple as POS tagging where state-of-the-art accuracies are generally 97-99%. (The approach demonstrated in this notebook should be considered more of a teaching tool than a serious tagger implementation.)\n",
        "\n",
        "However, the result is certainly much better than random, so we can conclude that the model is learning something about the task."
      ]
    },
    {
      "cell_type": "markdown",
      "metadata": {
        "id": "P0OYB3TRp-IH"
      },
      "source": [
        "---\n",
        "\n",
        "# Save model for later use\n",
        "\n",
        "* You can save it with `trainer.save_model()`\n",
        "* You can load it with `MLP.from_pretrained()`\n"
      ]
    },
    {
      "cell_type": "code",
      "execution_count": 33,
      "metadata": {
        "id": "FosHTDw3p9dd"
      },
      "outputs": [],
      "source": [
        "trainer.save_model(\"mlp-postagger\")"
      ]
    },
    {
      "cell_type": "markdown",
      "metadata": {
        "id": "13aB7DuqzeFi"
      },
      "source": [
        "---\n",
        "\n",
        "# What has the model learned?\n",
        "\n",
        "* The embeddings should have some meaning to them\n",
        "* Similar features should have similar embeddings"
      ]
    },
    {
      "cell_type": "code",
      "execution_count": 34,
      "metadata": {
        "id": "M6TUrVkMCmz7"
      },
      "outputs": [],
      "source": [
        "# Grab the embedding matrix out of the trained model\n",
        "# and drop the first row (padding 0)\n",
        "# then we can treat the embeddings as vectors\n",
        "\n",
        "weights=mlp.embedding.weight.detach().cpu().numpy()\n",
        "weights=weights[1:,:]"
      ]
    },
    {
      "cell_type": "code",
      "execution_count": 45,
      "metadata": {
        "colab": {
          "base_uri": "https://localhost:8080/"
        },
        "id": "4uTTvRgGDU9D",
        "outputId": "84fda8df-3c44-47cb-e78f-7a95b45fd168"
      },
      "outputs": [
        {
          "name": "stdout",
          "output_type": "stream",
          "text": [
            "token[0]=David\n",
            "token[0]=Paul\n",
            "token[0]=John\n",
            "token[0]=Michael\n",
            "token[-1]=c\n",
            "token[0]=M.\n",
            "token[0]=A.\n",
            "token[-1]=champion\n",
            "token[0]=Wasim\n",
            "token[-2]=Prime\n",
            "token[0]=Mark\n",
            "token[0]=Peter\n",
            "token[-3]=c\n",
            "token[-1]=4.\n",
            "token[1]=Akram\n",
            "token[0]=Bill\n",
            "token[-1]=6.\n",
            "token[0]=G.\n",
            "token[-1]=7.\n",
            "token[-1]=midfielder\n"
          ]
        }
      ],
      "source": [
        "qry_idx=vectorizer.vocabulary_[\"token[0]=David\"]\n",
        "\n",
        "#calculate the distance of the \"in\" embedding to all other embeddings\n",
        "distance_to_qry=sklearn.metrics.pairwise.euclidean_distances(weights[qry_idx:qry_idx+1,:],weights)\n",
        "nearest_neighbors=np.argsort(distance_to_qry) #indices of words nearest to \"in\"\n",
        "for nearest in nearest_neighbors[0,:20]:\n",
        "    print(idx2feat[nearest])"
      ]
    },
    {
      "cell_type": "markdown",
      "metadata": {},
      "source": [
        "The closest embeddings to a first name are pretty much all first names also or initials of first names. First names are also preceded a lot by number or a \"c\" which persumably stands for captain. Titles also precede first names."
      ]
    },
    {
      "cell_type": "code",
      "execution_count": 46,
      "metadata": {},
      "outputs": [
        {
          "name": "stdout",
          "output_type": "stream",
          "text": [
            "token[0]=NATO\n",
            "token[0]=PSV\n",
            "token[0]=PUK\n",
            "token[0]=EU\n",
            "token[0]=Ajax\n",
            "token[0]=Oakland\n",
            "token[0]=Honda\n",
            "token[0]=KDP\n",
            "token[0]=Marseille\n",
            "token[0]=Senate\n",
            "token[0]=Gencor\n",
            "token[3]=v\n",
            "token[0]=Feyenoord\n",
            "token[0]=Yorkshire\n",
            "token[0]=Atletico\n",
            "token[0]=U.N.\n",
            "token[-3]=v\n",
            "token[0]=Lens\n",
            "token[0]=Barrick\n",
            "token[0]=Milwaukee\n"
          ]
        }
      ],
      "source": [
        "qry_idx=vectorizer.vocabulary_[\"token[0]=NATO\"]\n",
        "\n",
        "#calculate the distance of the \"in\" embedding to all other embeddings\n",
        "distance_to_qry=sklearn.metrics.pairwise.euclidean_distances(weights[qry_idx:qry_idx+1,:],weights)\n",
        "nearest_neighbors=np.argsort(distance_to_qry) #indices of words nearest to \"in\"\n",
        "for nearest in nearest_neighbors[0,:20]:\n",
        "    print(idx2feat[nearest])"
      ]
    },
    {
      "cell_type": "markdown",
      "metadata": {},
      "source": [
        "An organization is surrounded by other organizations. This corpus seems to include some text about football. \"v\" probably stands for \"versus\" which is written between two football teams."
      ]
    },
    {
      "cell_type": "markdown",
      "metadata": {
        "id": "cQCmThdu2LDR"
      },
      "source": [
        "* The embeddings indeed seem to reflect the task and capture aspects of the meaning of words relevant to the task\n",
        "* But now we have many classes, so we should take that into account too\n",
        "* We can take the dot-product of the feature embeddings with the output layer weight of the class we care about\n",
        "* When you think how the information propagates in the network, this will give us a single number reflecting each feature w.r.t. the selected label\n",
        "* Technically speaking, it is the prediction of an example which only has that one feature, with respect to that one class\n",
        "* Here is how we can implement it (here we rely on the fact that the model is linear, since we didn't include a nonlinearity earlier in the model's `forward()`"
      ]
    },
    {
      "cell_type": "code",
      "execution_count": 36,
      "metadata": {
        "colab": {
          "base_uri": "https://localhost:8080/"
        },
        "id": "T5coMII4ABPt",
        "outputId": "d5ef86e9-02d0-45e0-ab82-00582f08e8ee"
      },
      "outputs": [
        {
          "data": {
            "text/plain": [
              "(30000, 9)"
            ]
          },
          "execution_count": 36,
          "metadata": {},
          "output_type": "execute_result"
        }
      ],
      "source": [
        "import numpy\n",
        "\n",
        "embedding_weights=weights    #shape (features, embedding-dim)\n",
        "output_weights=mlp.output.weight.detach().cpu().numpy()    #shape (num-labels, embedding-dim)\n",
        "\n",
        "# We just matrix-multiply these together, since this gives us all the dot-products\n",
        "weights_by_label=numpy.matmul(embedding_weights, output_weights.T)\n",
        "weights_by_label.shape"
      ]
    },
    {
      "cell_type": "code",
      "execution_count": 47,
      "metadata": {
        "colab": {
          "base_uri": "https://localhost:8080/"
        },
        "id": "4vnJj7cNBagc",
        "outputId": "f49e5a94-fe89-4e0c-c8cf-be71a2274f0f"
      },
      "outputs": [
        {
          "name": "stdout",
          "output_type": "stream",
          "text": [
            "Most important features *for* label O:\n",
            "('pos_tag_of_token[0]=28   pos_tag_of_token[0]=11   token[0]=\"   '\n",
            " 'pos_tag_of_token[0]=0   token[0]=to   token[0]=a   token[0]=.   '\n",
            " 'pos_tag_of_token[0]=7   token[0]=AT   token[0]=said   token[0]=Thursday   '\n",
            " 'token[0]=He   token[0]=0   token[0]=It   token[0]=-   token[0]=Tuesday   '\n",
            " 'token[0]=Monday   pos_tag_of_token[0]=8   token[0]=Wednesday   '\n",
            " 'token[0]=Minister')\n",
            "\n",
            "Most important features *against* label O:\n",
            "('first-letter-capitalized   pos_tag_of_token[0]=23   token[0]=Russian   '\n",
            " 'pos_tag_of_token[0]=22   token[0]=&   token[0]=British   token[0]=Iraqi   '\n",
            " 'token[0]=German   token[0]=de   token[0]=Palestinian   token[0]=European   '\n",
            " 'token[0]=Kurdish   token[0]=French   token[0]=Israeli   token[0]=U.S.   '\n",
            " 'token[1]=Oval   token[-1]=South   token[-1]=Lloyd   token[0]=RTRS   '\n",
            " 'token[-1]=New')\n",
            "\n",
            "------\n",
            "\n",
            "Most important features *for* label B-PER:\n",
            "('token[-1]=President   token[-1]=Minister   token[-1]=b   token[0]=Clinton   '\n",
            " 'token[-1]=3.   token[-1]=2.   token[-1]=1.   token[0]=Mark   '\n",
            " 'token[-1]=beat   first-letter-capitalized   token[-1]=6.   token[0]=M.   '\n",
            " 'token[0]=John   token[-2]=Prime   token[0]=Paul   token[0]=Michael   '\n",
            " 'token[-1]=5.   token[0]=David   token[2]=c   token[-1]=4.')\n",
            "\n",
            "Most important features *against* label B-PER:\n",
            "('pos_tag_of_token[0]=28   pos_tag_of_token[-1]=22   pos_tag_of_token[0]=11   '\n",
            " 'pos_tag_of_token[0]=0   token[0]=\"   token[0]=.   pos_tag_of_token[0]=7   '\n",
            " 'token[0]=to   token[0]=a   token[0]=He   token[0]=Thursday   token[0]=AT   '\n",
            " 'pos_tag_of_token[0]=8   token[0]=who   token[0]=said   token[0]=It   '\n",
            " 'token[0]=Wednesday   token[0]=-   token[0]=which   token[0]=0')\n",
            "\n",
            "------\n",
            "\n",
            "Most important features *for* label I-PER:\n",
            "('pos_tag_of_token[-1]=22   token[-2]=President   token[-2]=Minister   '\n",
            " 'token[-1]=Mark   token[-1]=M.   token[-1]=John   token[-2]=beat   '\n",
            " 'token[-3]=Prime   token[-1]=Michael   token[-1]=David   token[-1]=A.   '\n",
            " 'token[-1]=Paul   token[0]=Ahmed   token[0]=Akram   token[1]=c   '\n",
            " 'token[-2]=1.   token[-2]=champion   token[-1]=Bill   token[-2]=2.   '\n",
            " 'token[2]=Spain')\n",
            "\n",
            "Most important features *against* label I-PER:\n",
            "('pos_tag_of_token[0]=28   pos_tag_of_token[0]=11   pos_tag_of_token[1]=22   '\n",
            " 'token[0]=said   pos_tag_of_token[0]=0   token[0]=\"   token[0]=AT   '\n",
            " 'token[0]=to   token[0]=a   token[0]=.   token[0]=Thursday   token[0]=He   '\n",
            " 'pos_tag_of_token[0]=7   pos_tag_of_token[-1]=11   token[0]=0   token[0]=It   '\n",
            " 'token[-1]=on   token[0]=-   token[0]=Wednesday   token[0]=Minister')\n",
            "\n",
            "------\n",
            "\n",
            "Most important features *for* label B-ORG:\n",
            "('token[0]=Reuters   token[-1]=v   first-letter-capitalized   token[3]=1   '\n",
            " 'token[-1]=told   token[0]=U.N.   token[-1]=0   token[1]=Newsroom   '\n",
            " 'token[-1]=1   token[3]=0   token[0]=Ajax   token[1]=0   token[1]=v   '\n",
            " 'token[1]=3   token[-1]=2   token[0]=NATO   token[0]=PUK   token[0]=PSV   '\n",
            " 'token[0]=St   token[1]=1')\n",
            "\n",
            "Most important features *against* label B-ORG:\n",
            "('pos_tag_of_token[-1]=22   pos_tag_of_token[0]=11   token[0]=.   '\n",
            " 'pos_tag_of_token[0]=7   token[0]=\"   pos_tag_of_token[0]=0   '\n",
            " 'token[0]=Thursday   token[0]=He   token[0]=AT   token[0]=0   token[0]=to   '\n",
            " 'pos_tag_of_token[0]=28   token[0]=a   token[0]=It   pos_tag_of_token[0]=8   '\n",
            " 'token[0]=President   token[0]=Monday   token[0]=Tuesday   token[0]=-   '\n",
            " 'token[0]=Friday')\n",
            "\n",
            "------\n",
            "\n",
            "Most important features *for* label I-ORG:\n",
            "('pos_tag_of_token[-1]=22   token[0]=Newsroom   token[0]=Inc   token[0]=Corp   '\n",
            " 'token[-1]=St   token[0]=Party   token[0]=Co   pos_tag_of_token[0]=23   '\n",
            " 'token[1]=3   token[-1]=New   token[1]=0   token[1]=Inc   token[1]=4   '\n",
            " 'token[0]=YORK   token[3]=0   token[-1]=NEW   token[0]=Union   token[0]=Ltd   '\n",
            " 'token[-1]=SAN   token[-1]=&')\n",
            "\n",
            "Most important features *against* label I-ORG:\n",
            "('pos_tag_of_token[0]=28   pos_tag_of_token[0]=11   token[0]=said   '\n",
            " 'token[0]=The   pos_tag_of_token[0]=0   token[0]=\"   token[0]=AT   '\n",
            " 'token[-1]=in   token[0]=to   pos_tag_of_token[-1]=11   token[-1]=on   '\n",
            " 'token[0]=0   token[0]=He   token[0]=a   token[0]=Thursday   token[0]=-   '\n",
            " 'pos_tag_of_token[-1]=8   token[0]=Minister   pos_tag_of_token[0]=30   '\n",
            " 'token[0]=It')\n",
            "\n",
            "------\n",
            "\n",
            "Most important features *for* label B-LOC:\n",
            "('token[0]=U.S.   token[0]=England   token[0]=Britain   token[-1]=AT   '\n",
            " 'token[1]=1996-08-28   token[0]=Germany   token[0]=LONDON   '\n",
            " 'token[1]=1996-08-29   token[0]=Pakistan   token[1]=1996-08-27   '\n",
            " 'token[1]=1996-08-23   token[1]=1996-08-26   token[0]=China   '\n",
            " 'token[1]=1996-08-22   token[0]=Australia   token[0]=Iraq   token[0]=Russia   '\n",
            " 'first-letter-capitalized   token[0]=Italy   token[1]=1996-08-25')\n",
            "\n",
            "Most important features *against* label B-LOC:\n",
            "('pos_tag_of_token[0]=28   pos_tag_of_token[-1]=22   token[0]=a   token[0]=.   '\n",
            " 'pos_tag_of_token[0]=7   token[0]=to   pos_tag_of_token[0]=0   token[0]=\"   '\n",
            " 'pos_tag_of_token[0]=11   token[0]=Thursday   token[0]=AT   '\n",
            " 'token[0]=Wednesday   token[0]=said   token[0]=He   token[0]=Tuesday   '\n",
            " 'token[0]=It   token[0]=Monday   token[0]=-   pos_tag_of_token[0]=29   '\n",
            " 'token[0]=which')\n",
            "\n",
            "------\n",
            "\n",
            "Most important features *for* label I-LOC:\n",
            "('token[-1]=South   token[-1]=New   pos_tag_of_token[-1]=22   token[-1]=NEW   '\n",
            " 'token[0]=YORK   token[0]=Republic   token[0]=States   token[0]=Africa   '\n",
            " 'token[-1]=Czech   token[-1]=Hong   token[-1]=United   token[0]=Kong   '\n",
            " 'token[-1]=West   token[0]=Lanka   token[-1]=Sri   token[0]=Zealand   '\n",
            " 'token[0]=York   pos_tag_of_token[0]=23   token[-1]=Costa   token[0]=Rica')\n",
            "\n",
            "Most important features *against* label I-LOC:\n",
            "('pos_tag_of_token[0]=28   token[0]=said   token[0]=\"   '\n",
            " 'pos_tag_of_token[0]=0   token[0]=to   pos_tag_of_token[0]=11   token[0]=a   '\n",
            " 'token[0]=AT   token[0]=Thursday   token[0]=He   token[0]=0   token[0]=-   '\n",
            " 'token[0]=.   token[0]=It   pos_tag_of_token[0]=7   token[0]=Tuesday   '\n",
            " 'token[0]=Minister   token[0]=Monday   token[0]=The   token[0]=But')\n",
            "\n",
            "------\n",
            "\n",
            "Most important features *for* label B-MISC:\n",
            "('pos_tag_of_token[0]=16   first-letter-capitalized   token[0]=Russian   '\n",
            " 'token[0]=German   token[1]=Cup   token[0]=British   token[0]=U.S.   '\n",
            " 'token[1]=LEAGUE   token[0]=French   token[1]=Open   token[0]=GMT   '\n",
            " 'token[2]=DIVISION   token[1]=League   token[0]=Australian   '\n",
            " 'token[0]=Israeli   token[-1]=AT   token[0]=American   token[0]=South   '\n",
            " 'pos_tag_of_token[0]=3   token[0]=Dutch')\n",
            "\n",
            "Most important features *against* label B-MISC:\n",
            "('pos_tag_of_token[-1]=22   pos_tag_of_token[0]=28   token[0]=a   '\n",
            " 'token[0]=to   token[0]=\"   pos_tag_of_token[0]=0   token[0]=.   '\n",
            " 'pos_tag_of_token[0]=7   token[0]=said   token[0]=Thursday   token[0]=first   '\n",
            " 'token[0]=-   token[0]=He   token[0]=AT   token[0]=Wednesday   token[0]=It   '\n",
            " 'token[0]=Tuesday   token[0]=Monday   token[0]=which   pos_tag_of_token[0]=29')\n",
            "\n",
            "------\n",
            "\n",
            "Most important features *for* label I-MISC:\n",
            "('pos_tag_of_token[-1]=22   token[0]=Cup   token[-1]=South   token[0]=Open   '\n",
            " 'token[-1]=World   token[-1]=New   token[0]=League   token[-2]=the   '\n",
            " 'token[-1]=Sri   token[0]=African   token[0]=OPEN   token[-1]=Grand   '\n",
            " 'token[-1]=NEW   token[0]=Africa   pos_tag_of_token[0]=23   token[-2]=AT   '\n",
            " 'token[-1]=West   token[0]=YORK   token[0]=States   token[0]=LEAGUE')\n",
            "\n",
            "Most important features *against* label I-MISC:\n",
            "('pos_tag_of_token[0]=28   token[0]=said   token[0]=to   token[0]=a   '\n",
            " 'pos_tag_of_token[0]=0   token[0]=\"   token[0]=AT   token[0]=Thursday   '\n",
            " 'token[0]=He   pos_tag_of_token[0]=11   token[0]=-   token[0]=.   '\n",
            " 'token[0]=The   token[0]=0   pos_tag_of_token[0]=7   pos_tag_of_token[1]=22   '\n",
            " 'token[0]=It   token[0]=Tuesday   token[0]=Minister   token[0]=Monday')\n",
            "\n",
            "------\n",
            "\n"
          ]
        }
      ],
      "source": [
        "def get_most_important_features_for_and_against(label):\n",
        "    label_idx = NER2ID[label]\n",
        "    feature_weights = weights_by_label[:,label_idx] #pick the column that interests us\n",
        "\n",
        "    #The shape of feature_weights is (feature_vocab_size,) i.e. it is a vector\n",
        "    features_weight_idx = numpy.argsort(-feature_weights) #sort in descending order, this will be vector of indices\n",
        "    features_for = [idx2feat[feature_idx] for feature_idx in features_weight_idx[:20]]\n",
        "    features_against = [idx2feat[feature_idx] for feature_idx in features_weight_idx[-20:][::-1]]\n",
        "    return features_for, features_against\n",
        "\n",
        "for label in NER_TAG_NAMES:\n",
        "    dt_plus,dt_minus=get_most_important_features_for_and_against(label)\n",
        "    print(f\"Most important features *for* label {label}:\")\n",
        "    pprint(\"   \".join(dt_plus))\n",
        "    print()\n",
        "    print(f\"Most important features *against* label {label}:\")\n",
        "    pprint(\"   \".join(dt_minus))\n",
        "    print(\"\\n------\\n\")"
      ]
    },
    {
      "cell_type": "markdown",
      "metadata": {},
      "source": [
        "We can see that the model does quite well. \n",
        "\n",
        "POS tags of 22 and 28 seem to be very popular in preceding Named Entities. This makes sense since they are \"PRP\": \"Personal pronoun\" and \"NNP\": \"Proper noun, singular\". Personal pronouns are heavily against in named entities since they refer to the named entity and therefore kind of replaces the place of it in the text. \n",
        "\n",
        "The \"I-labels\" are preceded by other named entities."
      ]
    }
  ],
  "metadata": {
    "accelerator": "GPU",
    "colab": {
      "include_colab_link": true,
      "provenance": []
    },
    "gpuClass": "standard",
    "kernelspec": {
      "display_name": "Python 3",
      "name": "python3"
    },
    "language_info": {
      "codemirror_mode": {
        "name": "ipython",
        "version": 3
      },
      "file_extension": ".py",
      "mimetype": "text/x-python",
      "name": "python",
      "nbconvert_exporter": "python",
      "pygments_lexer": "ipython3",
      "version": "3.10.2"
    },
    "widgets": {
      "application/vnd.jupyter.widget-state+json": {
        "00b273c3807a4d8587a37204b4e32cf4": {
          "model_module": "@jupyter-widgets/base",
          "model_module_version": "1.2.0",
          "model_name": "LayoutModel",
          "state": {
            "_model_module": "@jupyter-widgets/base",
            "_model_module_version": "1.2.0",
            "_model_name": "LayoutModel",
            "_view_count": null,
            "_view_module": "@jupyter-widgets/base",
            "_view_module_version": "1.2.0",
            "_view_name": "LayoutView",
            "align_content": null,
            "align_items": null,
            "align_self": null,
            "border": null,
            "bottom": null,
            "display": null,
            "flex": null,
            "flex_flow": null,
            "grid_area": null,
            "grid_auto_columns": null,
            "grid_auto_flow": null,
            "grid_auto_rows": null,
            "grid_column": null,
            "grid_gap": null,
            "grid_row": null,
            "grid_template_areas": null,
            "grid_template_columns": null,
            "grid_template_rows": null,
            "height": null,
            "justify_content": null,
            "justify_items": null,
            "left": null,
            "margin": null,
            "max_height": null,
            "max_width": null,
            "min_height": null,
            "min_width": null,
            "object_fit": null,
            "object_position": null,
            "order": null,
            "overflow": null,
            "overflow_x": null,
            "overflow_y": null,
            "padding": null,
            "right": null,
            "top": null,
            "visibility": null,
            "width": null
          }
        },
        "05d83b29204e47d6a3ef66917cf0e076": {
          "model_module": "@jupyter-widgets/controls",
          "model_module_version": "1.5.0",
          "model_name": "HTMLModel",
          "state": {
            "_dom_classes": [],
            "_model_module": "@jupyter-widgets/controls",
            "_model_module_version": "1.5.0",
            "_model_name": "HTMLModel",
            "_view_count": null,
            "_view_module": "@jupyter-widgets/controls",
            "_view_module_version": "1.5.0",
            "_view_name": "HTMLView",
            "description": "",
            "description_tooltip": null,
            "layout": "IPY_MODEL_cfa7139aa2694dd4b45329d21a16de50",
            "placeholder": "​",
            "style": "IPY_MODEL_c54417dbd6ea4aff9ce083092a8e59c3",
            "value": " 3453/3453 [00:00&lt;00:00, 6335.22 examples/s]"
          }
        },
        "0655459d09d34526b0c5941491b88750": {
          "model_module": "@jupyter-widgets/controls",
          "model_module_version": "1.5.0",
          "model_name": "DescriptionStyleModel",
          "state": {
            "_model_module": "@jupyter-widgets/controls",
            "_model_module_version": "1.5.0",
            "_model_name": "DescriptionStyleModel",
            "_view_count": null,
            "_view_module": "@jupyter-widgets/base",
            "_view_module_version": "1.2.0",
            "_view_name": "StyleView",
            "description_width": ""
          }
        },
        "089c3e6b5ef043fc991627fb0c5ec04f": {
          "model_module": "@jupyter-widgets/base",
          "model_module_version": "1.2.0",
          "model_name": "LayoutModel",
          "state": {
            "_model_module": "@jupyter-widgets/base",
            "_model_module_version": "1.2.0",
            "_model_name": "LayoutModel",
            "_view_count": null,
            "_view_module": "@jupyter-widgets/base",
            "_view_module_version": "1.2.0",
            "_view_name": "LayoutView",
            "align_content": null,
            "align_items": null,
            "align_self": null,
            "border": null,
            "bottom": null,
            "display": null,
            "flex": null,
            "flex_flow": null,
            "grid_area": null,
            "grid_auto_columns": null,
            "grid_auto_flow": null,
            "grid_auto_rows": null,
            "grid_column": null,
            "grid_gap": null,
            "grid_row": null,
            "grid_template_areas": null,
            "grid_template_columns": null,
            "grid_template_rows": null,
            "height": null,
            "justify_content": null,
            "justify_items": null,
            "left": null,
            "margin": null,
            "max_height": null,
            "max_width": null,
            "min_height": null,
            "min_width": null,
            "object_fit": null,
            "object_position": null,
            "order": null,
            "overflow": null,
            "overflow_x": null,
            "overflow_y": null,
            "padding": null,
            "right": null,
            "top": null,
            "visibility": null,
            "width": null
          }
        },
        "0c42261b35624129a92a2ea4cf96c31e": {
          "model_module": "@jupyter-widgets/controls",
          "model_module_version": "1.5.0",
          "model_name": "ProgressStyleModel",
          "state": {
            "_model_module": "@jupyter-widgets/controls",
            "_model_module_version": "1.5.0",
            "_model_name": "ProgressStyleModel",
            "_view_count": null,
            "_view_module": "@jupyter-widgets/base",
            "_view_module_version": "1.2.0",
            "_view_name": "StyleView",
            "bar_color": null,
            "description_width": ""
          }
        },
        "0f33be08f6084dc7bc2fa3fcdde5e0cb": {
          "model_module": "@jupyter-widgets/base",
          "model_module_version": "1.2.0",
          "model_name": "LayoutModel",
          "state": {
            "_model_module": "@jupyter-widgets/base",
            "_model_module_version": "1.2.0",
            "_model_name": "LayoutModel",
            "_view_count": null,
            "_view_module": "@jupyter-widgets/base",
            "_view_module_version": "1.2.0",
            "_view_name": "LayoutView",
            "align_content": null,
            "align_items": null,
            "align_self": null,
            "border": null,
            "bottom": null,
            "display": null,
            "flex": null,
            "flex_flow": null,
            "grid_area": null,
            "grid_auto_columns": null,
            "grid_auto_flow": null,
            "grid_auto_rows": null,
            "grid_column": null,
            "grid_gap": null,
            "grid_row": null,
            "grid_template_areas": null,
            "grid_template_columns": null,
            "grid_template_rows": null,
            "height": null,
            "justify_content": null,
            "justify_items": null,
            "left": null,
            "margin": null,
            "max_height": null,
            "max_width": null,
            "min_height": null,
            "min_width": null,
            "object_fit": null,
            "object_position": null,
            "order": null,
            "overflow": null,
            "overflow_x": null,
            "overflow_y": null,
            "padding": null,
            "right": null,
            "top": null,
            "visibility": null,
            "width": null
          }
        },
        "101858b70a1846b0a7bc86f2cdf3a369": {
          "model_module": "@jupyter-widgets/base",
          "model_module_version": "1.2.0",
          "model_name": "LayoutModel",
          "state": {
            "_model_module": "@jupyter-widgets/base",
            "_model_module_version": "1.2.0",
            "_model_name": "LayoutModel",
            "_view_count": null,
            "_view_module": "@jupyter-widgets/base",
            "_view_module_version": "1.2.0",
            "_view_name": "LayoutView",
            "align_content": null,
            "align_items": null,
            "align_self": null,
            "border": null,
            "bottom": null,
            "display": null,
            "flex": null,
            "flex_flow": null,
            "grid_area": null,
            "grid_auto_columns": null,
            "grid_auto_flow": null,
            "grid_auto_rows": null,
            "grid_column": null,
            "grid_gap": null,
            "grid_row": null,
            "grid_template_areas": null,
            "grid_template_columns": null,
            "grid_template_rows": null,
            "height": null,
            "justify_content": null,
            "justify_items": null,
            "left": null,
            "margin": null,
            "max_height": null,
            "max_width": null,
            "min_height": null,
            "min_width": null,
            "object_fit": null,
            "object_position": null,
            "order": null,
            "overflow": null,
            "overflow_x": null,
            "overflow_y": null,
            "padding": null,
            "right": null,
            "top": null,
            "visibility": null,
            "width": null
          }
        },
        "10d247583d8b45188a8cf1c8554a4e33": {
          "model_module": "@jupyter-widgets/controls",
          "model_module_version": "1.5.0",
          "model_name": "HBoxModel",
          "state": {
            "_dom_classes": [],
            "_model_module": "@jupyter-widgets/controls",
            "_model_module_version": "1.5.0",
            "_model_name": "HBoxModel",
            "_view_count": null,
            "_view_module": "@jupyter-widgets/controls",
            "_view_module_version": "1.5.0",
            "_view_name": "HBoxView",
            "box_style": "",
            "children": [
              "IPY_MODEL_123fe0647fd84174ae030017d4dcbf6c",
              "IPY_MODEL_6aa220e9a81d4d1296de9f91926246b4",
              "IPY_MODEL_27d6857a0f5b4301a9c4fec5325960d2"
            ],
            "layout": "IPY_MODEL_da99f48993ee4c168b2076ae7a22861f"
          }
        },
        "123fe0647fd84174ae030017d4dcbf6c": {
          "model_module": "@jupyter-widgets/controls",
          "model_module_version": "1.5.0",
          "model_name": "HTMLModel",
          "state": {
            "_dom_classes": [],
            "_model_module": "@jupyter-widgets/controls",
            "_model_module_version": "1.5.0",
            "_model_name": "HTMLModel",
            "_view_count": null,
            "_view_module": "@jupyter-widgets/controls",
            "_view_module_version": "1.5.0",
            "_view_name": "HTMLView",
            "description": "",
            "description_tooltip": null,
            "layout": "IPY_MODEL_9e351ef8fd2b4710ad73ba9aa2fbc4a2",
            "placeholder": "​",
            "style": "IPY_MODEL_e07368c90ef548aa8e54e3106b9df600",
            "value": "Generating train split: 100%"
          }
        },
        "15481fcdf5f24cc8ac3b26807d0698bb": {
          "model_module": "@jupyter-widgets/controls",
          "model_module_version": "1.5.0",
          "model_name": "HBoxModel",
          "state": {
            "_dom_classes": [],
            "_model_module": "@jupyter-widgets/controls",
            "_model_module_version": "1.5.0",
            "_model_name": "HBoxModel",
            "_view_count": null,
            "_view_module": "@jupyter-widgets/controls",
            "_view_module_version": "1.5.0",
            "_view_name": "HBoxView",
            "box_style": "",
            "children": [
              "IPY_MODEL_a2b596e1262c4af2aa50a3024e5ec655",
              "IPY_MODEL_24edbfa9a8d74524b0998639701e0a1c",
              "IPY_MODEL_7300ea5c95714230983f15d8fded772f"
            ],
            "layout": "IPY_MODEL_1fce174e4e9a4e2b83ef47a69767f8de"
          }
        },
        "15559040fe784a788f7b22318db88c7f": {
          "model_module": "@jupyter-widgets/controls",
          "model_module_version": "1.5.0",
          "model_name": "HTMLModel",
          "state": {
            "_dom_classes": [],
            "_model_module": "@jupyter-widgets/controls",
            "_model_module_version": "1.5.0",
            "_model_name": "HTMLModel",
            "_view_count": null,
            "_view_module": "@jupyter-widgets/controls",
            "_view_module_version": "1.5.0",
            "_view_name": "HTMLView",
            "description": "",
            "description_tooltip": null,
            "layout": "IPY_MODEL_47054244877848089ba0e7a3941cdd2b",
            "placeholder": "​",
            "style": "IPY_MODEL_9d17a82715934d49b38451400545f5b4",
            "value": " 3250/3250 [00:00&lt;00:00, 49360.66 examples/s]"
          }
        },
        "1623a7a53e5749788522778f9702f231": {
          "model_module": "@jupyter-widgets/base",
          "model_module_version": "1.2.0",
          "model_name": "LayoutModel",
          "state": {
            "_model_module": "@jupyter-widgets/base",
            "_model_module_version": "1.2.0",
            "_model_name": "LayoutModel",
            "_view_count": null,
            "_view_module": "@jupyter-widgets/base",
            "_view_module_version": "1.2.0",
            "_view_name": "LayoutView",
            "align_content": null,
            "align_items": null,
            "align_self": null,
            "border": null,
            "bottom": null,
            "display": null,
            "flex": null,
            "flex_flow": null,
            "grid_area": null,
            "grid_auto_columns": null,
            "grid_auto_flow": null,
            "grid_auto_rows": null,
            "grid_column": null,
            "grid_gap": null,
            "grid_row": null,
            "grid_template_areas": null,
            "grid_template_columns": null,
            "grid_template_rows": null,
            "height": null,
            "justify_content": null,
            "justify_items": null,
            "left": null,
            "margin": null,
            "max_height": null,
            "max_width": null,
            "min_height": null,
            "min_width": null,
            "object_fit": null,
            "object_position": null,
            "order": null,
            "overflow": null,
            "overflow_x": null,
            "overflow_y": null,
            "padding": null,
            "right": null,
            "top": null,
            "visibility": null,
            "width": null
          }
        },
        "16acb247a1ff4fd0b362cfd08b0f23ec": {
          "model_module": "@jupyter-widgets/controls",
          "model_module_version": "1.5.0",
          "model_name": "DescriptionStyleModel",
          "state": {
            "_model_module": "@jupyter-widgets/controls",
            "_model_module_version": "1.5.0",
            "_model_name": "DescriptionStyleModel",
            "_view_count": null,
            "_view_module": "@jupyter-widgets/base",
            "_view_module_version": "1.2.0",
            "_view_name": "StyleView",
            "description_width": ""
          }
        },
        "16ce1d1f13ce4dfa9b3279cfb9e4623a": {
          "model_module": "@jupyter-widgets/base",
          "model_module_version": "1.2.0",
          "model_name": "LayoutModel",
          "state": {
            "_model_module": "@jupyter-widgets/base",
            "_model_module_version": "1.2.0",
            "_model_name": "LayoutModel",
            "_view_count": null,
            "_view_module": "@jupyter-widgets/base",
            "_view_module_version": "1.2.0",
            "_view_name": "LayoutView",
            "align_content": null,
            "align_items": null,
            "align_self": null,
            "border": null,
            "bottom": null,
            "display": null,
            "flex": null,
            "flex_flow": null,
            "grid_area": null,
            "grid_auto_columns": null,
            "grid_auto_flow": null,
            "grid_auto_rows": null,
            "grid_column": null,
            "grid_gap": null,
            "grid_row": null,
            "grid_template_areas": null,
            "grid_template_columns": null,
            "grid_template_rows": null,
            "height": null,
            "justify_content": null,
            "justify_items": null,
            "left": null,
            "margin": null,
            "max_height": null,
            "max_width": null,
            "min_height": null,
            "min_width": null,
            "object_fit": null,
            "object_position": null,
            "order": null,
            "overflow": null,
            "overflow_x": null,
            "overflow_y": null,
            "padding": null,
            "right": null,
            "top": null,
            "visibility": null,
            "width": null
          }
        },
        "17e7a48d8391420a919011b056f1b213": {
          "model_module": "@jupyter-widgets/controls",
          "model_module_version": "1.5.0",
          "model_name": "HTMLModel",
          "state": {
            "_dom_classes": [],
            "_model_module": "@jupyter-widgets/controls",
            "_model_module_version": "1.5.0",
            "_model_name": "HTMLModel",
            "_view_count": null,
            "_view_module": "@jupyter-widgets/controls",
            "_view_module_version": "1.5.0",
            "_view_name": "HTMLView",
            "description": "",
            "description_tooltip": null,
            "layout": "IPY_MODEL_fafddeaf3c594e01866277b2a590f53e",
            "placeholder": "​",
            "style": "IPY_MODEL_77fac2ea13df43eba50f330d60024730",
            "value": " 3250/3250 [00:00&lt;00:00, 4105.19 examples/s]"
          }
        },
        "18096f71ee544877a392b0f64ab21311": {
          "model_module": "@jupyter-widgets/base",
          "model_module_version": "1.2.0",
          "model_name": "LayoutModel",
          "state": {
            "_model_module": "@jupyter-widgets/base",
            "_model_module_version": "1.2.0",
            "_model_name": "LayoutModel",
            "_view_count": null,
            "_view_module": "@jupyter-widgets/base",
            "_view_module_version": "1.2.0",
            "_view_name": "LayoutView",
            "align_content": null,
            "align_items": null,
            "align_self": null,
            "border": null,
            "bottom": null,
            "display": null,
            "flex": null,
            "flex_flow": null,
            "grid_area": null,
            "grid_auto_columns": null,
            "grid_auto_flow": null,
            "grid_auto_rows": null,
            "grid_column": null,
            "grid_gap": null,
            "grid_row": null,
            "grid_template_areas": null,
            "grid_template_columns": null,
            "grid_template_rows": null,
            "height": null,
            "justify_content": null,
            "justify_items": null,
            "left": null,
            "margin": null,
            "max_height": null,
            "max_width": null,
            "min_height": null,
            "min_width": null,
            "object_fit": null,
            "object_position": null,
            "order": null,
            "overflow": null,
            "overflow_x": null,
            "overflow_y": null,
            "padding": null,
            "right": null,
            "top": null,
            "visibility": null,
            "width": null
          }
        },
        "181e26da59174240a9999520ee035a5c": {
          "model_module": "@jupyter-widgets/base",
          "model_module_version": "1.2.0",
          "model_name": "LayoutModel",
          "state": {
            "_model_module": "@jupyter-widgets/base",
            "_model_module_version": "1.2.0",
            "_model_name": "LayoutModel",
            "_view_count": null,
            "_view_module": "@jupyter-widgets/base",
            "_view_module_version": "1.2.0",
            "_view_name": "LayoutView",
            "align_content": null,
            "align_items": null,
            "align_self": null,
            "border": null,
            "bottom": null,
            "display": null,
            "flex": null,
            "flex_flow": null,
            "grid_area": null,
            "grid_auto_columns": null,
            "grid_auto_flow": null,
            "grid_auto_rows": null,
            "grid_column": null,
            "grid_gap": null,
            "grid_row": null,
            "grid_template_areas": null,
            "grid_template_columns": null,
            "grid_template_rows": null,
            "height": null,
            "justify_content": null,
            "justify_items": null,
            "left": null,
            "margin": null,
            "max_height": null,
            "max_width": null,
            "min_height": null,
            "min_width": null,
            "object_fit": null,
            "object_position": null,
            "order": null,
            "overflow": null,
            "overflow_x": null,
            "overflow_y": null,
            "padding": null,
            "right": null,
            "top": null,
            "visibility": null,
            "width": null
          }
        },
        "18e0eb340f5d4a8da8fad50c21f8161e": {
          "model_module": "@jupyter-widgets/controls",
          "model_module_version": "1.5.0",
          "model_name": "HTMLModel",
          "state": {
            "_dom_classes": [],
            "_model_module": "@jupyter-widgets/controls",
            "_model_module_version": "1.5.0",
            "_model_name": "HTMLModel",
            "_view_count": null,
            "_view_module": "@jupyter-widgets/controls",
            "_view_module_version": "1.5.0",
            "_view_name": "HTMLView",
            "description": "",
            "description_tooltip": null,
            "layout": "IPY_MODEL_874542c532694e1fa4cc46b91f9edb48",
            "placeholder": "​",
            "style": "IPY_MODEL_19fc9de7cfb9483b85b20f11b8871f31",
            "value": " 1.23M/1.23M [00:00&lt;00:00, 2.03MB/s]"
          }
        },
        "198f8ea06b2a4fae89fc5449c1fc61a6": {
          "model_module": "@jupyter-widgets/base",
          "model_module_version": "1.2.0",
          "model_name": "LayoutModel",
          "state": {
            "_model_module": "@jupyter-widgets/base",
            "_model_module_version": "1.2.0",
            "_model_name": "LayoutModel",
            "_view_count": null,
            "_view_module": "@jupyter-widgets/base",
            "_view_module_version": "1.2.0",
            "_view_name": "LayoutView",
            "align_content": null,
            "align_items": null,
            "align_self": null,
            "border": null,
            "bottom": null,
            "display": null,
            "flex": null,
            "flex_flow": null,
            "grid_area": null,
            "grid_auto_columns": null,
            "grid_auto_flow": null,
            "grid_auto_rows": null,
            "grid_column": null,
            "grid_gap": null,
            "grid_row": null,
            "grid_template_areas": null,
            "grid_template_columns": null,
            "grid_template_rows": null,
            "height": null,
            "justify_content": null,
            "justify_items": null,
            "left": null,
            "margin": null,
            "max_height": null,
            "max_width": null,
            "min_height": null,
            "min_width": null,
            "object_fit": null,
            "object_position": null,
            "order": null,
            "overflow": null,
            "overflow_x": null,
            "overflow_y": null,
            "padding": null,
            "right": null,
            "top": null,
            "visibility": null,
            "width": null
          }
        },
        "19fc9de7cfb9483b85b20f11b8871f31": {
          "model_module": "@jupyter-widgets/controls",
          "model_module_version": "1.5.0",
          "model_name": "DescriptionStyleModel",
          "state": {
            "_model_module": "@jupyter-widgets/controls",
            "_model_module_version": "1.5.0",
            "_model_name": "DescriptionStyleModel",
            "_view_count": null,
            "_view_module": "@jupyter-widgets/base",
            "_view_module_version": "1.2.0",
            "_view_name": "StyleView",
            "description_width": ""
          }
        },
        "1b69dad583564551b309d64ef33683f8": {
          "model_module": "@jupyter-widgets/base",
          "model_module_version": "1.2.0",
          "model_name": "LayoutModel",
          "state": {
            "_model_module": "@jupyter-widgets/base",
            "_model_module_version": "1.2.0",
            "_model_name": "LayoutModel",
            "_view_count": null,
            "_view_module": "@jupyter-widgets/base",
            "_view_module_version": "1.2.0",
            "_view_name": "LayoutView",
            "align_content": null,
            "align_items": null,
            "align_self": null,
            "border": null,
            "bottom": null,
            "display": null,
            "flex": null,
            "flex_flow": null,
            "grid_area": null,
            "grid_auto_columns": null,
            "grid_auto_flow": null,
            "grid_auto_rows": null,
            "grid_column": null,
            "grid_gap": null,
            "grid_row": null,
            "grid_template_areas": null,
            "grid_template_columns": null,
            "grid_template_rows": null,
            "height": null,
            "justify_content": null,
            "justify_items": null,
            "left": null,
            "margin": null,
            "max_height": null,
            "max_width": null,
            "min_height": null,
            "min_width": null,
            "object_fit": null,
            "object_position": null,
            "order": null,
            "overflow": null,
            "overflow_x": null,
            "overflow_y": null,
            "padding": null,
            "right": null,
            "top": null,
            "visibility": null,
            "width": null
          }
        },
        "1fce174e4e9a4e2b83ef47a69767f8de": {
          "model_module": "@jupyter-widgets/base",
          "model_module_version": "1.2.0",
          "model_name": "LayoutModel",
          "state": {
            "_model_module": "@jupyter-widgets/base",
            "_model_module_version": "1.2.0",
            "_model_name": "LayoutModel",
            "_view_count": null,
            "_view_module": "@jupyter-widgets/base",
            "_view_module_version": "1.2.0",
            "_view_name": "LayoutView",
            "align_content": null,
            "align_items": null,
            "align_self": null,
            "border": null,
            "bottom": null,
            "display": null,
            "flex": null,
            "flex_flow": null,
            "grid_area": null,
            "grid_auto_columns": null,
            "grid_auto_flow": null,
            "grid_auto_rows": null,
            "grid_column": null,
            "grid_gap": null,
            "grid_row": null,
            "grid_template_areas": null,
            "grid_template_columns": null,
            "grid_template_rows": null,
            "height": null,
            "justify_content": null,
            "justify_items": null,
            "left": null,
            "margin": null,
            "max_height": null,
            "max_width": null,
            "min_height": null,
            "min_width": null,
            "object_fit": null,
            "object_position": null,
            "order": null,
            "overflow": null,
            "overflow_x": null,
            "overflow_y": null,
            "padding": null,
            "right": null,
            "top": null,
            "visibility": null,
            "width": null
          }
        },
        "2102b4f2da6143d4b39bc5d82796b9c8": {
          "model_module": "@jupyter-widgets/base",
          "model_module_version": "1.2.0",
          "model_name": "LayoutModel",
          "state": {
            "_model_module": "@jupyter-widgets/base",
            "_model_module_version": "1.2.0",
            "_model_name": "LayoutModel",
            "_view_count": null,
            "_view_module": "@jupyter-widgets/base",
            "_view_module_version": "1.2.0",
            "_view_name": "LayoutView",
            "align_content": null,
            "align_items": null,
            "align_self": null,
            "border": null,
            "bottom": null,
            "display": null,
            "flex": null,
            "flex_flow": null,
            "grid_area": null,
            "grid_auto_columns": null,
            "grid_auto_flow": null,
            "grid_auto_rows": null,
            "grid_column": null,
            "grid_gap": null,
            "grid_row": null,
            "grid_template_areas": null,
            "grid_template_columns": null,
            "grid_template_rows": null,
            "height": null,
            "justify_content": null,
            "justify_items": null,
            "left": null,
            "margin": null,
            "max_height": null,
            "max_width": null,
            "min_height": null,
            "min_width": null,
            "object_fit": null,
            "object_position": null,
            "order": null,
            "overflow": null,
            "overflow_x": null,
            "overflow_y": null,
            "padding": null,
            "right": null,
            "top": null,
            "visibility": null,
            "width": null
          }
        },
        "218cb93226544b42ab5b30559d7b94f5": {
          "model_module": "@jupyter-widgets/base",
          "model_module_version": "1.2.0",
          "model_name": "LayoutModel",
          "state": {
            "_model_module": "@jupyter-widgets/base",
            "_model_module_version": "1.2.0",
            "_model_name": "LayoutModel",
            "_view_count": null,
            "_view_module": "@jupyter-widgets/base",
            "_view_module_version": "1.2.0",
            "_view_name": "LayoutView",
            "align_content": null,
            "align_items": null,
            "align_self": null,
            "border": null,
            "bottom": null,
            "display": null,
            "flex": null,
            "flex_flow": null,
            "grid_area": null,
            "grid_auto_columns": null,
            "grid_auto_flow": null,
            "grid_auto_rows": null,
            "grid_column": null,
            "grid_gap": null,
            "grid_row": null,
            "grid_template_areas": null,
            "grid_template_columns": null,
            "grid_template_rows": null,
            "height": null,
            "justify_content": null,
            "justify_items": null,
            "left": null,
            "margin": null,
            "max_height": null,
            "max_width": null,
            "min_height": null,
            "min_width": null,
            "object_fit": null,
            "object_position": null,
            "order": null,
            "overflow": null,
            "overflow_x": null,
            "overflow_y": null,
            "padding": null,
            "right": null,
            "top": null,
            "visibility": null,
            "width": null
          }
        },
        "21a3f45ce81f4430bfa0dfda3969d9d0": {
          "model_module": "@jupyter-widgets/base",
          "model_module_version": "1.2.0",
          "model_name": "LayoutModel",
          "state": {
            "_model_module": "@jupyter-widgets/base",
            "_model_module_version": "1.2.0",
            "_model_name": "LayoutModel",
            "_view_count": null,
            "_view_module": "@jupyter-widgets/base",
            "_view_module_version": "1.2.0",
            "_view_name": "LayoutView",
            "align_content": null,
            "align_items": null,
            "align_self": null,
            "border": null,
            "bottom": null,
            "display": null,
            "flex": null,
            "flex_flow": null,
            "grid_area": null,
            "grid_auto_columns": null,
            "grid_auto_flow": null,
            "grid_auto_rows": null,
            "grid_column": null,
            "grid_gap": null,
            "grid_row": null,
            "grid_template_areas": null,
            "grid_template_columns": null,
            "grid_template_rows": null,
            "height": null,
            "justify_content": null,
            "justify_items": null,
            "left": null,
            "margin": null,
            "max_height": null,
            "max_width": null,
            "min_height": null,
            "min_width": null,
            "object_fit": null,
            "object_position": null,
            "order": null,
            "overflow": null,
            "overflow_x": null,
            "overflow_y": null,
            "padding": null,
            "right": null,
            "top": null,
            "visibility": null,
            "width": null
          }
        },
        "22aac2f873b84627b39cbed6198cc0ac": {
          "model_module": "@jupyter-widgets/controls",
          "model_module_version": "1.5.0",
          "model_name": "HBoxModel",
          "state": {
            "_dom_classes": [],
            "_model_module": "@jupyter-widgets/controls",
            "_model_module_version": "1.5.0",
            "_model_name": "HBoxModel",
            "_view_count": null,
            "_view_module": "@jupyter-widgets/controls",
            "_view_module_version": "1.5.0",
            "_view_name": "HBoxView",
            "box_style": "",
            "children": [
              "IPY_MODEL_859fb6032db1426b9f58c9cca015e95b",
              "IPY_MODEL_ca23d35031f34f5fb867df55a0f61a08",
              "IPY_MODEL_05d83b29204e47d6a3ef66917cf0e076"
            ],
            "layout": "IPY_MODEL_8aa36e1cb75f49cba335620465e56a5c"
          }
        },
        "24edbfa9a8d74524b0998639701e0a1c": {
          "model_module": "@jupyter-widgets/controls",
          "model_module_version": "1.5.0",
          "model_name": "FloatProgressModel",
          "state": {
            "_dom_classes": [],
            "_model_module": "@jupyter-widgets/controls",
            "_model_module_version": "1.5.0",
            "_model_name": "FloatProgressModel",
            "_view_count": null,
            "_view_module": "@jupyter-widgets/controls",
            "_view_module_version": "1.5.0",
            "_view_name": "ProgressView",
            "bar_style": "success",
            "description": "",
            "description_tooltip": null,
            "layout": "IPY_MODEL_254ce66b63be426e8c92d84d13410cc7",
            "max": 46435,
            "min": 0,
            "orientation": "horizontal",
            "style": "IPY_MODEL_5668ba42ebc74334912851ad1e81c652",
            "value": 46435
          }
        },
        "254ce66b63be426e8c92d84d13410cc7": {
          "model_module": "@jupyter-widgets/base",
          "model_module_version": "1.2.0",
          "model_name": "LayoutModel",
          "state": {
            "_model_module": "@jupyter-widgets/base",
            "_model_module_version": "1.2.0",
            "_model_name": "LayoutModel",
            "_view_count": null,
            "_view_module": "@jupyter-widgets/base",
            "_view_module_version": "1.2.0",
            "_view_name": "LayoutView",
            "align_content": null,
            "align_items": null,
            "align_self": null,
            "border": null,
            "bottom": null,
            "display": null,
            "flex": null,
            "flex_flow": null,
            "grid_area": null,
            "grid_auto_columns": null,
            "grid_auto_flow": null,
            "grid_auto_rows": null,
            "grid_column": null,
            "grid_gap": null,
            "grid_row": null,
            "grid_template_areas": null,
            "grid_template_columns": null,
            "grid_template_rows": null,
            "height": null,
            "justify_content": null,
            "justify_items": null,
            "left": null,
            "margin": null,
            "max_height": null,
            "max_width": null,
            "min_height": null,
            "min_width": null,
            "object_fit": null,
            "object_position": null,
            "order": null,
            "overflow": null,
            "overflow_x": null,
            "overflow_y": null,
            "padding": null,
            "right": null,
            "top": null,
            "visibility": null,
            "width": null
          }
        },
        "277b1871c444496d8f98c595e70bd439": {
          "model_module": "@jupyter-widgets/base",
          "model_module_version": "1.2.0",
          "model_name": "LayoutModel",
          "state": {
            "_model_module": "@jupyter-widgets/base",
            "_model_module_version": "1.2.0",
            "_model_name": "LayoutModel",
            "_view_count": null,
            "_view_module": "@jupyter-widgets/base",
            "_view_module_version": "1.2.0",
            "_view_name": "LayoutView",
            "align_content": null,
            "align_items": null,
            "align_self": null,
            "border": null,
            "bottom": null,
            "display": null,
            "flex": null,
            "flex_flow": null,
            "grid_area": null,
            "grid_auto_columns": null,
            "grid_auto_flow": null,
            "grid_auto_rows": null,
            "grid_column": null,
            "grid_gap": null,
            "grid_row": null,
            "grid_template_areas": null,
            "grid_template_columns": null,
            "grid_template_rows": null,
            "height": null,
            "justify_content": null,
            "justify_items": null,
            "left": null,
            "margin": null,
            "max_height": null,
            "max_width": null,
            "min_height": null,
            "min_width": null,
            "object_fit": null,
            "object_position": null,
            "order": null,
            "overflow": null,
            "overflow_x": null,
            "overflow_y": null,
            "padding": null,
            "right": null,
            "top": null,
            "visibility": null,
            "width": null
          }
        },
        "27d6857a0f5b4301a9c4fec5325960d2": {
          "model_module": "@jupyter-widgets/controls",
          "model_module_version": "1.5.0",
          "model_name": "HTMLModel",
          "state": {
            "_dom_classes": [],
            "_model_module": "@jupyter-widgets/controls",
            "_model_module_version": "1.5.0",
            "_model_name": "HTMLModel",
            "_view_count": null,
            "_view_module": "@jupyter-widgets/controls",
            "_view_module_version": "1.5.0",
            "_view_name": "HTMLView",
            "description": "",
            "description_tooltip": null,
            "layout": "IPY_MODEL_16ce1d1f13ce4dfa9b3279cfb9e4623a",
            "placeholder": "​",
            "style": "IPY_MODEL_51d00181226b4b949519f76583c1dd78",
            "value": " 14041/14041 [00:00&lt;00:00, 9898.23 examples/s]"
          }
        },
        "28e4758925884be698ee23806cdda147": {
          "model_module": "@jupyter-widgets/base",
          "model_module_version": "1.2.0",
          "model_name": "LayoutModel",
          "state": {
            "_model_module": "@jupyter-widgets/base",
            "_model_module_version": "1.2.0",
            "_model_name": "LayoutModel",
            "_view_count": null,
            "_view_module": "@jupyter-widgets/base",
            "_view_module_version": "1.2.0",
            "_view_name": "LayoutView",
            "align_content": null,
            "align_items": null,
            "align_self": null,
            "border": null,
            "bottom": null,
            "display": null,
            "flex": null,
            "flex_flow": null,
            "grid_area": null,
            "grid_auto_columns": null,
            "grid_auto_flow": null,
            "grid_auto_rows": null,
            "grid_column": null,
            "grid_gap": null,
            "grid_row": null,
            "grid_template_areas": null,
            "grid_template_columns": null,
            "grid_template_rows": null,
            "height": null,
            "justify_content": null,
            "justify_items": null,
            "left": null,
            "margin": null,
            "max_height": null,
            "max_width": null,
            "min_height": null,
            "min_width": null,
            "object_fit": null,
            "object_position": null,
            "order": null,
            "overflow": null,
            "overflow_x": null,
            "overflow_y": null,
            "padding": null,
            "right": null,
            "top": null,
            "visibility": null,
            "width": null
          }
        },
        "291dc23cd40f4f6094c25854f8851bbd": {
          "model_module": "@jupyter-widgets/controls",
          "model_module_version": "1.5.0",
          "model_name": "DescriptionStyleModel",
          "state": {
            "_model_module": "@jupyter-widgets/controls",
            "_model_module_version": "1.5.0",
            "_model_name": "DescriptionStyleModel",
            "_view_count": null,
            "_view_module": "@jupyter-widgets/base",
            "_view_module_version": "1.2.0",
            "_view_name": "StyleView",
            "description_width": ""
          }
        },
        "2e4153caa0ba49a78ca8df81133f836c": {
          "model_module": "@jupyter-widgets/controls",
          "model_module_version": "1.5.0",
          "model_name": "FloatProgressModel",
          "state": {
            "_dom_classes": [],
            "_model_module": "@jupyter-widgets/controls",
            "_model_module_version": "1.5.0",
            "_model_name": "FloatProgressModel",
            "_view_count": null,
            "_view_module": "@jupyter-widgets/controls",
            "_view_module_version": "1.5.0",
            "_view_name": "ProgressView",
            "bar_style": "success",
            "description": "",
            "description_tooltip": null,
            "layout": "IPY_MODEL_59293fd255644a98a58d2212c182adfe",
            "max": 203621,
            "min": 0,
            "orientation": "horizontal",
            "style": "IPY_MODEL_7c9fbbb4f2c344db9b632016e9ca970d",
            "value": 203621
          }
        },
        "3285423ab5e8494ea8255de1ed974c5d": {
          "model_module": "@jupyter-widgets/base",
          "model_module_version": "1.2.0",
          "model_name": "LayoutModel",
          "state": {
            "_model_module": "@jupyter-widgets/base",
            "_model_module_version": "1.2.0",
            "_model_name": "LayoutModel",
            "_view_count": null,
            "_view_module": "@jupyter-widgets/base",
            "_view_module_version": "1.2.0",
            "_view_name": "LayoutView",
            "align_content": null,
            "align_items": null,
            "align_self": null,
            "border": null,
            "bottom": null,
            "display": null,
            "flex": null,
            "flex_flow": null,
            "grid_area": null,
            "grid_auto_columns": null,
            "grid_auto_flow": null,
            "grid_auto_rows": null,
            "grid_column": null,
            "grid_gap": null,
            "grid_row": null,
            "grid_template_areas": null,
            "grid_template_columns": null,
            "grid_template_rows": null,
            "height": null,
            "justify_content": null,
            "justify_items": null,
            "left": null,
            "margin": null,
            "max_height": null,
            "max_width": null,
            "min_height": null,
            "min_width": null,
            "object_fit": null,
            "object_position": null,
            "order": null,
            "overflow": null,
            "overflow_x": null,
            "overflow_y": null,
            "padding": null,
            "right": null,
            "top": null,
            "visibility": null,
            "width": null
          }
        },
        "3379e0e31d8b4910a59f088055aac1fd": {
          "model_module": "@jupyter-widgets/base",
          "model_module_version": "1.2.0",
          "model_name": "LayoutModel",
          "state": {
            "_model_module": "@jupyter-widgets/base",
            "_model_module_version": "1.2.0",
            "_model_name": "LayoutModel",
            "_view_count": null,
            "_view_module": "@jupyter-widgets/base",
            "_view_module_version": "1.2.0",
            "_view_name": "LayoutView",
            "align_content": null,
            "align_items": null,
            "align_self": null,
            "border": null,
            "bottom": null,
            "display": null,
            "flex": null,
            "flex_flow": null,
            "grid_area": null,
            "grid_auto_columns": null,
            "grid_auto_flow": null,
            "grid_auto_rows": null,
            "grid_column": null,
            "grid_gap": null,
            "grid_row": null,
            "grid_template_areas": null,
            "grid_template_columns": null,
            "grid_template_rows": null,
            "height": null,
            "justify_content": null,
            "justify_items": null,
            "left": null,
            "margin": null,
            "max_height": null,
            "max_width": null,
            "min_height": null,
            "min_width": null,
            "object_fit": null,
            "object_position": null,
            "order": null,
            "overflow": null,
            "overflow_x": null,
            "overflow_y": null,
            "padding": null,
            "right": null,
            "top": null,
            "visibility": null,
            "width": null
          }
        },
        "37919e0b5832450b8691c01dff07237d": {
          "model_module": "@jupyter-widgets/controls",
          "model_module_version": "1.5.0",
          "model_name": "DescriptionStyleModel",
          "state": {
            "_model_module": "@jupyter-widgets/controls",
            "_model_module_version": "1.5.0",
            "_model_name": "DescriptionStyleModel",
            "_view_count": null,
            "_view_module": "@jupyter-widgets/base",
            "_view_module_version": "1.2.0",
            "_view_name": "StyleView",
            "description_width": ""
          }
        },
        "3ab66a9356694b7082e78786e22c08a2": {
          "model_module": "@jupyter-widgets/controls",
          "model_module_version": "1.5.0",
          "model_name": "HTMLModel",
          "state": {
            "_dom_classes": [],
            "_model_module": "@jupyter-widgets/controls",
            "_model_module_version": "1.5.0",
            "_model_name": "HTMLModel",
            "_view_count": null,
            "_view_module": "@jupyter-widgets/controls",
            "_view_module_version": "1.5.0",
            "_view_name": "HTMLView",
            "description": "",
            "description_tooltip": null,
            "layout": "IPY_MODEL_1b69dad583564551b309d64ef33683f8",
            "placeholder": "​",
            "style": "IPY_MODEL_a513f1d3e2e84cb099ff05510602bee2",
            "value": "Map (num_proc=4): 100%"
          }
        },
        "3b7e4bb9a3334cf3b0d7a09629c5d703": {
          "model_module": "@jupyter-widgets/controls",
          "model_module_version": "1.5.0",
          "model_name": "HBoxModel",
          "state": {
            "_dom_classes": [],
            "_model_module": "@jupyter-widgets/controls",
            "_model_module_version": "1.5.0",
            "_model_name": "HBoxModel",
            "_view_count": null,
            "_view_module": "@jupyter-widgets/controls",
            "_view_module_version": "1.5.0",
            "_view_name": "HBoxView",
            "box_style": "",
            "children": [
              "IPY_MODEL_d641e90a212744199f7d98af7791e79e",
              "IPY_MODEL_fed0221314094363a37114517e917dcf",
              "IPY_MODEL_18e0eb340f5d4a8da8fad50c21f8161e"
            ],
            "layout": "IPY_MODEL_198f8ea06b2a4fae89fc5449c1fc61a6"
          }
        },
        "3cbfaf2bf058480ba5ec0d3a5e6b847b": {
          "model_module": "@jupyter-widgets/controls",
          "model_module_version": "1.5.0",
          "model_name": "ProgressStyleModel",
          "state": {
            "_model_module": "@jupyter-widgets/controls",
            "_model_module_version": "1.5.0",
            "_model_name": "ProgressStyleModel",
            "_view_count": null,
            "_view_module": "@jupyter-widgets/base",
            "_view_module_version": "1.2.0",
            "_view_name": "StyleView",
            "bar_color": null,
            "description_width": ""
          }
        },
        "3d67d18fe74349ceac9b09aaee132792": {
          "model_module": "@jupyter-widgets/controls",
          "model_module_version": "1.5.0",
          "model_name": "DescriptionStyleModel",
          "state": {
            "_model_module": "@jupyter-widgets/controls",
            "_model_module_version": "1.5.0",
            "_model_name": "DescriptionStyleModel",
            "_view_count": null,
            "_view_module": "@jupyter-widgets/base",
            "_view_module_version": "1.2.0",
            "_view_name": "StyleView",
            "description_width": ""
          }
        },
        "436144cba76d4eb69d2f97d8cd9d49c1": {
          "model_module": "@jupyter-widgets/base",
          "model_module_version": "1.2.0",
          "model_name": "LayoutModel",
          "state": {
            "_model_module": "@jupyter-widgets/base",
            "_model_module_version": "1.2.0",
            "_model_name": "LayoutModel",
            "_view_count": null,
            "_view_module": "@jupyter-widgets/base",
            "_view_module_version": "1.2.0",
            "_view_name": "LayoutView",
            "align_content": null,
            "align_items": null,
            "align_self": null,
            "border": null,
            "bottom": null,
            "display": null,
            "flex": null,
            "flex_flow": null,
            "grid_area": null,
            "grid_auto_columns": null,
            "grid_auto_flow": null,
            "grid_auto_rows": null,
            "grid_column": null,
            "grid_gap": null,
            "grid_row": null,
            "grid_template_areas": null,
            "grid_template_columns": null,
            "grid_template_rows": null,
            "height": null,
            "justify_content": null,
            "justify_items": null,
            "left": null,
            "margin": null,
            "max_height": null,
            "max_width": null,
            "min_height": null,
            "min_width": null,
            "object_fit": null,
            "object_position": null,
            "order": null,
            "overflow": null,
            "overflow_x": null,
            "overflow_y": null,
            "padding": null,
            "right": null,
            "top": null,
            "visibility": null,
            "width": null
          }
        },
        "43882e01df1c41469fed318c2b525ada": {
          "model_module": "@jupyter-widgets/controls",
          "model_module_version": "1.5.0",
          "model_name": "HTMLModel",
          "state": {
            "_dom_classes": [],
            "_model_module": "@jupyter-widgets/controls",
            "_model_module_version": "1.5.0",
            "_model_name": "HTMLModel",
            "_view_count": null,
            "_view_module": "@jupyter-widgets/controls",
            "_view_module_version": "1.5.0",
            "_view_name": "HTMLView",
            "description": "",
            "description_tooltip": null,
            "layout": "IPY_MODEL_436144cba76d4eb69d2f97d8cd9d49c1",
            "placeholder": "​",
            "style": "IPY_MODEL_a58c9522f7584b3ca1c9b053596a1646",
            "value": "Downloading data: 100%"
          }
        },
        "43c4ed260c37423aa7791ea95bb444de": {
          "model_module": "@jupyter-widgets/base",
          "model_module_version": "1.2.0",
          "model_name": "LayoutModel",
          "state": {
            "_model_module": "@jupyter-widgets/base",
            "_model_module_version": "1.2.0",
            "_model_name": "LayoutModel",
            "_view_count": null,
            "_view_module": "@jupyter-widgets/base",
            "_view_module_version": "1.2.0",
            "_view_name": "LayoutView",
            "align_content": null,
            "align_items": null,
            "align_self": null,
            "border": null,
            "bottom": null,
            "display": null,
            "flex": null,
            "flex_flow": null,
            "grid_area": null,
            "grid_auto_columns": null,
            "grid_auto_flow": null,
            "grid_auto_rows": null,
            "grid_column": null,
            "grid_gap": null,
            "grid_row": null,
            "grid_template_areas": null,
            "grid_template_columns": null,
            "grid_template_rows": null,
            "height": null,
            "justify_content": null,
            "justify_items": null,
            "left": null,
            "margin": null,
            "max_height": null,
            "max_width": null,
            "min_height": null,
            "min_width": null,
            "object_fit": null,
            "object_position": null,
            "order": null,
            "overflow": null,
            "overflow_x": null,
            "overflow_y": null,
            "padding": null,
            "right": null,
            "top": null,
            "visibility": null,
            "width": null
          }
        },
        "4688f548bad14c89a66754abbceb46ef": {
          "model_module": "@jupyter-widgets/controls",
          "model_module_version": "1.5.0",
          "model_name": "HTMLModel",
          "state": {
            "_dom_classes": [],
            "_model_module": "@jupyter-widgets/controls",
            "_model_module_version": "1.5.0",
            "_model_name": "HTMLModel",
            "_view_count": null,
            "_view_module": "@jupyter-widgets/controls",
            "_view_module_version": "1.5.0",
            "_view_name": "HTMLView",
            "description": "",
            "description_tooltip": null,
            "layout": "IPY_MODEL_43c4ed260c37423aa7791ea95bb444de",
            "placeholder": "​",
            "style": "IPY_MODEL_66551a4c938344699adb3484bf7e91bd",
            "value": " 3453/3453 [00:00&lt;00:00, 58162.28 examples/s]"
          }
        },
        "47054244877848089ba0e7a3941cdd2b": {
          "model_module": "@jupyter-widgets/base",
          "model_module_version": "1.2.0",
          "model_name": "LayoutModel",
          "state": {
            "_model_module": "@jupyter-widgets/base",
            "_model_module_version": "1.2.0",
            "_model_name": "LayoutModel",
            "_view_count": null,
            "_view_module": "@jupyter-widgets/base",
            "_view_module_version": "1.2.0",
            "_view_name": "LayoutView",
            "align_content": null,
            "align_items": null,
            "align_self": null,
            "border": null,
            "bottom": null,
            "display": null,
            "flex": null,
            "flex_flow": null,
            "grid_area": null,
            "grid_auto_columns": null,
            "grid_auto_flow": null,
            "grid_auto_rows": null,
            "grid_column": null,
            "grid_gap": null,
            "grid_row": null,
            "grid_template_areas": null,
            "grid_template_columns": null,
            "grid_template_rows": null,
            "height": null,
            "justify_content": null,
            "justify_items": null,
            "left": null,
            "margin": null,
            "max_height": null,
            "max_width": null,
            "min_height": null,
            "min_width": null,
            "object_fit": null,
            "object_position": null,
            "order": null,
            "overflow": null,
            "overflow_x": null,
            "overflow_y": null,
            "padding": null,
            "right": null,
            "top": null,
            "visibility": null,
            "width": null
          }
        },
        "489a4337053342d09e1925547d0999f7": {
          "model_module": "@jupyter-widgets/controls",
          "model_module_version": "1.5.0",
          "model_name": "HTMLModel",
          "state": {
            "_dom_classes": [],
            "_model_module": "@jupyter-widgets/controls",
            "_model_module_version": "1.5.0",
            "_model_name": "HTMLModel",
            "_view_count": null,
            "_view_module": "@jupyter-widgets/controls",
            "_view_module_version": "1.5.0",
            "_view_name": "HTMLView",
            "description": "",
            "description_tooltip": null,
            "layout": "IPY_MODEL_d693f0ba11944e7f8c5bc1a7159c85f9",
            "placeholder": "​",
            "style": "IPY_MODEL_b1bf140bbccc4efda24eee5659e7a4fc",
            "value": " 51362/51362 [00:21&lt;00:00, 2085.16 examples/s]"
          }
        },
        "4acad9ad458041db9496c1e4e485ae6d": {
          "model_module": "@jupyter-widgets/base",
          "model_module_version": "1.2.0",
          "model_name": "LayoutModel",
          "state": {
            "_model_module": "@jupyter-widgets/base",
            "_model_module_version": "1.2.0",
            "_model_name": "LayoutModel",
            "_view_count": null,
            "_view_module": "@jupyter-widgets/base",
            "_view_module_version": "1.2.0",
            "_view_name": "LayoutView",
            "align_content": null,
            "align_items": null,
            "align_self": null,
            "border": null,
            "bottom": null,
            "display": null,
            "flex": null,
            "flex_flow": null,
            "grid_area": null,
            "grid_auto_columns": null,
            "grid_auto_flow": null,
            "grid_auto_rows": null,
            "grid_column": null,
            "grid_gap": null,
            "grid_row": null,
            "grid_template_areas": null,
            "grid_template_columns": null,
            "grid_template_rows": null,
            "height": null,
            "justify_content": null,
            "justify_items": null,
            "left": null,
            "margin": null,
            "max_height": null,
            "max_width": null,
            "min_height": null,
            "min_width": null,
            "object_fit": null,
            "object_position": null,
            "order": null,
            "overflow": null,
            "overflow_x": null,
            "overflow_y": null,
            "padding": null,
            "right": null,
            "top": null,
            "visibility": null,
            "width": null
          }
        },
        "4b688835e91e457ba0c6cb8438c37a5a": {
          "model_module": "@jupyter-widgets/controls",
          "model_module_version": "1.5.0",
          "model_name": "DescriptionStyleModel",
          "state": {
            "_model_module": "@jupyter-widgets/controls",
            "_model_module_version": "1.5.0",
            "_model_name": "DescriptionStyleModel",
            "_view_count": null,
            "_view_module": "@jupyter-widgets/base",
            "_view_module_version": "1.2.0",
            "_view_name": "StyleView",
            "description_width": ""
          }
        },
        "4bd9daf59897421dbc159f10f7bf5443": {
          "model_module": "@jupyter-widgets/base",
          "model_module_version": "1.2.0",
          "model_name": "LayoutModel",
          "state": {
            "_model_module": "@jupyter-widgets/base",
            "_model_module_version": "1.2.0",
            "_model_name": "LayoutModel",
            "_view_count": null,
            "_view_module": "@jupyter-widgets/base",
            "_view_module_version": "1.2.0",
            "_view_name": "LayoutView",
            "align_content": null,
            "align_items": null,
            "align_self": null,
            "border": null,
            "bottom": null,
            "display": null,
            "flex": null,
            "flex_flow": null,
            "grid_area": null,
            "grid_auto_columns": null,
            "grid_auto_flow": null,
            "grid_auto_rows": null,
            "grid_column": null,
            "grid_gap": null,
            "grid_row": null,
            "grid_template_areas": null,
            "grid_template_columns": null,
            "grid_template_rows": null,
            "height": null,
            "justify_content": null,
            "justify_items": null,
            "left": null,
            "margin": null,
            "max_height": null,
            "max_width": null,
            "min_height": null,
            "min_width": null,
            "object_fit": null,
            "object_position": null,
            "order": null,
            "overflow": null,
            "overflow_x": null,
            "overflow_y": null,
            "padding": null,
            "right": null,
            "top": null,
            "visibility": null,
            "width": null
          }
        },
        "4d0483edcedf4537bbfb5078b4b9874d": {
          "model_module": "@jupyter-widgets/base",
          "model_module_version": "1.2.0",
          "model_name": "LayoutModel",
          "state": {
            "_model_module": "@jupyter-widgets/base",
            "_model_module_version": "1.2.0",
            "_model_name": "LayoutModel",
            "_view_count": null,
            "_view_module": "@jupyter-widgets/base",
            "_view_module_version": "1.2.0",
            "_view_name": "LayoutView",
            "align_content": null,
            "align_items": null,
            "align_self": null,
            "border": null,
            "bottom": null,
            "display": null,
            "flex": null,
            "flex_flow": null,
            "grid_area": null,
            "grid_auto_columns": null,
            "grid_auto_flow": null,
            "grid_auto_rows": null,
            "grid_column": null,
            "grid_gap": null,
            "grid_row": null,
            "grid_template_areas": null,
            "grid_template_columns": null,
            "grid_template_rows": null,
            "height": null,
            "justify_content": null,
            "justify_items": null,
            "left": null,
            "margin": null,
            "max_height": null,
            "max_width": null,
            "min_height": null,
            "min_width": null,
            "object_fit": null,
            "object_position": null,
            "order": null,
            "overflow": null,
            "overflow_x": null,
            "overflow_y": null,
            "padding": null,
            "right": null,
            "top": null,
            "visibility": null,
            "width": null
          }
        },
        "4e0856c7f0384a3fa9de3b17bafc761f": {
          "model_module": "@jupyter-widgets/controls",
          "model_module_version": "1.5.0",
          "model_name": "DescriptionStyleModel",
          "state": {
            "_model_module": "@jupyter-widgets/controls",
            "_model_module_version": "1.5.0",
            "_model_name": "DescriptionStyleModel",
            "_view_count": null,
            "_view_module": "@jupyter-widgets/base",
            "_view_module_version": "1.2.0",
            "_view_name": "StyleView",
            "description_width": ""
          }
        },
        "4f4547c92bfb44f9ae48057f06850640": {
          "model_module": "@jupyter-widgets/base",
          "model_module_version": "1.2.0",
          "model_name": "LayoutModel",
          "state": {
            "_model_module": "@jupyter-widgets/base",
            "_model_module_version": "1.2.0",
            "_model_name": "LayoutModel",
            "_view_count": null,
            "_view_module": "@jupyter-widgets/base",
            "_view_module_version": "1.2.0",
            "_view_name": "LayoutView",
            "align_content": null,
            "align_items": null,
            "align_self": null,
            "border": null,
            "bottom": null,
            "display": null,
            "flex": null,
            "flex_flow": null,
            "grid_area": null,
            "grid_auto_columns": null,
            "grid_auto_flow": null,
            "grid_auto_rows": null,
            "grid_column": null,
            "grid_gap": null,
            "grid_row": null,
            "grid_template_areas": null,
            "grid_template_columns": null,
            "grid_template_rows": null,
            "height": null,
            "justify_content": null,
            "justify_items": null,
            "left": null,
            "margin": null,
            "max_height": null,
            "max_width": null,
            "min_height": null,
            "min_width": null,
            "object_fit": null,
            "object_position": null,
            "order": null,
            "overflow": null,
            "overflow_x": null,
            "overflow_y": null,
            "padding": null,
            "right": null,
            "top": null,
            "visibility": null,
            "width": null
          }
        },
        "4f70fa88519840ab950adc0dd1001c4c": {
          "model_module": "@jupyter-widgets/controls",
          "model_module_version": "1.5.0",
          "model_name": "HTMLModel",
          "state": {
            "_dom_classes": [],
            "_model_module": "@jupyter-widgets/controls",
            "_model_module_version": "1.5.0",
            "_model_name": "HTMLModel",
            "_view_count": null,
            "_view_module": "@jupyter-widgets/controls",
            "_view_module_version": "1.5.0",
            "_view_name": "HTMLView",
            "description": "",
            "description_tooltip": null,
            "layout": "IPY_MODEL_1623a7a53e5749788522778f9702f231",
            "placeholder": "​",
            "style": "IPY_MODEL_b954a5a576004a9c99f8806676048c58",
            "value": "Generating test split: 100%"
          }
        },
        "50d9b1286de04449945c8975ce4deb1a": {
          "model_module": "@jupyter-widgets/base",
          "model_module_version": "1.2.0",
          "model_name": "LayoutModel",
          "state": {
            "_model_module": "@jupyter-widgets/base",
            "_model_module_version": "1.2.0",
            "_model_name": "LayoutModel",
            "_view_count": null,
            "_view_module": "@jupyter-widgets/base",
            "_view_module_version": "1.2.0",
            "_view_name": "LayoutView",
            "align_content": null,
            "align_items": null,
            "align_self": null,
            "border": null,
            "bottom": null,
            "display": null,
            "flex": null,
            "flex_flow": null,
            "grid_area": null,
            "grid_auto_columns": null,
            "grid_auto_flow": null,
            "grid_auto_rows": null,
            "grid_column": null,
            "grid_gap": null,
            "grid_row": null,
            "grid_template_areas": null,
            "grid_template_columns": null,
            "grid_template_rows": null,
            "height": null,
            "justify_content": null,
            "justify_items": null,
            "left": null,
            "margin": null,
            "max_height": null,
            "max_width": null,
            "min_height": null,
            "min_width": null,
            "object_fit": null,
            "object_position": null,
            "order": null,
            "overflow": null,
            "overflow_x": null,
            "overflow_y": null,
            "padding": null,
            "right": null,
            "top": null,
            "visibility": null,
            "width": null
          }
        },
        "51d00181226b4b949519f76583c1dd78": {
          "model_module": "@jupyter-widgets/controls",
          "model_module_version": "1.5.0",
          "model_name": "DescriptionStyleModel",
          "state": {
            "_model_module": "@jupyter-widgets/controls",
            "_model_module_version": "1.5.0",
            "_model_name": "DescriptionStyleModel",
            "_view_count": null,
            "_view_module": "@jupyter-widgets/base",
            "_view_module_version": "1.2.0",
            "_view_name": "StyleView",
            "description_width": ""
          }
        },
        "5558da787ca240d4a90cc924f15b9f8b": {
          "model_module": "@jupyter-widgets/base",
          "model_module_version": "1.2.0",
          "model_name": "LayoutModel",
          "state": {
            "_model_module": "@jupyter-widgets/base",
            "_model_module_version": "1.2.0",
            "_model_name": "LayoutModel",
            "_view_count": null,
            "_view_module": "@jupyter-widgets/base",
            "_view_module_version": "1.2.0",
            "_view_name": "LayoutView",
            "align_content": null,
            "align_items": null,
            "align_self": null,
            "border": null,
            "bottom": null,
            "display": null,
            "flex": null,
            "flex_flow": null,
            "grid_area": null,
            "grid_auto_columns": null,
            "grid_auto_flow": null,
            "grid_auto_rows": null,
            "grid_column": null,
            "grid_gap": null,
            "grid_row": null,
            "grid_template_areas": null,
            "grid_template_columns": null,
            "grid_template_rows": null,
            "height": null,
            "justify_content": null,
            "justify_items": null,
            "left": null,
            "margin": null,
            "max_height": null,
            "max_width": null,
            "min_height": null,
            "min_width": null,
            "object_fit": null,
            "object_position": null,
            "order": null,
            "overflow": null,
            "overflow_x": null,
            "overflow_y": null,
            "padding": null,
            "right": null,
            "top": null,
            "visibility": null,
            "width": null
          }
        },
        "5668ba42ebc74334912851ad1e81c652": {
          "model_module": "@jupyter-widgets/controls",
          "model_module_version": "1.5.0",
          "model_name": "ProgressStyleModel",
          "state": {
            "_model_module": "@jupyter-widgets/controls",
            "_model_module_version": "1.5.0",
            "_model_name": "ProgressStyleModel",
            "_view_count": null,
            "_view_module": "@jupyter-widgets/base",
            "_view_module_version": "1.2.0",
            "_view_name": "StyleView",
            "bar_color": null,
            "description_width": ""
          }
        },
        "59293fd255644a98a58d2212c182adfe": {
          "model_module": "@jupyter-widgets/base",
          "model_module_version": "1.2.0",
          "model_name": "LayoutModel",
          "state": {
            "_model_module": "@jupyter-widgets/base",
            "_model_module_version": "1.2.0",
            "_model_name": "LayoutModel",
            "_view_count": null,
            "_view_module": "@jupyter-widgets/base",
            "_view_module_version": "1.2.0",
            "_view_name": "LayoutView",
            "align_content": null,
            "align_items": null,
            "align_self": null,
            "border": null,
            "bottom": null,
            "display": null,
            "flex": null,
            "flex_flow": null,
            "grid_area": null,
            "grid_auto_columns": null,
            "grid_auto_flow": null,
            "grid_auto_rows": null,
            "grid_column": null,
            "grid_gap": null,
            "grid_row": null,
            "grid_template_areas": null,
            "grid_template_columns": null,
            "grid_template_rows": null,
            "height": null,
            "justify_content": null,
            "justify_items": null,
            "left": null,
            "margin": null,
            "max_height": null,
            "max_width": null,
            "min_height": null,
            "min_width": null,
            "object_fit": null,
            "object_position": null,
            "order": null,
            "overflow": null,
            "overflow_x": null,
            "overflow_y": null,
            "padding": null,
            "right": null,
            "top": null,
            "visibility": null,
            "width": null
          }
        },
        "59b65bf171054beebfea59c63587a005": {
          "model_module": "@jupyter-widgets/controls",
          "model_module_version": "1.5.0",
          "model_name": "DescriptionStyleModel",
          "state": {
            "_model_module": "@jupyter-widgets/controls",
            "_model_module_version": "1.5.0",
            "_model_name": "DescriptionStyleModel",
            "_view_count": null,
            "_view_module": "@jupyter-widgets/base",
            "_view_module_version": "1.2.0",
            "_view_name": "StyleView",
            "description_width": ""
          }
        },
        "5aac0c3f90bd4eaaab336d32e95841d4": {
          "model_module": "@jupyter-widgets/controls",
          "model_module_version": "1.5.0",
          "model_name": "HTMLModel",
          "state": {
            "_dom_classes": [],
            "_model_module": "@jupyter-widgets/controls",
            "_model_module_version": "1.5.0",
            "_model_name": "HTMLModel",
            "_view_count": null,
            "_view_module": "@jupyter-widgets/controls",
            "_view_module_version": "1.5.0",
            "_view_name": "HTMLView",
            "description": "",
            "description_tooltip": null,
            "layout": "IPY_MODEL_b36eafd84041471ea8869f881376e4c6",
            "placeholder": "​",
            "style": "IPY_MODEL_4b688835e91e457ba0c6cb8438c37a5a",
            "value": "Map: 100%"
          }
        },
        "5bb9cded71ae4cc5901e27fe1f9b7566": {
          "model_module": "@jupyter-widgets/base",
          "model_module_version": "1.2.0",
          "model_name": "LayoutModel",
          "state": {
            "_model_module": "@jupyter-widgets/base",
            "_model_module_version": "1.2.0",
            "_model_name": "LayoutModel",
            "_view_count": null,
            "_view_module": "@jupyter-widgets/base",
            "_view_module_version": "1.2.0",
            "_view_name": "LayoutView",
            "align_content": null,
            "align_items": null,
            "align_self": null,
            "border": null,
            "bottom": null,
            "display": null,
            "flex": null,
            "flex_flow": null,
            "grid_area": null,
            "grid_auto_columns": null,
            "grid_auto_flow": null,
            "grid_auto_rows": null,
            "grid_column": null,
            "grid_gap": null,
            "grid_row": null,
            "grid_template_areas": null,
            "grid_template_columns": null,
            "grid_template_rows": null,
            "height": null,
            "justify_content": null,
            "justify_items": null,
            "left": null,
            "margin": null,
            "max_height": null,
            "max_width": null,
            "min_height": null,
            "min_width": null,
            "object_fit": null,
            "object_position": null,
            "order": null,
            "overflow": null,
            "overflow_x": null,
            "overflow_y": null,
            "padding": null,
            "right": null,
            "top": null,
            "visibility": null,
            "width": null
          }
        },
        "5c53618db6d14cb1b6bb8cb2942d12c7": {
          "model_module": "@jupyter-widgets/controls",
          "model_module_version": "1.5.0",
          "model_name": "HBoxModel",
          "state": {
            "_dom_classes": [],
            "_model_module": "@jupyter-widgets/controls",
            "_model_module_version": "1.5.0",
            "_model_name": "HBoxModel",
            "_view_count": null,
            "_view_module": "@jupyter-widgets/controls",
            "_view_module_version": "1.5.0",
            "_view_name": "HBoxView",
            "box_style": "",
            "children": [
              "IPY_MODEL_4f70fa88519840ab950adc0dd1001c4c",
              "IPY_MODEL_6f4b6c928c1b4efc968c381e2a66debd",
              "IPY_MODEL_4688f548bad14c89a66754abbceb46ef"
            ],
            "layout": "IPY_MODEL_4acad9ad458041db9496c1e4e485ae6d"
          }
        },
        "60690be8d9ee41769a5cbdb7d6950c92": {
          "model_module": "@jupyter-widgets/base",
          "model_module_version": "1.2.0",
          "model_name": "LayoutModel",
          "state": {
            "_model_module": "@jupyter-widgets/base",
            "_model_module_version": "1.2.0",
            "_model_name": "LayoutModel",
            "_view_count": null,
            "_view_module": "@jupyter-widgets/base",
            "_view_module_version": "1.2.0",
            "_view_name": "LayoutView",
            "align_content": null,
            "align_items": null,
            "align_self": null,
            "border": null,
            "bottom": null,
            "display": null,
            "flex": null,
            "flex_flow": null,
            "grid_area": null,
            "grid_auto_columns": null,
            "grid_auto_flow": null,
            "grid_auto_rows": null,
            "grid_column": null,
            "grid_gap": null,
            "grid_row": null,
            "grid_template_areas": null,
            "grid_template_columns": null,
            "grid_template_rows": null,
            "height": null,
            "justify_content": null,
            "justify_items": null,
            "left": null,
            "margin": null,
            "max_height": null,
            "max_width": null,
            "min_height": null,
            "min_width": null,
            "object_fit": null,
            "object_position": null,
            "order": null,
            "overflow": null,
            "overflow_x": null,
            "overflow_y": null,
            "padding": null,
            "right": null,
            "top": null,
            "visibility": null,
            "width": null
          }
        },
        "622e5f4f4ed9471fa78a6652eb1b9812": {
          "model_module": "@jupyter-widgets/controls",
          "model_module_version": "1.5.0",
          "model_name": "ProgressStyleModel",
          "state": {
            "_model_module": "@jupyter-widgets/controls",
            "_model_module_version": "1.5.0",
            "_model_name": "ProgressStyleModel",
            "_view_count": null,
            "_view_module": "@jupyter-widgets/base",
            "_view_module_version": "1.2.0",
            "_view_name": "StyleView",
            "bar_color": null,
            "description_width": ""
          }
        },
        "654e236e93cd467a98e28a2aca9f2feb": {
          "model_module": "@jupyter-widgets/controls",
          "model_module_version": "1.5.0",
          "model_name": "HTMLModel",
          "state": {
            "_dom_classes": [],
            "_model_module": "@jupyter-widgets/controls",
            "_model_module_version": "1.5.0",
            "_model_name": "HTMLModel",
            "_view_count": null,
            "_view_module": "@jupyter-widgets/controls",
            "_view_module_version": "1.5.0",
            "_view_name": "HTMLView",
            "description": "",
            "description_tooltip": null,
            "layout": "IPY_MODEL_9d1d0c33523945d69667e45dbb67d536",
            "placeholder": "​",
            "style": "IPY_MODEL_6c202e42e2414cd4a5f871466cb1391d",
            "value": " 312k/312k [00:00&lt;00:00, 1.06MB/s]"
          }
        },
        "66551a4c938344699adb3484bf7e91bd": {
          "model_module": "@jupyter-widgets/controls",
          "model_module_version": "1.5.0",
          "model_name": "DescriptionStyleModel",
          "state": {
            "_model_module": "@jupyter-widgets/controls",
            "_model_module_version": "1.5.0",
            "_model_name": "DescriptionStyleModel",
            "_view_count": null,
            "_view_module": "@jupyter-widgets/base",
            "_view_module_version": "1.2.0",
            "_view_name": "StyleView",
            "description_width": ""
          }
        },
        "69c38d47a26d45cfb977e77f963d571e": {
          "model_module": "@jupyter-widgets/controls",
          "model_module_version": "1.5.0",
          "model_name": "HTMLModel",
          "state": {
            "_dom_classes": [],
            "_model_module": "@jupyter-widgets/controls",
            "_model_module_version": "1.5.0",
            "_model_name": "HTMLModel",
            "_view_count": null,
            "_view_module": "@jupyter-widgets/controls",
            "_view_module_version": "1.5.0",
            "_view_name": "HTMLView",
            "description": "",
            "description_tooltip": null,
            "layout": "IPY_MODEL_28e4758925884be698ee23806cdda147",
            "placeholder": "​",
            "style": "IPY_MODEL_291dc23cd40f4f6094c25854f8851bbd",
            "value": "Downloading data: 100%"
          }
        },
        "6aa220e9a81d4d1296de9f91926246b4": {
          "model_module": "@jupyter-widgets/controls",
          "model_module_version": "1.5.0",
          "model_name": "FloatProgressModel",
          "state": {
            "_dom_classes": [],
            "_model_module": "@jupyter-widgets/controls",
            "_model_module_version": "1.5.0",
            "_model_name": "FloatProgressModel",
            "_view_count": null,
            "_view_module": "@jupyter-widgets/controls",
            "_view_module_version": "1.5.0",
            "_view_name": "ProgressView",
            "bar_style": "success",
            "description": "",
            "description_tooltip": null,
            "layout": "IPY_MODEL_c5c91ac98d244093a4a7c20ae82d2759",
            "max": 14041,
            "min": 0,
            "orientation": "horizontal",
            "style": "IPY_MODEL_ca1e23759298416b939ebb8b3e1d5538",
            "value": 14041
          }
        },
        "6c202e42e2414cd4a5f871466cb1391d": {
          "model_module": "@jupyter-widgets/controls",
          "model_module_version": "1.5.0",
          "model_name": "DescriptionStyleModel",
          "state": {
            "_model_module": "@jupyter-widgets/controls",
            "_model_module_version": "1.5.0",
            "_model_name": "DescriptionStyleModel",
            "_view_count": null,
            "_view_module": "@jupyter-widgets/base",
            "_view_module_version": "1.2.0",
            "_view_name": "StyleView",
            "description_width": ""
          }
        },
        "6f4b6c928c1b4efc968c381e2a66debd": {
          "model_module": "@jupyter-widgets/controls",
          "model_module_version": "1.5.0",
          "model_name": "FloatProgressModel",
          "state": {
            "_dom_classes": [],
            "_model_module": "@jupyter-widgets/controls",
            "_model_module_version": "1.5.0",
            "_model_name": "FloatProgressModel",
            "_view_count": null,
            "_view_module": "@jupyter-widgets/controls",
            "_view_module_version": "1.5.0",
            "_view_name": "ProgressView",
            "bar_style": "success",
            "description": "",
            "description_tooltip": null,
            "layout": "IPY_MODEL_d683c8909f394c1c963cb30f12abae4b",
            "max": 3453,
            "min": 0,
            "orientation": "horizontal",
            "style": "IPY_MODEL_0c42261b35624129a92a2ea4cf96c31e",
            "value": 3453
          }
        },
        "6f559852c65246d095e3e215c5a9822f": {
          "model_module": "@jupyter-widgets/controls",
          "model_module_version": "1.5.0",
          "model_name": "FloatProgressModel",
          "state": {
            "_dom_classes": [],
            "_model_module": "@jupyter-widgets/controls",
            "_model_module_version": "1.5.0",
            "_model_name": "FloatProgressModel",
            "_view_count": null,
            "_view_module": "@jupyter-widgets/controls",
            "_view_module_version": "1.5.0",
            "_view_name": "ProgressView",
            "bar_style": "success",
            "description": "",
            "description_tooltip": null,
            "layout": "IPY_MODEL_218cb93226544b42ab5b30559d7b94f5",
            "max": 3250,
            "min": 0,
            "orientation": "horizontal",
            "style": "IPY_MODEL_d3efa9f02b9d4225a7f7e1c3a007e536",
            "value": 3250
          }
        },
        "701d1e8442064658b697aeec55d52166": {
          "model_module": "@jupyter-widgets/controls",
          "model_module_version": "1.5.0",
          "model_name": "ProgressStyleModel",
          "state": {
            "_model_module": "@jupyter-widgets/controls",
            "_model_module_version": "1.5.0",
            "_model_name": "ProgressStyleModel",
            "_view_count": null,
            "_view_module": "@jupyter-widgets/base",
            "_view_module_version": "1.2.0",
            "_view_name": "StyleView",
            "bar_color": null,
            "description_width": ""
          }
        },
        "7300ea5c95714230983f15d8fded772f": {
          "model_module": "@jupyter-widgets/controls",
          "model_module_version": "1.5.0",
          "model_name": "HTMLModel",
          "state": {
            "_dom_classes": [],
            "_model_module": "@jupyter-widgets/controls",
            "_model_module_version": "1.5.0",
            "_model_name": "HTMLModel",
            "_view_count": null,
            "_view_module": "@jupyter-widgets/controls",
            "_view_module_version": "1.5.0",
            "_view_name": "HTMLView",
            "description": "",
            "description_tooltip": null,
            "layout": "IPY_MODEL_3285423ab5e8494ea8255de1ed974c5d",
            "placeholder": "​",
            "style": "IPY_MODEL_4e0856c7f0384a3fa9de3b17bafc761f",
            "value": " 46435/46435 [00:18&lt;00:00, 2564.89 examples/s]"
          }
        },
        "772a296129b744f1a900c1c131ec66f1": {
          "model_module": "@jupyter-widgets/controls",
          "model_module_version": "1.5.0",
          "model_name": "FloatProgressModel",
          "state": {
            "_dom_classes": [],
            "_model_module": "@jupyter-widgets/controls",
            "_model_module_version": "1.5.0",
            "_model_name": "FloatProgressModel",
            "_view_count": null,
            "_view_module": "@jupyter-widgets/controls",
            "_view_module_version": "1.5.0",
            "_view_name": "ProgressView",
            "bar_style": "success",
            "description": "",
            "description_tooltip": null,
            "layout": "IPY_MODEL_4d0483edcedf4537bbfb5078b4b9874d",
            "max": 51362,
            "min": 0,
            "orientation": "horizontal",
            "style": "IPY_MODEL_701d1e8442064658b697aeec55d52166",
            "value": 51362
          }
        },
        "773d0c2f62c74a3296538a664e507b3b": {
          "model_module": "@jupyter-widgets/controls",
          "model_module_version": "1.5.0",
          "model_name": "HBoxModel",
          "state": {
            "_dom_classes": [],
            "_model_module": "@jupyter-widgets/controls",
            "_model_module_version": "1.5.0",
            "_model_name": "HBoxModel",
            "_view_count": null,
            "_view_module": "@jupyter-widgets/controls",
            "_view_module_version": "1.5.0",
            "_view_name": "HBoxView",
            "box_style": "",
            "children": [
              "IPY_MODEL_43882e01df1c41469fed318c2b525ada",
              "IPY_MODEL_e6013f778a6e4851ae56acffbd4e0d74",
              "IPY_MODEL_ca7893865fff415f96b042c6cbd5904c"
            ],
            "layout": "IPY_MODEL_e85560080b6c47d7a6169dfd76389ecf"
          }
        },
        "77bd75f759f248059864f8654a55f596": {
          "model_module": "@jupyter-widgets/base",
          "model_module_version": "1.2.0",
          "model_name": "LayoutModel",
          "state": {
            "_model_module": "@jupyter-widgets/base",
            "_model_module_version": "1.2.0",
            "_model_name": "LayoutModel",
            "_view_count": null,
            "_view_module": "@jupyter-widgets/base",
            "_view_module_version": "1.2.0",
            "_view_name": "LayoutView",
            "align_content": null,
            "align_items": null,
            "align_self": null,
            "border": null,
            "bottom": null,
            "display": null,
            "flex": null,
            "flex_flow": null,
            "grid_area": null,
            "grid_auto_columns": null,
            "grid_auto_flow": null,
            "grid_auto_rows": null,
            "grid_column": null,
            "grid_gap": null,
            "grid_row": null,
            "grid_template_areas": null,
            "grid_template_columns": null,
            "grid_template_rows": null,
            "height": null,
            "justify_content": null,
            "justify_items": null,
            "left": null,
            "margin": null,
            "max_height": null,
            "max_width": null,
            "min_height": null,
            "min_width": null,
            "object_fit": null,
            "object_position": null,
            "order": null,
            "overflow": null,
            "overflow_x": null,
            "overflow_y": null,
            "padding": null,
            "right": null,
            "top": null,
            "visibility": null,
            "width": null
          }
        },
        "77fac2ea13df43eba50f330d60024730": {
          "model_module": "@jupyter-widgets/controls",
          "model_module_version": "1.5.0",
          "model_name": "DescriptionStyleModel",
          "state": {
            "_model_module": "@jupyter-widgets/controls",
            "_model_module_version": "1.5.0",
            "_model_name": "DescriptionStyleModel",
            "_view_count": null,
            "_view_module": "@jupyter-widgets/base",
            "_view_module_version": "1.2.0",
            "_view_name": "StyleView",
            "description_width": ""
          }
        },
        "7b7b1d6c5ef04e82aae7beae6e77ab47": {
          "model_module": "@jupyter-widgets/controls",
          "model_module_version": "1.5.0",
          "model_name": "DescriptionStyleModel",
          "state": {
            "_model_module": "@jupyter-widgets/controls",
            "_model_module_version": "1.5.0",
            "_model_name": "DescriptionStyleModel",
            "_view_count": null,
            "_view_module": "@jupyter-widgets/base",
            "_view_module_version": "1.2.0",
            "_view_name": "StyleView",
            "description_width": ""
          }
        },
        "7c9fbbb4f2c344db9b632016e9ca970d": {
          "model_module": "@jupyter-widgets/controls",
          "model_module_version": "1.5.0",
          "model_name": "ProgressStyleModel",
          "state": {
            "_model_module": "@jupyter-widgets/controls",
            "_model_module_version": "1.5.0",
            "_model_name": "ProgressStyleModel",
            "_view_count": null,
            "_view_module": "@jupyter-widgets/base",
            "_view_module_version": "1.2.0",
            "_view_name": "StyleView",
            "bar_color": null,
            "description_width": ""
          }
        },
        "7d0753fd498746059025f0ac57ae1b5e": {
          "model_module": "@jupyter-widgets/controls",
          "model_module_version": "1.5.0",
          "model_name": "FloatProgressModel",
          "state": {
            "_dom_classes": [],
            "_model_module": "@jupyter-widgets/controls",
            "_model_module_version": "1.5.0",
            "_model_name": "FloatProgressModel",
            "_view_count": null,
            "_view_module": "@jupyter-widgets/controls",
            "_view_module_version": "1.5.0",
            "_view_name": "ProgressView",
            "bar_style": "success",
            "description": "",
            "description_tooltip": null,
            "layout": "IPY_MODEL_50d9b1286de04449945c8975ce4deb1a",
            "max": 3250,
            "min": 0,
            "orientation": "horizontal",
            "style": "IPY_MODEL_fa09cfcce89e44f2abde7df1fb70c593",
            "value": 3250
          }
        },
        "7ec7d73c10ea4605b756cdc888987a8d": {
          "model_module": "@jupyter-widgets/controls",
          "model_module_version": "1.5.0",
          "model_name": "FloatProgressModel",
          "state": {
            "_dom_classes": [],
            "_model_module": "@jupyter-widgets/controls",
            "_model_module_version": "1.5.0",
            "_model_name": "FloatProgressModel",
            "_view_count": null,
            "_view_module": "@jupyter-widgets/controls",
            "_view_module_version": "1.5.0",
            "_view_name": "ProgressView",
            "bar_style": "success",
            "description": "",
            "description_tooltip": null,
            "layout": "IPY_MODEL_bb3c99c42fd14e339e7c07b9b1a88e25",
            "max": 311883,
            "min": 0,
            "orientation": "horizontal",
            "style": "IPY_MODEL_f1f90b6362c54e9f835c40ff50c54fef",
            "value": 311883
          }
        },
        "8104fefb54a44c6b8f43a3ad07eab6b1": {
          "model_module": "@jupyter-widgets/base",
          "model_module_version": "1.2.0",
          "model_name": "LayoutModel",
          "state": {
            "_model_module": "@jupyter-widgets/base",
            "_model_module_version": "1.2.0",
            "_model_name": "LayoutModel",
            "_view_count": null,
            "_view_module": "@jupyter-widgets/base",
            "_view_module_version": "1.2.0",
            "_view_name": "LayoutView",
            "align_content": null,
            "align_items": null,
            "align_self": null,
            "border": null,
            "bottom": null,
            "display": null,
            "flex": null,
            "flex_flow": null,
            "grid_area": null,
            "grid_auto_columns": null,
            "grid_auto_flow": null,
            "grid_auto_rows": null,
            "grid_column": null,
            "grid_gap": null,
            "grid_row": null,
            "grid_template_areas": null,
            "grid_template_columns": null,
            "grid_template_rows": null,
            "height": null,
            "justify_content": null,
            "justify_items": null,
            "left": null,
            "margin": null,
            "max_height": null,
            "max_width": null,
            "min_height": null,
            "min_width": null,
            "object_fit": null,
            "object_position": null,
            "order": null,
            "overflow": null,
            "overflow_x": null,
            "overflow_y": null,
            "padding": null,
            "right": null,
            "top": null,
            "visibility": null,
            "width": null
          }
        },
        "81b1a02bf7844ca5a6c113b608be69f1": {
          "model_module": "@jupyter-widgets/controls",
          "model_module_version": "1.5.0",
          "model_name": "DescriptionStyleModel",
          "state": {
            "_model_module": "@jupyter-widgets/controls",
            "_model_module_version": "1.5.0",
            "_model_name": "DescriptionStyleModel",
            "_view_count": null,
            "_view_module": "@jupyter-widgets/base",
            "_view_module_version": "1.2.0",
            "_view_name": "StyleView",
            "description_width": ""
          }
        },
        "859fb6032db1426b9f58c9cca015e95b": {
          "model_module": "@jupyter-widgets/controls",
          "model_module_version": "1.5.0",
          "model_name": "HTMLModel",
          "state": {
            "_dom_classes": [],
            "_model_module": "@jupyter-widgets/controls",
            "_model_module_version": "1.5.0",
            "_model_name": "HTMLModel",
            "_view_count": null,
            "_view_module": "@jupyter-widgets/controls",
            "_view_module_version": "1.5.0",
            "_view_name": "HTMLView",
            "description": "",
            "description_tooltip": null,
            "layout": "IPY_MODEL_f5a98279218c40ee92c0b084a81c43ae",
            "placeholder": "​",
            "style": "IPY_MODEL_3d67d18fe74349ceac9b09aaee132792",
            "value": "Map: 100%"
          }
        },
        "874542c532694e1fa4cc46b91f9edb48": {
          "model_module": "@jupyter-widgets/base",
          "model_module_version": "1.2.0",
          "model_name": "LayoutModel",
          "state": {
            "_model_module": "@jupyter-widgets/base",
            "_model_module_version": "1.2.0",
            "_model_name": "LayoutModel",
            "_view_count": null,
            "_view_module": "@jupyter-widgets/base",
            "_view_module_version": "1.2.0",
            "_view_name": "LayoutView",
            "align_content": null,
            "align_items": null,
            "align_self": null,
            "border": null,
            "bottom": null,
            "display": null,
            "flex": null,
            "flex_flow": null,
            "grid_area": null,
            "grid_auto_columns": null,
            "grid_auto_flow": null,
            "grid_auto_rows": null,
            "grid_column": null,
            "grid_gap": null,
            "grid_row": null,
            "grid_template_areas": null,
            "grid_template_columns": null,
            "grid_template_rows": null,
            "height": null,
            "justify_content": null,
            "justify_items": null,
            "left": null,
            "margin": null,
            "max_height": null,
            "max_width": null,
            "min_height": null,
            "min_width": null,
            "object_fit": null,
            "object_position": null,
            "order": null,
            "overflow": null,
            "overflow_x": null,
            "overflow_y": null,
            "padding": null,
            "right": null,
            "top": null,
            "visibility": null,
            "width": null
          }
        },
        "8aa36e1cb75f49cba335620465e56a5c": {
          "model_module": "@jupyter-widgets/base",
          "model_module_version": "1.2.0",
          "model_name": "LayoutModel",
          "state": {
            "_model_module": "@jupyter-widgets/base",
            "_model_module_version": "1.2.0",
            "_model_name": "LayoutModel",
            "_view_count": null,
            "_view_module": "@jupyter-widgets/base",
            "_view_module_version": "1.2.0",
            "_view_name": "LayoutView",
            "align_content": null,
            "align_items": null,
            "align_self": null,
            "border": null,
            "bottom": null,
            "display": null,
            "flex": null,
            "flex_flow": null,
            "grid_area": null,
            "grid_auto_columns": null,
            "grid_auto_flow": null,
            "grid_auto_rows": null,
            "grid_column": null,
            "grid_gap": null,
            "grid_row": null,
            "grid_template_areas": null,
            "grid_template_columns": null,
            "grid_template_rows": null,
            "height": null,
            "justify_content": null,
            "justify_items": null,
            "left": null,
            "margin": null,
            "max_height": null,
            "max_width": null,
            "min_height": null,
            "min_width": null,
            "object_fit": null,
            "object_position": null,
            "order": null,
            "overflow": null,
            "overflow_x": null,
            "overflow_y": null,
            "padding": null,
            "right": null,
            "top": null,
            "visibility": null,
            "width": null
          }
        },
        "8d9ba153d89f4106afae86a34caeb74c": {
          "model_module": "@jupyter-widgets/controls",
          "model_module_version": "1.5.0",
          "model_name": "FloatProgressModel",
          "state": {
            "_dom_classes": [],
            "_model_module": "@jupyter-widgets/controls",
            "_model_module_version": "1.5.0",
            "_model_name": "FloatProgressModel",
            "_view_count": null,
            "_view_module": "@jupyter-widgets/controls",
            "_view_module_version": "1.5.0",
            "_view_name": "ProgressView",
            "bar_style": "success",
            "description": "",
            "description_tooltip": null,
            "layout": "IPY_MODEL_00b273c3807a4d8587a37204b4e32cf4",
            "max": 14041,
            "min": 0,
            "orientation": "horizontal",
            "style": "IPY_MODEL_3cbfaf2bf058480ba5ec0d3a5e6b847b",
            "value": 14041
          }
        },
        "8db7b271b6024c5dbf9c17ec222dd93a": {
          "model_module": "@jupyter-widgets/controls",
          "model_module_version": "1.5.0",
          "model_name": "DescriptionStyleModel",
          "state": {
            "_model_module": "@jupyter-widgets/controls",
            "_model_module_version": "1.5.0",
            "_model_name": "DescriptionStyleModel",
            "_view_count": null,
            "_view_module": "@jupyter-widgets/base",
            "_view_module_version": "1.2.0",
            "_view_name": "StyleView",
            "description_width": ""
          }
        },
        "8e16a9f33bd7417e85ae46b676a61d8d": {
          "model_module": "@jupyter-widgets/controls",
          "model_module_version": "1.5.0",
          "model_name": "ProgressStyleModel",
          "state": {
            "_model_module": "@jupyter-widgets/controls",
            "_model_module_version": "1.5.0",
            "_model_name": "ProgressStyleModel",
            "_view_count": null,
            "_view_module": "@jupyter-widgets/base",
            "_view_module_version": "1.2.0",
            "_view_name": "StyleView",
            "bar_color": null,
            "description_width": ""
          }
        },
        "96bbece15f4b4b64b5ce2b7fdba8ac50": {
          "model_module": "@jupyter-widgets/controls",
          "model_module_version": "1.5.0",
          "model_name": "DescriptionStyleModel",
          "state": {
            "_model_module": "@jupyter-widgets/controls",
            "_model_module_version": "1.5.0",
            "_model_name": "DescriptionStyleModel",
            "_view_count": null,
            "_view_module": "@jupyter-widgets/base",
            "_view_module_version": "1.2.0",
            "_view_name": "StyleView",
            "description_width": ""
          }
        },
        "970ee40e037a4611a8415c09ba143379": {
          "model_module": "@jupyter-widgets/controls",
          "model_module_version": "1.5.0",
          "model_name": "HTMLModel",
          "state": {
            "_dom_classes": [],
            "_model_module": "@jupyter-widgets/controls",
            "_model_module_version": "1.5.0",
            "_model_name": "HTMLModel",
            "_view_count": null,
            "_view_module": "@jupyter-widgets/controls",
            "_view_module_version": "1.5.0",
            "_view_name": "HTMLView",
            "description": "",
            "description_tooltip": null,
            "layout": "IPY_MODEL_d049c7a037d549fe8fbedccd46873129",
            "placeholder": "​",
            "style": "IPY_MODEL_96bbece15f4b4b64b5ce2b7fdba8ac50",
            "value": " 4.20k/4.20k [00:00&lt;00:00, 205kB/s]"
          }
        },
        "98962f8f6e274658a8d219d198187a8c": {
          "model_module": "@jupyter-widgets/controls",
          "model_module_version": "1.5.0",
          "model_name": "HTMLModel",
          "state": {
            "_dom_classes": [],
            "_model_module": "@jupyter-widgets/controls",
            "_model_module_version": "1.5.0",
            "_model_name": "HTMLModel",
            "_view_count": null,
            "_view_module": "@jupyter-widgets/controls",
            "_view_module_version": "1.5.0",
            "_view_name": "HTMLView",
            "description": "",
            "description_tooltip": null,
            "layout": "IPY_MODEL_18096f71ee544877a392b0f64ab21311",
            "placeholder": "​",
            "style": "IPY_MODEL_7b7b1d6c5ef04e82aae7beae6e77ab47",
            "value": " 14041/14041 [00:02&lt;00:00, 5271.11 examples/s]"
          }
        },
        "9d17a82715934d49b38451400545f5b4": {
          "model_module": "@jupyter-widgets/controls",
          "model_module_version": "1.5.0",
          "model_name": "DescriptionStyleModel",
          "state": {
            "_model_module": "@jupyter-widgets/controls",
            "_model_module_version": "1.5.0",
            "_model_name": "DescriptionStyleModel",
            "_view_count": null,
            "_view_module": "@jupyter-widgets/base",
            "_view_module_version": "1.2.0",
            "_view_name": "StyleView",
            "description_width": ""
          }
        },
        "9d1d0c33523945d69667e45dbb67d536": {
          "model_module": "@jupyter-widgets/base",
          "model_module_version": "1.2.0",
          "model_name": "LayoutModel",
          "state": {
            "_model_module": "@jupyter-widgets/base",
            "_model_module_version": "1.2.0",
            "_model_name": "LayoutModel",
            "_view_count": null,
            "_view_module": "@jupyter-widgets/base",
            "_view_module_version": "1.2.0",
            "_view_name": "LayoutView",
            "align_content": null,
            "align_items": null,
            "align_self": null,
            "border": null,
            "bottom": null,
            "display": null,
            "flex": null,
            "flex_flow": null,
            "grid_area": null,
            "grid_auto_columns": null,
            "grid_auto_flow": null,
            "grid_auto_rows": null,
            "grid_column": null,
            "grid_gap": null,
            "grid_row": null,
            "grid_template_areas": null,
            "grid_template_columns": null,
            "grid_template_rows": null,
            "height": null,
            "justify_content": null,
            "justify_items": null,
            "left": null,
            "margin": null,
            "max_height": null,
            "max_width": null,
            "min_height": null,
            "min_width": null,
            "object_fit": null,
            "object_position": null,
            "order": null,
            "overflow": null,
            "overflow_x": null,
            "overflow_y": null,
            "padding": null,
            "right": null,
            "top": null,
            "visibility": null,
            "width": null
          }
        },
        "9e351ef8fd2b4710ad73ba9aa2fbc4a2": {
          "model_module": "@jupyter-widgets/base",
          "model_module_version": "1.2.0",
          "model_name": "LayoutModel",
          "state": {
            "_model_module": "@jupyter-widgets/base",
            "_model_module_version": "1.2.0",
            "_model_name": "LayoutModel",
            "_view_count": null,
            "_view_module": "@jupyter-widgets/base",
            "_view_module_version": "1.2.0",
            "_view_name": "LayoutView",
            "align_content": null,
            "align_items": null,
            "align_self": null,
            "border": null,
            "bottom": null,
            "display": null,
            "flex": null,
            "flex_flow": null,
            "grid_area": null,
            "grid_auto_columns": null,
            "grid_auto_flow": null,
            "grid_auto_rows": null,
            "grid_column": null,
            "grid_gap": null,
            "grid_row": null,
            "grid_template_areas": null,
            "grid_template_columns": null,
            "grid_template_rows": null,
            "height": null,
            "justify_content": null,
            "justify_items": null,
            "left": null,
            "margin": null,
            "max_height": null,
            "max_width": null,
            "min_height": null,
            "min_width": null,
            "object_fit": null,
            "object_position": null,
            "order": null,
            "overflow": null,
            "overflow_x": null,
            "overflow_y": null,
            "padding": null,
            "right": null,
            "top": null,
            "visibility": null,
            "width": null
          }
        },
        "a2b596e1262c4af2aa50a3024e5ec655": {
          "model_module": "@jupyter-widgets/controls",
          "model_module_version": "1.5.0",
          "model_name": "HTMLModel",
          "state": {
            "_dom_classes": [],
            "_model_module": "@jupyter-widgets/controls",
            "_model_module_version": "1.5.0",
            "_model_name": "HTMLModel",
            "_view_count": null,
            "_view_module": "@jupyter-widgets/controls",
            "_view_module_version": "1.5.0",
            "_view_name": "HTMLView",
            "description": "",
            "description_tooltip": null,
            "layout": "IPY_MODEL_c59914edc17f49d58ad34f0697c3fcbc",
            "placeholder": "​",
            "style": "IPY_MODEL_0655459d09d34526b0c5941491b88750",
            "value": "Map (num_proc=4): 100%"
          }
        },
        "a513f1d3e2e84cb099ff05510602bee2": {
          "model_module": "@jupyter-widgets/controls",
          "model_module_version": "1.5.0",
          "model_name": "DescriptionStyleModel",
          "state": {
            "_model_module": "@jupyter-widgets/controls",
            "_model_module_version": "1.5.0",
            "_model_name": "DescriptionStyleModel",
            "_view_count": null,
            "_view_module": "@jupyter-widgets/base",
            "_view_module_version": "1.2.0",
            "_view_name": "StyleView",
            "description_width": ""
          }
        },
        "a58c9522f7584b3ca1c9b053596a1646": {
          "model_module": "@jupyter-widgets/controls",
          "model_module_version": "1.5.0",
          "model_name": "DescriptionStyleModel",
          "state": {
            "_model_module": "@jupyter-widgets/controls",
            "_model_module_version": "1.5.0",
            "_model_name": "DescriptionStyleModel",
            "_view_count": null,
            "_view_module": "@jupyter-widgets/base",
            "_view_module_version": "1.2.0",
            "_view_name": "StyleView",
            "description_width": ""
          }
        },
        "a8530e4977094ee2b8ba29de3778e6ce": {
          "model_module": "@jupyter-widgets/controls",
          "model_module_version": "1.5.0",
          "model_name": "ProgressStyleModel",
          "state": {
            "_model_module": "@jupyter-widgets/controls",
            "_model_module_version": "1.5.0",
            "_model_name": "ProgressStyleModel",
            "_view_count": null,
            "_view_module": "@jupyter-widgets/base",
            "_view_module_version": "1.2.0",
            "_view_name": "StyleView",
            "bar_color": null,
            "description_width": ""
          }
        },
        "ae4f5b7dba2e448fab44fb5ddd5462dc": {
          "model_module": "@jupyter-widgets/controls",
          "model_module_version": "1.5.0",
          "model_name": "ProgressStyleModel",
          "state": {
            "_model_module": "@jupyter-widgets/controls",
            "_model_module_version": "1.5.0",
            "_model_name": "ProgressStyleModel",
            "_view_count": null,
            "_view_module": "@jupyter-widgets/base",
            "_view_module_version": "1.2.0",
            "_view_name": "StyleView",
            "bar_color": null,
            "description_width": ""
          }
        },
        "ae9c1133006546579a92210597eb8a60": {
          "model_module": "@jupyter-widgets/controls",
          "model_module_version": "1.5.0",
          "model_name": "HTMLModel",
          "state": {
            "_dom_classes": [],
            "_model_module": "@jupyter-widgets/controls",
            "_model_module_version": "1.5.0",
            "_model_name": "HTMLModel",
            "_view_count": null,
            "_view_module": "@jupyter-widgets/controls",
            "_view_module_version": "1.5.0",
            "_view_name": "HTMLView",
            "description": "",
            "description_tooltip": null,
            "layout": "IPY_MODEL_0f33be08f6084dc7bc2fa3fcdde5e0cb",
            "placeholder": "​",
            "style": "IPY_MODEL_59b65bf171054beebfea59c63587a005",
            "value": "Downloading builder script: 100%"
          }
        },
        "b1bf140bbccc4efda24eee5659e7a4fc": {
          "model_module": "@jupyter-widgets/controls",
          "model_module_version": "1.5.0",
          "model_name": "DescriptionStyleModel",
          "state": {
            "_model_module": "@jupyter-widgets/controls",
            "_model_module_version": "1.5.0",
            "_model_name": "DescriptionStyleModel",
            "_view_count": null,
            "_view_module": "@jupyter-widgets/base",
            "_view_module_version": "1.2.0",
            "_view_name": "StyleView",
            "description_width": ""
          }
        },
        "b257eadf7fe748908231ae49fd18f084": {
          "model_module": "@jupyter-widgets/base",
          "model_module_version": "1.2.0",
          "model_name": "LayoutModel",
          "state": {
            "_model_module": "@jupyter-widgets/base",
            "_model_module_version": "1.2.0",
            "_model_name": "LayoutModel",
            "_view_count": null,
            "_view_module": "@jupyter-widgets/base",
            "_view_module_version": "1.2.0",
            "_view_name": "LayoutView",
            "align_content": null,
            "align_items": null,
            "align_self": null,
            "border": null,
            "bottom": null,
            "display": null,
            "flex": null,
            "flex_flow": null,
            "grid_area": null,
            "grid_auto_columns": null,
            "grid_auto_flow": null,
            "grid_auto_rows": null,
            "grid_column": null,
            "grid_gap": null,
            "grid_row": null,
            "grid_template_areas": null,
            "grid_template_columns": null,
            "grid_template_rows": null,
            "height": null,
            "justify_content": null,
            "justify_items": null,
            "left": null,
            "margin": null,
            "max_height": null,
            "max_width": null,
            "min_height": null,
            "min_width": null,
            "object_fit": null,
            "object_position": null,
            "order": null,
            "overflow": null,
            "overflow_x": null,
            "overflow_y": null,
            "padding": null,
            "right": null,
            "top": null,
            "visibility": null,
            "width": null
          }
        },
        "b36eafd84041471ea8869f881376e4c6": {
          "model_module": "@jupyter-widgets/base",
          "model_module_version": "1.2.0",
          "model_name": "LayoutModel",
          "state": {
            "_model_module": "@jupyter-widgets/base",
            "_model_module_version": "1.2.0",
            "_model_name": "LayoutModel",
            "_view_count": null,
            "_view_module": "@jupyter-widgets/base",
            "_view_module_version": "1.2.0",
            "_view_name": "LayoutView",
            "align_content": null,
            "align_items": null,
            "align_self": null,
            "border": null,
            "bottom": null,
            "display": null,
            "flex": null,
            "flex_flow": null,
            "grid_area": null,
            "grid_auto_columns": null,
            "grid_auto_flow": null,
            "grid_auto_rows": null,
            "grid_column": null,
            "grid_gap": null,
            "grid_row": null,
            "grid_template_areas": null,
            "grid_template_columns": null,
            "grid_template_rows": null,
            "height": null,
            "justify_content": null,
            "justify_items": null,
            "left": null,
            "margin": null,
            "max_height": null,
            "max_width": null,
            "min_height": null,
            "min_width": null,
            "object_fit": null,
            "object_position": null,
            "order": null,
            "overflow": null,
            "overflow_x": null,
            "overflow_y": null,
            "padding": null,
            "right": null,
            "top": null,
            "visibility": null,
            "width": null
          }
        },
        "b43511af23c2499bb841866a5a68f1ef": {
          "model_module": "@jupyter-widgets/controls",
          "model_module_version": "1.5.0",
          "model_name": "HTMLModel",
          "state": {
            "_dom_classes": [],
            "_model_module": "@jupyter-widgets/controls",
            "_model_module_version": "1.5.0",
            "_model_name": "HTMLModel",
            "_view_count": null,
            "_view_module": "@jupyter-widgets/controls",
            "_view_module_version": "1.5.0",
            "_view_name": "HTMLView",
            "description": "",
            "description_tooltip": null,
            "layout": "IPY_MODEL_d28a065b2ea349ff9f7ea8424aa1f262",
            "placeholder": "​",
            "style": "IPY_MODEL_81b1a02bf7844ca5a6c113b608be69f1",
            "value": "Generating validation split: 100%"
          }
        },
        "b6f39c8687e24d4d845407c4b4bb5741": {
          "model_module": "@jupyter-widgets/controls",
          "model_module_version": "1.5.0",
          "model_name": "HBoxModel",
          "state": {
            "_dom_classes": [],
            "_model_module": "@jupyter-widgets/controls",
            "_model_module_version": "1.5.0",
            "_model_name": "HBoxModel",
            "_view_count": null,
            "_view_module": "@jupyter-widgets/controls",
            "_view_module_version": "1.5.0",
            "_view_name": "HBoxView",
            "box_style": "",
            "children": [
              "IPY_MODEL_5aac0c3f90bd4eaaab336d32e95841d4",
              "IPY_MODEL_8d9ba153d89f4106afae86a34caeb74c",
              "IPY_MODEL_98962f8f6e274658a8d219d198187a8c"
            ],
            "layout": "IPY_MODEL_dde04c787f4a4e8cb0d8094614a42377"
          }
        },
        "b954a5a576004a9c99f8806676048c58": {
          "model_module": "@jupyter-widgets/controls",
          "model_module_version": "1.5.0",
          "model_name": "DescriptionStyleModel",
          "state": {
            "_model_module": "@jupyter-widgets/controls",
            "_model_module_version": "1.5.0",
            "_model_name": "DescriptionStyleModel",
            "_view_count": null,
            "_view_module": "@jupyter-widgets/base",
            "_view_module_version": "1.2.0",
            "_view_name": "StyleView",
            "description_width": ""
          }
        },
        "bb3c99c42fd14e339e7c07b9b1a88e25": {
          "model_module": "@jupyter-widgets/base",
          "model_module_version": "1.2.0",
          "model_name": "LayoutModel",
          "state": {
            "_model_module": "@jupyter-widgets/base",
            "_model_module_version": "1.2.0",
            "_model_name": "LayoutModel",
            "_view_count": null,
            "_view_module": "@jupyter-widgets/base",
            "_view_module_version": "1.2.0",
            "_view_name": "LayoutView",
            "align_content": null,
            "align_items": null,
            "align_self": null,
            "border": null,
            "bottom": null,
            "display": null,
            "flex": null,
            "flex_flow": null,
            "grid_area": null,
            "grid_auto_columns": null,
            "grid_auto_flow": null,
            "grid_auto_rows": null,
            "grid_column": null,
            "grid_gap": null,
            "grid_row": null,
            "grid_template_areas": null,
            "grid_template_columns": null,
            "grid_template_rows": null,
            "height": null,
            "justify_content": null,
            "justify_items": null,
            "left": null,
            "margin": null,
            "max_height": null,
            "max_width": null,
            "min_height": null,
            "min_width": null,
            "object_fit": null,
            "object_position": null,
            "order": null,
            "overflow": null,
            "overflow_x": null,
            "overflow_y": null,
            "padding": null,
            "right": null,
            "top": null,
            "visibility": null,
            "width": null
          }
        },
        "c54417dbd6ea4aff9ce083092a8e59c3": {
          "model_module": "@jupyter-widgets/controls",
          "model_module_version": "1.5.0",
          "model_name": "DescriptionStyleModel",
          "state": {
            "_model_module": "@jupyter-widgets/controls",
            "_model_module_version": "1.5.0",
            "_model_name": "DescriptionStyleModel",
            "_view_count": null,
            "_view_module": "@jupyter-widgets/base",
            "_view_module_version": "1.2.0",
            "_view_name": "StyleView",
            "description_width": ""
          }
        },
        "c573453f74eb408999aed626e6a34e7e": {
          "model_module": "@jupyter-widgets/controls",
          "model_module_version": "1.5.0",
          "model_name": "HBoxModel",
          "state": {
            "_dom_classes": [],
            "_model_module": "@jupyter-widgets/controls",
            "_model_module_version": "1.5.0",
            "_model_name": "HBoxModel",
            "_view_count": null,
            "_view_module": "@jupyter-widgets/controls",
            "_view_module_version": "1.5.0",
            "_view_name": "HBoxView",
            "box_style": "",
            "children": [
              "IPY_MODEL_ae9c1133006546579a92210597eb8a60",
              "IPY_MODEL_dbccc8a6cef746e08bde588a4ca26ad9",
              "IPY_MODEL_970ee40e037a4611a8415c09ba143379"
            ],
            "layout": "IPY_MODEL_277b1871c444496d8f98c595e70bd439"
          }
        },
        "c59914edc17f49d58ad34f0697c3fcbc": {
          "model_module": "@jupyter-widgets/base",
          "model_module_version": "1.2.0",
          "model_name": "LayoutModel",
          "state": {
            "_model_module": "@jupyter-widgets/base",
            "_model_module_version": "1.2.0",
            "_model_name": "LayoutModel",
            "_view_count": null,
            "_view_module": "@jupyter-widgets/base",
            "_view_module_version": "1.2.0",
            "_view_name": "LayoutView",
            "align_content": null,
            "align_items": null,
            "align_self": null,
            "border": null,
            "bottom": null,
            "display": null,
            "flex": null,
            "flex_flow": null,
            "grid_area": null,
            "grid_auto_columns": null,
            "grid_auto_flow": null,
            "grid_auto_rows": null,
            "grid_column": null,
            "grid_gap": null,
            "grid_row": null,
            "grid_template_areas": null,
            "grid_template_columns": null,
            "grid_template_rows": null,
            "height": null,
            "justify_content": null,
            "justify_items": null,
            "left": null,
            "margin": null,
            "max_height": null,
            "max_width": null,
            "min_height": null,
            "min_width": null,
            "object_fit": null,
            "object_position": null,
            "order": null,
            "overflow": null,
            "overflow_x": null,
            "overflow_y": null,
            "padding": null,
            "right": null,
            "top": null,
            "visibility": null,
            "width": null
          }
        },
        "c5c91ac98d244093a4a7c20ae82d2759": {
          "model_module": "@jupyter-widgets/base",
          "model_module_version": "1.2.0",
          "model_name": "LayoutModel",
          "state": {
            "_model_module": "@jupyter-widgets/base",
            "_model_module_version": "1.2.0",
            "_model_name": "LayoutModel",
            "_view_count": null,
            "_view_module": "@jupyter-widgets/base",
            "_view_module_version": "1.2.0",
            "_view_name": "LayoutView",
            "align_content": null,
            "align_items": null,
            "align_self": null,
            "border": null,
            "bottom": null,
            "display": null,
            "flex": null,
            "flex_flow": null,
            "grid_area": null,
            "grid_auto_columns": null,
            "grid_auto_flow": null,
            "grid_auto_rows": null,
            "grid_column": null,
            "grid_gap": null,
            "grid_row": null,
            "grid_template_areas": null,
            "grid_template_columns": null,
            "grid_template_rows": null,
            "height": null,
            "justify_content": null,
            "justify_items": null,
            "left": null,
            "margin": null,
            "max_height": null,
            "max_width": null,
            "min_height": null,
            "min_width": null,
            "object_fit": null,
            "object_position": null,
            "order": null,
            "overflow": null,
            "overflow_x": null,
            "overflow_y": null,
            "padding": null,
            "right": null,
            "top": null,
            "visibility": null,
            "width": null
          }
        },
        "ca00217cdbeb46f1b284bdfa4b50d6e1": {
          "model_module": "@jupyter-widgets/controls",
          "model_module_version": "1.5.0",
          "model_name": "DescriptionStyleModel",
          "state": {
            "_model_module": "@jupyter-widgets/controls",
            "_model_module_version": "1.5.0",
            "_model_name": "DescriptionStyleModel",
            "_view_count": null,
            "_view_module": "@jupyter-widgets/base",
            "_view_module_version": "1.2.0",
            "_view_name": "StyleView",
            "description_width": ""
          }
        },
        "ca1e23759298416b939ebb8b3e1d5538": {
          "model_module": "@jupyter-widgets/controls",
          "model_module_version": "1.5.0",
          "model_name": "ProgressStyleModel",
          "state": {
            "_model_module": "@jupyter-widgets/controls",
            "_model_module_version": "1.5.0",
            "_model_name": "ProgressStyleModel",
            "_view_count": null,
            "_view_module": "@jupyter-widgets/base",
            "_view_module_version": "1.2.0",
            "_view_name": "StyleView",
            "bar_color": null,
            "description_width": ""
          }
        },
        "ca23d35031f34f5fb867df55a0f61a08": {
          "model_module": "@jupyter-widgets/controls",
          "model_module_version": "1.5.0",
          "model_name": "FloatProgressModel",
          "state": {
            "_dom_classes": [],
            "_model_module": "@jupyter-widgets/controls",
            "_model_module_version": "1.5.0",
            "_model_name": "FloatProgressModel",
            "_view_count": null,
            "_view_module": "@jupyter-widgets/controls",
            "_view_module_version": "1.5.0",
            "_view_name": "ProgressView",
            "bar_style": "success",
            "description": "",
            "description_tooltip": null,
            "layout": "IPY_MODEL_2102b4f2da6143d4b39bc5d82796b9c8",
            "max": 3453,
            "min": 0,
            "orientation": "horizontal",
            "style": "IPY_MODEL_8e16a9f33bd7417e85ae46b676a61d8d",
            "value": 3453
          }
        },
        "ca7893865fff415f96b042c6cbd5904c": {
          "model_module": "@jupyter-widgets/controls",
          "model_module_version": "1.5.0",
          "model_name": "HTMLModel",
          "state": {
            "_dom_classes": [],
            "_model_module": "@jupyter-widgets/controls",
            "_model_module_version": "1.5.0",
            "_model_name": "HTMLModel",
            "_view_count": null,
            "_view_module": "@jupyter-widgets/controls",
            "_view_module_version": "1.5.0",
            "_view_name": "HTMLView",
            "description": "",
            "description_tooltip": null,
            "layout": "IPY_MODEL_181e26da59174240a9999520ee035a5c",
            "placeholder": "​",
            "style": "IPY_MODEL_16acb247a1ff4fd0b362cfd08b0f23ec",
            "value": " 283k/283k [00:00&lt;00:00, 845kB/s]"
          }
        },
        "cb40f1c8480a460b82f0c729bfa62636": {
          "model_module": "@jupyter-widgets/controls",
          "model_module_version": "1.5.0",
          "model_name": "HBoxModel",
          "state": {
            "_dom_classes": [],
            "_model_module": "@jupyter-widgets/controls",
            "_model_module_version": "1.5.0",
            "_model_name": "HBoxModel",
            "_view_count": null,
            "_view_module": "@jupyter-widgets/controls",
            "_view_module_version": "1.5.0",
            "_view_name": "HBoxView",
            "box_style": "",
            "children": [
              "IPY_MODEL_3ab66a9356694b7082e78786e22c08a2",
              "IPY_MODEL_2e4153caa0ba49a78ca8df81133f836c",
              "IPY_MODEL_e4b09023851949398dc8e92088150a54"
            ],
            "layout": "IPY_MODEL_101858b70a1846b0a7bc86f2cdf3a369"
          }
        },
        "cfa7139aa2694dd4b45329d21a16de50": {
          "model_module": "@jupyter-widgets/base",
          "model_module_version": "1.2.0",
          "model_name": "LayoutModel",
          "state": {
            "_model_module": "@jupyter-widgets/base",
            "_model_module_version": "1.2.0",
            "_model_name": "LayoutModel",
            "_view_count": null,
            "_view_module": "@jupyter-widgets/base",
            "_view_module_version": "1.2.0",
            "_view_name": "LayoutView",
            "align_content": null,
            "align_items": null,
            "align_self": null,
            "border": null,
            "bottom": null,
            "display": null,
            "flex": null,
            "flex_flow": null,
            "grid_area": null,
            "grid_auto_columns": null,
            "grid_auto_flow": null,
            "grid_auto_rows": null,
            "grid_column": null,
            "grid_gap": null,
            "grid_row": null,
            "grid_template_areas": null,
            "grid_template_columns": null,
            "grid_template_rows": null,
            "height": null,
            "justify_content": null,
            "justify_items": null,
            "left": null,
            "margin": null,
            "max_height": null,
            "max_width": null,
            "min_height": null,
            "min_width": null,
            "object_fit": null,
            "object_position": null,
            "order": null,
            "overflow": null,
            "overflow_x": null,
            "overflow_y": null,
            "padding": null,
            "right": null,
            "top": null,
            "visibility": null,
            "width": null
          }
        },
        "cfe6f0ed2466414fbc0cff5241e86a3d": {
          "model_module": "@jupyter-widgets/controls",
          "model_module_version": "1.5.0",
          "model_name": "DescriptionStyleModel",
          "state": {
            "_model_module": "@jupyter-widgets/controls",
            "_model_module_version": "1.5.0",
            "_model_name": "DescriptionStyleModel",
            "_view_count": null,
            "_view_module": "@jupyter-widgets/base",
            "_view_module_version": "1.2.0",
            "_view_name": "StyleView",
            "description_width": ""
          }
        },
        "d049c7a037d549fe8fbedccd46873129": {
          "model_module": "@jupyter-widgets/base",
          "model_module_version": "1.2.0",
          "model_name": "LayoutModel",
          "state": {
            "_model_module": "@jupyter-widgets/base",
            "_model_module_version": "1.2.0",
            "_model_name": "LayoutModel",
            "_view_count": null,
            "_view_module": "@jupyter-widgets/base",
            "_view_module_version": "1.2.0",
            "_view_name": "LayoutView",
            "align_content": null,
            "align_items": null,
            "align_self": null,
            "border": null,
            "bottom": null,
            "display": null,
            "flex": null,
            "flex_flow": null,
            "grid_area": null,
            "grid_auto_columns": null,
            "grid_auto_flow": null,
            "grid_auto_rows": null,
            "grid_column": null,
            "grid_gap": null,
            "grid_row": null,
            "grid_template_areas": null,
            "grid_template_columns": null,
            "grid_template_rows": null,
            "height": null,
            "justify_content": null,
            "justify_items": null,
            "left": null,
            "margin": null,
            "max_height": null,
            "max_width": null,
            "min_height": null,
            "min_width": null,
            "object_fit": null,
            "object_position": null,
            "order": null,
            "overflow": null,
            "overflow_x": null,
            "overflow_y": null,
            "padding": null,
            "right": null,
            "top": null,
            "visibility": null,
            "width": null
          }
        },
        "d28a065b2ea349ff9f7ea8424aa1f262": {
          "model_module": "@jupyter-widgets/base",
          "model_module_version": "1.2.0",
          "model_name": "LayoutModel",
          "state": {
            "_model_module": "@jupyter-widgets/base",
            "_model_module_version": "1.2.0",
            "_model_name": "LayoutModel",
            "_view_count": null,
            "_view_module": "@jupyter-widgets/base",
            "_view_module_version": "1.2.0",
            "_view_name": "LayoutView",
            "align_content": null,
            "align_items": null,
            "align_self": null,
            "border": null,
            "bottom": null,
            "display": null,
            "flex": null,
            "flex_flow": null,
            "grid_area": null,
            "grid_auto_columns": null,
            "grid_auto_flow": null,
            "grid_auto_rows": null,
            "grid_column": null,
            "grid_gap": null,
            "grid_row": null,
            "grid_template_areas": null,
            "grid_template_columns": null,
            "grid_template_rows": null,
            "height": null,
            "justify_content": null,
            "justify_items": null,
            "left": null,
            "margin": null,
            "max_height": null,
            "max_width": null,
            "min_height": null,
            "min_width": null,
            "object_fit": null,
            "object_position": null,
            "order": null,
            "overflow": null,
            "overflow_x": null,
            "overflow_y": null,
            "padding": null,
            "right": null,
            "top": null,
            "visibility": null,
            "width": null
          }
        },
        "d3efa9f02b9d4225a7f7e1c3a007e536": {
          "model_module": "@jupyter-widgets/controls",
          "model_module_version": "1.5.0",
          "model_name": "ProgressStyleModel",
          "state": {
            "_model_module": "@jupyter-widgets/controls",
            "_model_module_version": "1.5.0",
            "_model_name": "ProgressStyleModel",
            "_view_count": null,
            "_view_module": "@jupyter-widgets/base",
            "_view_module_version": "1.2.0",
            "_view_name": "StyleView",
            "bar_color": null,
            "description_width": ""
          }
        },
        "d50e2835a3d34fb699f6a317d42d7318": {
          "model_module": "@jupyter-widgets/controls",
          "model_module_version": "1.5.0",
          "model_name": "HBoxModel",
          "state": {
            "_dom_classes": [],
            "_model_module": "@jupyter-widgets/controls",
            "_model_module_version": "1.5.0",
            "_model_name": "HBoxModel",
            "_view_count": null,
            "_view_module": "@jupyter-widgets/controls",
            "_view_module_version": "1.5.0",
            "_view_name": "HBoxView",
            "box_style": "",
            "children": [
              "IPY_MODEL_fe56ab6b6b4e49a69dbd4567f84770fb",
              "IPY_MODEL_7d0753fd498746059025f0ac57ae1b5e",
              "IPY_MODEL_17e7a48d8391420a919011b056f1b213"
            ],
            "layout": "IPY_MODEL_4f4547c92bfb44f9ae48057f06850640"
          }
        },
        "d641e90a212744199f7d98af7791e79e": {
          "model_module": "@jupyter-widgets/controls",
          "model_module_version": "1.5.0",
          "model_name": "HTMLModel",
          "state": {
            "_dom_classes": [],
            "_model_module": "@jupyter-widgets/controls",
            "_model_module_version": "1.5.0",
            "_model_name": "HTMLModel",
            "_view_count": null,
            "_view_module": "@jupyter-widgets/controls",
            "_view_module_version": "1.5.0",
            "_view_name": "HTMLView",
            "description": "",
            "description_tooltip": null,
            "layout": "IPY_MODEL_21a3f45ce81f4430bfa0dfda3969d9d0",
            "placeholder": "​",
            "style": "IPY_MODEL_8db7b271b6024c5dbf9c17ec222dd93a",
            "value": "Downloading data: 100%"
          }
        },
        "d683c8909f394c1c963cb30f12abae4b": {
          "model_module": "@jupyter-widgets/base",
          "model_module_version": "1.2.0",
          "model_name": "LayoutModel",
          "state": {
            "_model_module": "@jupyter-widgets/base",
            "_model_module_version": "1.2.0",
            "_model_name": "LayoutModel",
            "_view_count": null,
            "_view_module": "@jupyter-widgets/base",
            "_view_module_version": "1.2.0",
            "_view_name": "LayoutView",
            "align_content": null,
            "align_items": null,
            "align_self": null,
            "border": null,
            "bottom": null,
            "display": null,
            "flex": null,
            "flex_flow": null,
            "grid_area": null,
            "grid_auto_columns": null,
            "grid_auto_flow": null,
            "grid_auto_rows": null,
            "grid_column": null,
            "grid_gap": null,
            "grid_row": null,
            "grid_template_areas": null,
            "grid_template_columns": null,
            "grid_template_rows": null,
            "height": null,
            "justify_content": null,
            "justify_items": null,
            "left": null,
            "margin": null,
            "max_height": null,
            "max_width": null,
            "min_height": null,
            "min_width": null,
            "object_fit": null,
            "object_position": null,
            "order": null,
            "overflow": null,
            "overflow_x": null,
            "overflow_y": null,
            "padding": null,
            "right": null,
            "top": null,
            "visibility": null,
            "width": null
          }
        },
        "d693f0ba11944e7f8c5bc1a7159c85f9": {
          "model_module": "@jupyter-widgets/base",
          "model_module_version": "1.2.0",
          "model_name": "LayoutModel",
          "state": {
            "_model_module": "@jupyter-widgets/base",
            "_model_module_version": "1.2.0",
            "_model_name": "LayoutModel",
            "_view_count": null,
            "_view_module": "@jupyter-widgets/base",
            "_view_module_version": "1.2.0",
            "_view_name": "LayoutView",
            "align_content": null,
            "align_items": null,
            "align_self": null,
            "border": null,
            "bottom": null,
            "display": null,
            "flex": null,
            "flex_flow": null,
            "grid_area": null,
            "grid_auto_columns": null,
            "grid_auto_flow": null,
            "grid_auto_rows": null,
            "grid_column": null,
            "grid_gap": null,
            "grid_row": null,
            "grid_template_areas": null,
            "grid_template_columns": null,
            "grid_template_rows": null,
            "height": null,
            "justify_content": null,
            "justify_items": null,
            "left": null,
            "margin": null,
            "max_height": null,
            "max_width": null,
            "min_height": null,
            "min_width": null,
            "object_fit": null,
            "object_position": null,
            "order": null,
            "overflow": null,
            "overflow_x": null,
            "overflow_y": null,
            "padding": null,
            "right": null,
            "top": null,
            "visibility": null,
            "width": null
          }
        },
        "d94f7c6b4c874299854dfa90495ad550": {
          "model_module": "@jupyter-widgets/controls",
          "model_module_version": "1.5.0",
          "model_name": "HBoxModel",
          "state": {
            "_dom_classes": [],
            "_model_module": "@jupyter-widgets/controls",
            "_model_module_version": "1.5.0",
            "_model_name": "HBoxModel",
            "_view_count": null,
            "_view_module": "@jupyter-widgets/controls",
            "_view_module_version": "1.5.0",
            "_view_name": "HBoxView",
            "box_style": "",
            "children": [
              "IPY_MODEL_b43511af23c2499bb841866a5a68f1ef",
              "IPY_MODEL_6f559852c65246d095e3e215c5a9822f",
              "IPY_MODEL_15559040fe784a788f7b22318db88c7f"
            ],
            "layout": "IPY_MODEL_4bd9daf59897421dbc159f10f7bf5443"
          }
        },
        "da99f48993ee4c168b2076ae7a22861f": {
          "model_module": "@jupyter-widgets/base",
          "model_module_version": "1.2.0",
          "model_name": "LayoutModel",
          "state": {
            "_model_module": "@jupyter-widgets/base",
            "_model_module_version": "1.2.0",
            "_model_name": "LayoutModel",
            "_view_count": null,
            "_view_module": "@jupyter-widgets/base",
            "_view_module_version": "1.2.0",
            "_view_name": "LayoutView",
            "align_content": null,
            "align_items": null,
            "align_self": null,
            "border": null,
            "bottom": null,
            "display": null,
            "flex": null,
            "flex_flow": null,
            "grid_area": null,
            "grid_auto_columns": null,
            "grid_auto_flow": null,
            "grid_auto_rows": null,
            "grid_column": null,
            "grid_gap": null,
            "grid_row": null,
            "grid_template_areas": null,
            "grid_template_columns": null,
            "grid_template_rows": null,
            "height": null,
            "justify_content": null,
            "justify_items": null,
            "left": null,
            "margin": null,
            "max_height": null,
            "max_width": null,
            "min_height": null,
            "min_width": null,
            "object_fit": null,
            "object_position": null,
            "order": null,
            "overflow": null,
            "overflow_x": null,
            "overflow_y": null,
            "padding": null,
            "right": null,
            "top": null,
            "visibility": null,
            "width": null
          }
        },
        "dbccc8a6cef746e08bde588a4ca26ad9": {
          "model_module": "@jupyter-widgets/controls",
          "model_module_version": "1.5.0",
          "model_name": "FloatProgressModel",
          "state": {
            "_dom_classes": [],
            "_model_module": "@jupyter-widgets/controls",
            "_model_module_version": "1.5.0",
            "_model_name": "FloatProgressModel",
            "_view_count": null,
            "_view_module": "@jupyter-widgets/controls",
            "_view_module_version": "1.5.0",
            "_view_name": "ProgressView",
            "bar_style": "success",
            "description": "",
            "description_tooltip": null,
            "layout": "IPY_MODEL_8104fefb54a44c6b8f43a3ad07eab6b1",
            "max": 4203,
            "min": 0,
            "orientation": "horizontal",
            "style": "IPY_MODEL_ae4f5b7dba2e448fab44fb5ddd5462dc",
            "value": 4203
          }
        },
        "dde04c787f4a4e8cb0d8094614a42377": {
          "model_module": "@jupyter-widgets/base",
          "model_module_version": "1.2.0",
          "model_name": "LayoutModel",
          "state": {
            "_model_module": "@jupyter-widgets/base",
            "_model_module_version": "1.2.0",
            "_model_name": "LayoutModel",
            "_view_count": null,
            "_view_module": "@jupyter-widgets/base",
            "_view_module_version": "1.2.0",
            "_view_name": "LayoutView",
            "align_content": null,
            "align_items": null,
            "align_self": null,
            "border": null,
            "bottom": null,
            "display": null,
            "flex": null,
            "flex_flow": null,
            "grid_area": null,
            "grid_auto_columns": null,
            "grid_auto_flow": null,
            "grid_auto_rows": null,
            "grid_column": null,
            "grid_gap": null,
            "grid_row": null,
            "grid_template_areas": null,
            "grid_template_columns": null,
            "grid_template_rows": null,
            "height": null,
            "justify_content": null,
            "justify_items": null,
            "left": null,
            "margin": null,
            "max_height": null,
            "max_width": null,
            "min_height": null,
            "min_width": null,
            "object_fit": null,
            "object_position": null,
            "order": null,
            "overflow": null,
            "overflow_x": null,
            "overflow_y": null,
            "padding": null,
            "right": null,
            "top": null,
            "visibility": null,
            "width": null
          }
        },
        "e07368c90ef548aa8e54e3106b9df600": {
          "model_module": "@jupyter-widgets/controls",
          "model_module_version": "1.5.0",
          "model_name": "DescriptionStyleModel",
          "state": {
            "_model_module": "@jupyter-widgets/controls",
            "_model_module_version": "1.5.0",
            "_model_name": "DescriptionStyleModel",
            "_view_count": null,
            "_view_module": "@jupyter-widgets/base",
            "_view_module_version": "1.2.0",
            "_view_name": "StyleView",
            "description_width": ""
          }
        },
        "e0cb0280423445fea1451c1ad172563a": {
          "model_module": "@jupyter-widgets/controls",
          "model_module_version": "1.5.0",
          "model_name": "HBoxModel",
          "state": {
            "_dom_classes": [],
            "_model_module": "@jupyter-widgets/controls",
            "_model_module_version": "1.5.0",
            "_model_name": "HBoxModel",
            "_view_count": null,
            "_view_module": "@jupyter-widgets/controls",
            "_view_module_version": "1.5.0",
            "_view_name": "HBoxView",
            "box_style": "",
            "children": [
              "IPY_MODEL_e7ddc30ab7144cea86703de76a657c44",
              "IPY_MODEL_772a296129b744f1a900c1c131ec66f1",
              "IPY_MODEL_489a4337053342d09e1925547d0999f7"
            ],
            "layout": "IPY_MODEL_089c3e6b5ef043fc991627fb0c5ec04f"
          }
        },
        "e4b09023851949398dc8e92088150a54": {
          "model_module": "@jupyter-widgets/controls",
          "model_module_version": "1.5.0",
          "model_name": "HTMLModel",
          "state": {
            "_dom_classes": [],
            "_model_module": "@jupyter-widgets/controls",
            "_model_module_version": "1.5.0",
            "_model_name": "HTMLModel",
            "_view_count": null,
            "_view_module": "@jupyter-widgets/controls",
            "_view_module_version": "1.5.0",
            "_view_name": "HTMLView",
            "description": "",
            "description_tooltip": null,
            "layout": "IPY_MODEL_b257eadf7fe748908231ae49fd18f084",
            "placeholder": "​",
            "style": "IPY_MODEL_cfe6f0ed2466414fbc0cff5241e86a3d",
            "value": " 203621/203621 [01:29&lt;00:00, 1186.03 examples/s]"
          }
        },
        "e6013f778a6e4851ae56acffbd4e0d74": {
          "model_module": "@jupyter-widgets/controls",
          "model_module_version": "1.5.0",
          "model_name": "FloatProgressModel",
          "state": {
            "_dom_classes": [],
            "_model_module": "@jupyter-widgets/controls",
            "_model_module_version": "1.5.0",
            "_model_name": "FloatProgressModel",
            "_view_count": null,
            "_view_module": "@jupyter-widgets/controls",
            "_view_module_version": "1.5.0",
            "_view_name": "ProgressView",
            "bar_style": "success",
            "description": "",
            "description_tooltip": null,
            "layout": "IPY_MODEL_5558da787ca240d4a90cc924f15b9f8b",
            "max": 283307,
            "min": 0,
            "orientation": "horizontal",
            "style": "IPY_MODEL_a8530e4977094ee2b8ba29de3778e6ce",
            "value": 283307
          }
        },
        "e7ddc30ab7144cea86703de76a657c44": {
          "model_module": "@jupyter-widgets/controls",
          "model_module_version": "1.5.0",
          "model_name": "HTMLModel",
          "state": {
            "_dom_classes": [],
            "_model_module": "@jupyter-widgets/controls",
            "_model_module_version": "1.5.0",
            "_model_name": "HTMLModel",
            "_view_count": null,
            "_view_module": "@jupyter-widgets/controls",
            "_view_module_version": "1.5.0",
            "_view_name": "HTMLView",
            "description": "",
            "description_tooltip": null,
            "layout": "IPY_MODEL_77bd75f759f248059864f8654a55f596",
            "placeholder": "​",
            "style": "IPY_MODEL_ca00217cdbeb46f1b284bdfa4b50d6e1",
            "value": "Map (num_proc=4): 100%"
          }
        },
        "e85560080b6c47d7a6169dfd76389ecf": {
          "model_module": "@jupyter-widgets/base",
          "model_module_version": "1.2.0",
          "model_name": "LayoutModel",
          "state": {
            "_model_module": "@jupyter-widgets/base",
            "_model_module_version": "1.2.0",
            "_model_name": "LayoutModel",
            "_view_count": null,
            "_view_module": "@jupyter-widgets/base",
            "_view_module_version": "1.2.0",
            "_view_name": "LayoutView",
            "align_content": null,
            "align_items": null,
            "align_self": null,
            "border": null,
            "bottom": null,
            "display": null,
            "flex": null,
            "flex_flow": null,
            "grid_area": null,
            "grid_auto_columns": null,
            "grid_auto_flow": null,
            "grid_auto_rows": null,
            "grid_column": null,
            "grid_gap": null,
            "grid_row": null,
            "grid_template_areas": null,
            "grid_template_columns": null,
            "grid_template_rows": null,
            "height": null,
            "justify_content": null,
            "justify_items": null,
            "left": null,
            "margin": null,
            "max_height": null,
            "max_width": null,
            "min_height": null,
            "min_width": null,
            "object_fit": null,
            "object_position": null,
            "order": null,
            "overflow": null,
            "overflow_x": null,
            "overflow_y": null,
            "padding": null,
            "right": null,
            "top": null,
            "visibility": null,
            "width": null
          }
        },
        "f1f90b6362c54e9f835c40ff50c54fef": {
          "model_module": "@jupyter-widgets/controls",
          "model_module_version": "1.5.0",
          "model_name": "ProgressStyleModel",
          "state": {
            "_model_module": "@jupyter-widgets/controls",
            "_model_module_version": "1.5.0",
            "_model_name": "ProgressStyleModel",
            "_view_count": null,
            "_view_module": "@jupyter-widgets/base",
            "_view_module_version": "1.2.0",
            "_view_name": "StyleView",
            "bar_color": null,
            "description_width": ""
          }
        },
        "f5a98279218c40ee92c0b084a81c43ae": {
          "model_module": "@jupyter-widgets/base",
          "model_module_version": "1.2.0",
          "model_name": "LayoutModel",
          "state": {
            "_model_module": "@jupyter-widgets/base",
            "_model_module_version": "1.2.0",
            "_model_name": "LayoutModel",
            "_view_count": null,
            "_view_module": "@jupyter-widgets/base",
            "_view_module_version": "1.2.0",
            "_view_name": "LayoutView",
            "align_content": null,
            "align_items": null,
            "align_self": null,
            "border": null,
            "bottom": null,
            "display": null,
            "flex": null,
            "flex_flow": null,
            "grid_area": null,
            "grid_auto_columns": null,
            "grid_auto_flow": null,
            "grid_auto_rows": null,
            "grid_column": null,
            "grid_gap": null,
            "grid_row": null,
            "grid_template_areas": null,
            "grid_template_columns": null,
            "grid_template_rows": null,
            "height": null,
            "justify_content": null,
            "justify_items": null,
            "left": null,
            "margin": null,
            "max_height": null,
            "max_width": null,
            "min_height": null,
            "min_width": null,
            "object_fit": null,
            "object_position": null,
            "order": null,
            "overflow": null,
            "overflow_x": null,
            "overflow_y": null,
            "padding": null,
            "right": null,
            "top": null,
            "visibility": null,
            "width": null
          }
        },
        "fa09cfcce89e44f2abde7df1fb70c593": {
          "model_module": "@jupyter-widgets/controls",
          "model_module_version": "1.5.0",
          "model_name": "ProgressStyleModel",
          "state": {
            "_model_module": "@jupyter-widgets/controls",
            "_model_module_version": "1.5.0",
            "_model_name": "ProgressStyleModel",
            "_view_count": null,
            "_view_module": "@jupyter-widgets/base",
            "_view_module_version": "1.2.0",
            "_view_name": "StyleView",
            "bar_color": null,
            "description_width": ""
          }
        },
        "fafddeaf3c594e01866277b2a590f53e": {
          "model_module": "@jupyter-widgets/base",
          "model_module_version": "1.2.0",
          "model_name": "LayoutModel",
          "state": {
            "_model_module": "@jupyter-widgets/base",
            "_model_module_version": "1.2.0",
            "_model_name": "LayoutModel",
            "_view_count": null,
            "_view_module": "@jupyter-widgets/base",
            "_view_module_version": "1.2.0",
            "_view_name": "LayoutView",
            "align_content": null,
            "align_items": null,
            "align_self": null,
            "border": null,
            "bottom": null,
            "display": null,
            "flex": null,
            "flex_flow": null,
            "grid_area": null,
            "grid_auto_columns": null,
            "grid_auto_flow": null,
            "grid_auto_rows": null,
            "grid_column": null,
            "grid_gap": null,
            "grid_row": null,
            "grid_template_areas": null,
            "grid_template_columns": null,
            "grid_template_rows": null,
            "height": null,
            "justify_content": null,
            "justify_items": null,
            "left": null,
            "margin": null,
            "max_height": null,
            "max_width": null,
            "min_height": null,
            "min_width": null,
            "object_fit": null,
            "object_position": null,
            "order": null,
            "overflow": null,
            "overflow_x": null,
            "overflow_y": null,
            "padding": null,
            "right": null,
            "top": null,
            "visibility": null,
            "width": null
          }
        },
        "fd65ed9d7f8e43c083334c70096ab97f": {
          "model_module": "@jupyter-widgets/controls",
          "model_module_version": "1.5.0",
          "model_name": "HBoxModel",
          "state": {
            "_dom_classes": [],
            "_model_module": "@jupyter-widgets/controls",
            "_model_module_version": "1.5.0",
            "_model_name": "HBoxModel",
            "_view_count": null,
            "_view_module": "@jupyter-widgets/controls",
            "_view_module_version": "1.5.0",
            "_view_name": "HBoxView",
            "box_style": "",
            "children": [
              "IPY_MODEL_69c38d47a26d45cfb977e77f963d571e",
              "IPY_MODEL_7ec7d73c10ea4605b756cdc888987a8d",
              "IPY_MODEL_654e236e93cd467a98e28a2aca9f2feb"
            ],
            "layout": "IPY_MODEL_60690be8d9ee41769a5cbdb7d6950c92"
          }
        },
        "fe56ab6b6b4e49a69dbd4567f84770fb": {
          "model_module": "@jupyter-widgets/controls",
          "model_module_version": "1.5.0",
          "model_name": "HTMLModel",
          "state": {
            "_dom_classes": [],
            "_model_module": "@jupyter-widgets/controls",
            "_model_module_version": "1.5.0",
            "_model_name": "HTMLModel",
            "_view_count": null,
            "_view_module": "@jupyter-widgets/controls",
            "_view_module_version": "1.5.0",
            "_view_name": "HTMLView",
            "description": "",
            "description_tooltip": null,
            "layout": "IPY_MODEL_3379e0e31d8b4910a59f088055aac1fd",
            "placeholder": "​",
            "style": "IPY_MODEL_37919e0b5832450b8691c01dff07237d",
            "value": "Map: 100%"
          }
        },
        "fed0221314094363a37114517e917dcf": {
          "model_module": "@jupyter-widgets/controls",
          "model_module_version": "1.5.0",
          "model_name": "FloatProgressModel",
          "state": {
            "_dom_classes": [],
            "_model_module": "@jupyter-widgets/controls",
            "_model_module_version": "1.5.0",
            "_model_name": "FloatProgressModel",
            "_view_count": null,
            "_view_module": "@jupyter-widgets/controls",
            "_view_module_version": "1.5.0",
            "_view_name": "ProgressView",
            "bar_style": "success",
            "description": "",
            "description_tooltip": null,
            "layout": "IPY_MODEL_5bb9cded71ae4cc5901e27fe1f9b7566",
            "max": 1227788,
            "min": 0,
            "orientation": "horizontal",
            "style": "IPY_MODEL_622e5f4f4ed9471fa78a6652eb1b9812",
            "value": 1227788
          }
        }
      }
    }
  },
  "nbformat": 4,
  "nbformat_minor": 0
}
